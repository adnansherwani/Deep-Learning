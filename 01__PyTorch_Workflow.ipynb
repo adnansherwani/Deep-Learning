{
  "nbformat": 4,
  "nbformat_minor": 0,
  "metadata": {
    "colab": {
      "provenance": [],
      "mount_file_id": "1n8-5jFDF2xoz2pxn9TIEE0CCEQq-pTmq",
      "authorship_tag": "ABX9TyO/i7uUxwZT21NfwwYgHZRi",
      "include_colab_link": true
    },
    "kernelspec": {
      "name": "python3",
      "display_name": "Python 3"
    },
    "language_info": {
      "name": "python"
    }
  },
  "cells": [
    {
      "cell_type": "markdown",
      "metadata": {
        "id": "view-in-github",
        "colab_type": "text"
      },
      "source": [
        "<a href=\"https://colab.research.google.com/github/adnansherwani/Deep-Learning/blob/main/01__PyTorch_Workflow.ipynb\" target=\"_parent\"><img src=\"https://colab.research.google.com/assets/colab-badge.svg\" alt=\"Open In Colab\"/></a>"
      ]
    },
    {
      "cell_type": "markdown",
      "source": [
        "# PyTorch Workflow\n",
        "\n",
        "Resources:\n",
        "* PyTorch Document\n",
        "* mrdburke github :  https://github.com/mrdbourke/pytorch-deep-learning/blob/main/01_pytorch_workflow.ipynb\n",
        "* https://www.learnpytorch.io/01_pytorch_workflow/\n"
      ],
      "metadata": {
        "id": "b5l5WS65YMh3"
      }
    },
    {
      "cell_type": "code",
      "execution_count": 11,
      "metadata": {
        "colab": {
          "base_uri": "https://localhost:8080/",
          "height": 35
        },
        "id": "0Nq-fn_tXB1W",
        "outputId": "db751815-7bb0-40ec-9960-f8e82b83b179"
      },
      "outputs": [
        {
          "output_type": "execute_result",
          "data": {
            "text/plain": [
              "'2.4.1+cu121'"
            ],
            "application/vnd.google.colaboratory.intrinsic+json": {
              "type": "string"
            }
          },
          "metadata": {},
          "execution_count": 11
        }
      ],
      "source": [
        "import torch\n",
        "from torch import nn # nn contains all of PyTorch's Building blocks for the neural networks [link: https://pytorch.org/docs/stable/nn.html#module-torch.nn]\n",
        "import pandas as pd\n",
        "import numpy as np\n",
        "import matplotlib.pyplot as plt\n",
        "pd.set_option('display.max_columns', None)\n",
        "from sklearn.preprocessing import LabelEncoder, StandardScaler\n",
        "\n",
        "#PyTorch Version\n",
        "torch.__version__"
      ]
    },
    {
      "cell_type": "code",
      "source": [
        "PyTorch_Workflow = {1 : 'Data (Prepare & Load)',\n",
        "                         2 : 'Build Model',\n",
        "                         3 : 'Training/Fitting the model',\n",
        "                         4 : 'Prediction/Evaluating a model (Interference)',\n",
        "                         5 : 'Saving & Loading a model',\n",
        "                         6 : 'Putting it all together'\n",
        "                         }\n",
        "\n",
        "PyTorch_Workflow"
      ],
      "metadata": {
        "colab": {
          "base_uri": "https://localhost:8080/"
        },
        "id": "7COvJfvxXZCX",
        "outputId": "e0e31feb-9c0b-4147-bfef-850faf95c885"
      },
      "execution_count": 12,
      "outputs": [
        {
          "output_type": "execute_result",
          "data": {
            "text/plain": [
              "{1: 'Data (Prepare & Load)',\n",
              " 2: 'Build Model',\n",
              " 3: 'Training/Fitting the model',\n",
              " 4: 'Prediction/Evaluating a model (Interference)',\n",
              " 5: 'Saving & Loading a model',\n",
              " 6: 'Putting it all together'}"
            ]
          },
          "metadata": {},
          "execution_count": 12
        }
      ]
    },
    {
      "cell_type": "markdown",
      "source": [
        "## 1. Data (Prepare & Load)\n",
        "\n",
        "Data can be anything:\n",
        "\n",
        "* Excel (Formatted data)\n",
        "* Images\n",
        "* Audio\n",
        "* Video\n",
        "* DNA\n",
        "* Text / PDF\n",
        "\n",
        "Machine Learning / Deep Learning consist of two parts:\n",
        "1. Get Data into numerical representations.\n",
        "2. Build models to learn patterns in that numerical representations\n",
        "\n",
        "Simple Linear Regression Formula :  `Y = mX + b`\n",
        "\n",
        "where `Y` is the response (dependent) variable,\n",
        "`X` is the predictor (independent) variable,\n",
        "`m` is the estimated slope, and\n",
        "`b` is the estimated intercept"
      ],
      "metadata": {
        "id": "QFUqX_hWZ5UW"
      }
    },
    {
      "cell_type": "code",
      "source": [
        "# Create known parameters\n",
        "weights = 0.7\n",
        "bias = 0.3\n",
        "\n",
        "#Create Data\n",
        "start = 0\n",
        "end = 1\n",
        "step = 0.02\n",
        "X = torch.arange(start, end, step).unsqueeze(dim=1)\n",
        "y = weights * X + bias # weights = m(slope), X = X (Independent Variable), bias = b (Y-intercept), Y = Response / Dependent Variable\n",
        "\n",
        "X[:10], y[:10]"
      ],
      "metadata": {
        "colab": {
          "base_uri": "https://localhost:8080/"
        },
        "id": "Vkz-N_-Ub6Hk",
        "outputId": "50b7740c-4f5d-4192-9052-5ac5ec32b2f1"
      },
      "execution_count": 13,
      "outputs": [
        {
          "output_type": "execute_result",
          "data": {
            "text/plain": [
              "(tensor([[0.0000],\n",
              "         [0.0200],\n",
              "         [0.0400],\n",
              "         [0.0600],\n",
              "         [0.0800],\n",
              "         [0.1000],\n",
              "         [0.1200],\n",
              "         [0.1400],\n",
              "         [0.1600],\n",
              "         [0.1800]]),\n",
              " tensor([[0.3000],\n",
              "         [0.3140],\n",
              "         [0.3280],\n",
              "         [0.3420],\n",
              "         [0.3560],\n",
              "         [0.3700],\n",
              "         [0.3840],\n",
              "         [0.3980],\n",
              "         [0.4120],\n",
              "         [0.4260]]))"
            ]
          },
          "metadata": {},
          "execution_count": 13
        }
      ]
    },
    {
      "cell_type": "code",
      "source": [
        "len(X), len(y)"
      ],
      "metadata": {
        "colab": {
          "base_uri": "https://localhost:8080/"
        },
        "id": "8JnyC3gHb6FE",
        "outputId": "681a77e4-c119-49a9-9ff1-3537494666e0"
      },
      "execution_count": 14,
      "outputs": [
        {
          "output_type": "execute_result",
          "data": {
            "text/plain": [
              "(50, 50)"
            ]
          },
          "metadata": {},
          "execution_count": 14
        }
      ]
    },
    {
      "cell_type": "code",
      "source": [
        "# Splitting training and testing\n",
        "from sklearn.model_selection import train_test_split\n",
        "X_train, X_test, y_train, y_test = train_test_split(X, y, train_size=0.7, random_state=42)"
      ],
      "metadata": {
        "id": "tVwSA8QQb6Cg"
      },
      "execution_count": 15,
      "outputs": []
    },
    {
      "cell_type": "code",
      "source": [
        "X_train.shape, X_test.shape, y_train.shape, y_test.shape"
      ],
      "metadata": {
        "colab": {
          "base_uri": "https://localhost:8080/"
        },
        "id": "c87TL8xTb5_k",
        "outputId": "ce87452a-8fa9-4548-961e-d4b0be6eee7d"
      },
      "execution_count": 16,
      "outputs": [
        {
          "output_type": "execute_result",
          "data": {
            "text/plain": [
              "(torch.Size([35, 1]),\n",
              " torch.Size([15, 1]),\n",
              " torch.Size([35, 1]),\n",
              " torch.Size([15, 1]))"
            ]
          },
          "metadata": {},
          "execution_count": 16
        }
      ]
    },
    {
      "cell_type": "code",
      "source": [
        "len(X_train), len(X_test), len(y_train), len(y_test)"
      ],
      "metadata": {
        "colab": {
          "base_uri": "https://localhost:8080/"
        },
        "id": "RTSdCkkgb59A",
        "outputId": "29e090f9-c51c-4ed4-d37e-ac5f3a58880a"
      },
      "execution_count": 17,
      "outputs": [
        {
          "output_type": "execute_result",
          "data": {
            "text/plain": [
              "(35, 15, 35, 15)"
            ]
          },
          "metadata": {},
          "execution_count": 17
        }
      ]
    },
    {
      "cell_type": "code",
      "source": [
        "def plot_predictions(train_data=X_train,\n",
        "                     train_labels=y_train,\n",
        "                     test_data=X_test,\n",
        "                     test_labels=y_test,\n",
        "                     predictions=None):\n",
        "    plt.figure(figsize=(10, 7))\n",
        "    plt.scatter(train_data, train_labels, c='b', label='Training Data')\n",
        "    plt.scatter(test_data, test_labels, c='g', label='Testing Data')\n",
        "\n",
        "    if predictions is not None:\n",
        "        plt.scatter(test_data, predictions, c='r', label='Predictions')\n",
        "    plt.legend()\n",
        "    plt.show()"
      ],
      "metadata": {
        "id": "e-zohGfwb56Z"
      },
      "execution_count": 18,
      "outputs": []
    },
    {
      "cell_type": "code",
      "source": [
        "plot_predictions()"
      ],
      "metadata": {
        "colab": {
          "base_uri": "https://localhost:8080/",
          "height": 599
        },
        "id": "5pklyFlqb55G",
        "outputId": "e94070ef-e8fb-4b74-80da-0c94aa8333dd"
      },
      "execution_count": 19,
      "outputs": [
        {
          "output_type": "display_data",
          "data": {
            "text/plain": [
              "<Figure size 1000x700 with 1 Axes>"
            ],
            "image/png": "[encoded data removed]"
          },
          "metadata": {}
        }
      ]
    },
    {
      "cell_type": "markdown",
      "source": [
        "## 2. Build Model\n",
        "\n",
        "PyTorch Model:\n",
        "1. Simple Linear Regression\n",
        "\n",
        "i. What does the model do?\n",
        "  * Starts with random values (weight & bias)\n",
        "  * Look at the training data and adjust the random values to better represent (or get closer to ) the ideal values (the orifinal weight = 0.7 and bias = 0.3 which we uised to create the data)\n",
        "\n",
        "ii. How does it do it?\n",
        "  * Gradient Descent\n",
        "  * Back Propagation"
      ],
      "metadata": {
        "id": "fG6b1xlob54E"
      }
    },
    {
      "cell_type": "code",
      "source": [
        "# Create Linear Regression Model Class\n",
        "\n",
        "class LinearRegressionModel(nn.Module):\n",
        "    def __init__(self):\n",
        "        super().__init__()\n",
        "        self.weights = nn.Parameter(torch.randn(1,\n",
        "                                                requires_grad=True,\n",
        "                                                dtype=torch.float))\n",
        "        self.bias = nn.Parameter(torch.randn(1,\n",
        "                                             requires_grad=True,\n",
        "                                             dtype=torch.float))\n",
        "        # Forward Defines the computation in the model\n",
        "    def forward(self, x: torch.Tensor) -> torch.Tensor:\n",
        "        return self.weights * x + self.bias"
      ],
      "metadata": {
        "id": "XXk_OwWob5yr"
      },
      "execution_count": 20,
      "outputs": []
    },
    {
      "cell_type": "markdown",
      "source": [
        "PyTorch model building essentials\n",
        "PyTorch has four (give or take) essential modules you can use to create almost any kind of neural network you can imagine.\n",
        "\n",
        "They are `torch.nn`, `torch.optim`, `torch.utils.data.Dataset` and `torch.utils.data.DataLoader`. For now, we'll focus on the first two and get to the other two later (though you may be able to guess what they do).\n",
        "\n",
        "PyTorch module\tWhat does it do?\n",
        "\n",
        "\n",
        "`torch.nn`\tContains all of the building blocks for computational graphs (essentially a series of computations executed in a particular way).\n",
        "\n",
        "`torch.nn.Parameter`\tStores tensors that can be used with nn.Module. If requires_grad=True gradients (used for updating model parameters via gradient descent) are calculated automatically, this is often referred to as \"autograd\".\n",
        "\n",
        "`torch.nn.Module`\tThe base class for all neural network modules, all the building blocks for neural networks are subclasses. If you're building a neural network in PyTorch, your models should subclass nn.Module. Requires a forward() method be implemented.\n",
        "\n",
        "`torch.optim`\tContains various optimization algorithms (these tell the model parameters stored in nn.Parameter how to best change to improve gradient descent and in turn reduce the loss).\n",
        "\n",
        "`def forward()`\tAll nn.Module subclasses require a forward() method, this defines the computation that will take place on the data passed to the particular nn.Module (e.g. the linear regression formula above).\n",
        "If the above sounds complex, think of like this, almost everything in a PyTorch neural network comes from torch.nn,\n",
        "\n",
        "`nn.Module` contains the larger building blocks (layers)\n",
        "nn.Parameter contains the smaller parameters like weights and biases (put these together to make nn.Module(s))\n",
        "`forward()` tells the larger blocks how to make calculations on inputs (tensors full of data) within `nn.Module(s)`\n",
        "`torch.optim` contains optimization methods on how to improve the parameters within `nn.Parameter` to better represent input data"
      ],
      "metadata": {
        "id": "oQWHvUh0otfH"
      }
    },
    {
      "cell_type": "markdown",
      "source": [
        "### Checking the content of our model\n",
        "\n",
        "As we have create a model, let's check the content of our model\n",
        "We can check the model's parameters (weights and biases) using `.parameters()`"
      ],
      "metadata": {
        "id": "bhHElqRGmcv-"
      }
    },
    {
      "cell_type": "code",
      "source": [
        "#Random Seed\n",
        "torch.manual_seed(42)\n",
        "\n",
        "# Create an instance of the model (this is the subclass of nn.Module)\n",
        "model_0 = LinearRegressionModel()\n",
        "\n",
        "# Check the model parameters\n",
        "list(model_0.parameters())"
      ],
      "metadata": {
        "colab": {
          "base_uri": "https://localhost:8080/"
        },
        "id": "MfjFdFyUb5uw",
        "outputId": "8196dc43-7fde-46e7-c5bb-842107aef547"
      },
      "execution_count": 25,
      "outputs": [
        {
          "output_type": "execute_result",
          "data": {
            "text/plain": [
              "[Parameter containing:\n",
              " tensor([0.3367], requires_grad=True),\n",
              " Parameter containing:\n",
              " tensor([0.1288], requires_grad=True)]"
            ]
          },
          "metadata": {},
          "execution_count": 25
        }
      ]
    },
    {
      "cell_type": "code",
      "source": [
        "#List state dicts\n",
        "model_0.state_dict()"
      ],
      "metadata": {
        "colab": {
          "base_uri": "https://localhost:8080/"
        },
        "id": "FGt74IXCb5p5",
        "outputId": "712ce7b4-d406-419c-98b8-4d7101c54545"
      },
      "execution_count": 26,
      "outputs": [
        {
          "output_type": "execute_result",
          "data": {
            "text/plain": [
              "OrderedDict([('weights', tensor([0.3367])), ('bias', tensor([0.1288]))])"
            ]
          },
          "metadata": {},
          "execution_count": 26
        }
      ]
    },
    {
      "cell_type": "markdown",
      "source": [
        "### Making Prediction using `torch.inference_model()`\n",
        "\n",
        "To check the model prediction power, check how well it predicts y_test based on X_test.\n",
        "When we call data through our model_0, we're going to run it through the `forward()` method."
      ],
      "metadata": {
        "id": "VoReaU6Yb5nU"
      }
    },
    {
      "cell_type": "code",
      "source": [
        "# Prediction with model\n",
        "with torch.inference_mode():\n",
        "    y_preds = model_0(X_test)\n",
        "\n",
        "print(y_preds)"
      ],
      "metadata": {
        "colab": {
          "base_uri": "https://localhost:8080/"
        },
        "id": "tQK6lKC4b5k9",
        "outputId": "746868c9-6a53-4bff-b80c-89e13a67a615"
      },
      "execution_count": 27,
      "outputs": [
        {
          "output_type": "stream",
          "name": "stdout",
          "text": [
            "tensor([[0.2163],\n",
            "        [0.3914],\n",
            "        [0.3308],\n",
            "        [0.4318],\n",
            "        [0.2433],\n",
            "        [0.4520],\n",
            "        [0.3039],\n",
            "        [0.2972],\n",
            "        [0.3443],\n",
            "        [0.2568],\n",
            "        [0.2096],\n",
            "        [0.1557],\n",
            "        [0.3780],\n",
            "        [0.1827],\n",
            "        [0.1490]])\n"
          ]
        }
      ]
    },
    {
      "cell_type": "code",
      "source": [
        "plot_predictions(predictions=y_preds)"
      ],
      "metadata": {
        "colab": {
          "base_uri": "https://localhost:8080/",
          "height": 599
        },
        "id": "oclnhLNooOhC",
        "outputId": "bfb867f0-8c3e-4434-d4d8-39c61c7adcd5"
      },
      "execution_count": 28,
      "outputs": [
        {
          "output_type": "display_data",
          "data": {
            "text/plain": [
              "<Figure size 1000x700 with 1 Axes>"
            ],
            "image/png": "[encoded data removed]"
          },
          "metadata": {}
        }
      ]
    },
    {
      "cell_type": "markdown",
      "source": [
        "## 3. Train Model\n",
        "\n",
        "The whole idea of training is for a model to learn the patterns in the data and move from some unknown *parameters* (maybe random) to some known parameters i.e., from poor representation to good representation.\n",
        "\n",
        "One way to measure, how poor or how wrong your model predictions are is to use `loss function`\n",
        "\n",
        "**Loss Function** :  A function to measure how wrong your model's predictions are to the ideal output, lower is better.\n",
        "\n",
        "**Optimizer** : Takes into account the loss of a model and adjusts the model's parameter (e.g weight and bias in our case) to improve the loss function.\n",
        "\n",
        "And specifically for PyTorch, we need:\n",
        "* A training loop\n",
        "* A testing loop"
      ],
      "metadata": {
        "id": "BTDtYll6oSHg"
      }
    },
    {
      "cell_type": "code",
      "source": [
        "# Setup a loss function\n",
        "loss_fn = nn.L1Loss()\n",
        "\n",
        "# Setup an optimizer\n",
        "optimizer = torch.optim.SGD(params=model_0.parameters(),\n",
        "                            lr=0.01)"
      ],
      "metadata": {
        "id": "aiuxX1b1qY4g"
      },
      "execution_count": null,
      "outputs": []
    },
    {
      "cell_type": "markdown",
      "source": [
        "### Bulinding a training loop (and a testing loop) in PyTorch\n",
        "\n",
        "Things yoou need  in a training loop:\n",
        " 1. Loop through data\n",
        " 2. Forward pass\n",
        " 3. Calculate the loss\n",
        " 4. Optimizer zero grad\n",
        " 5. Loss backward\n",
        " 6. Optimizer step"
      ],
      "metadata": {
        "id": "ahIvuwADqY1m"
      }
    },
    {
      "cell_type": "code",
      "source": [],
      "metadata": {
        "id": "SgW1diEGqYy9"
      },
      "execution_count": null,
      "outputs": []
    },
    {
      "cell_type": "code",
      "source": [],
      "metadata": {
        "id": "2YLa7mMDqYwE"
      },
      "execution_count": null,
      "outputs": []
    },
    {
      "cell_type": "code",
      "source": [],
      "metadata": {
        "id": "a6qlocuMqYtw"
      },
      "execution_count": null,
      "outputs": []
    }
  ]
}