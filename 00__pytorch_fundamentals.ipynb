{
  "nbformat": 4,
  "nbformat_minor": 0,
  "metadata": {
    "colab": {
      "provenance": [],
      "gpuType": "T4",
      "authorship_tag": "ABX9TyPbxff5Ox7rnt+vaGnhRogn",
      "include_colab_link": true
    },
    "kernelspec": {
      "name": "python3",
      "display_name": "Python 3"
    },
    "language_info": {
      "name": "python"
    },
    "accelerator": "GPU"
  },
  "cells": [
    {
      "cell_type": "markdown",
      "metadata": {
        "id": "view-in-github",
        "colab_type": "text"
      },
      "source": [
        "<a href=\"https://colab.research.google.com/github/adnansherwani/Deep-Learning/blob/main/00__pytorch_fundamentals.ipynb\" target=\"_parent\"><img src=\"https://colab.research.google.com/assets/colab-badge.svg\" alt=\"Open In Colab\"/></a>"
      ]
    },
    {
      "cell_type": "markdown",
      "source": [
        "# 00. PyTorch Fundamentals\n",
        "\n",
        "*   Resource Notebook: https://www.learnpytorch.io/00_pytorch_fundamentals/\n",
        "*   Documents:  https://pytorch.org/docs/stable/index.html"
      ],
      "metadata": {
        "id": "iE940RiKeUJO"
      }
    },
    {
      "cell_type": "code",
      "source": [
        "import torch\n",
        "import pandas as pd\n",
        "import numpy as np\n",
        "import matplotlib.pyplot as plt\n",
        "import seaborn as sns"
      ],
      "metadata": {
        "id": "foxKC_0AhfUs"
      },
      "execution_count": 1,
      "outputs": []
    },
    {
      "cell_type": "code",
      "source": [
        "print(torch.__version__)"
      ],
      "metadata": {
        "colab": {
          "base_uri": "https://localhost:8080/"
        },
        "id": "3-UvkPwBhik7",
        "outputId": "90ba4476-abe2-4697-d7c4-46660eaa5720"
      },
      "execution_count": 2,
      "outputs": [
        {
          "output_type": "stream",
          "name": "stdout",
          "text": [
            "2.4.1+cu121\n"
          ]
        }
      ]
    },
    {
      "cell_type": "code",
      "source": [
        "torch.cuda.is_available()"
      ],
      "metadata": {
        "colab": {
          "base_uri": "https://localhost:8080/"
        },
        "id": "Y9kQtL3ehnaV",
        "outputId": "40f88ffe-df51-467f-8d2e-2fc64913fb0f"
      },
      "execution_count": 3,
      "outputs": [
        {
          "output_type": "execute_result",
          "data": {
            "text/plain": [
              "False"
            ]
          },
          "metadata": {},
          "execution_count": 3
        }
      ]
    },
    {
      "cell_type": "code",
      "source": [
        "!nvidia-smi"
      ],
      "metadata": {
        "colab": {
          "base_uri": "https://localhost:8080/"
        },
        "id": "Q2pqrxHle7-7",
        "outputId": "5822885f-0722-4f64-e6cb-20b905a1c882"
      },
      "execution_count": 4,
      "outputs": [
        {
          "output_type": "stream",
          "name": "stdout",
          "text": [
            "/bin/bash: line 1: nvidia-smi: command not found\n"
          ]
        }
      ]
    },
    {
      "cell_type": "markdown",
      "source": [
        "## Introduction to tensors\n",
        "  \n",
        "  ### Creating Tensors\n",
        "\n",
        "  PyTorch Tensors are created using torch.Tensor() - https://pytorch.org/docs/stable/tensors.html\n"
      ],
      "metadata": {
        "id": "j-6j6c5VgPN0"
      }
    },
    {
      "cell_type": "code",
      "source": [
        "scalar = torch.tensor(7)\n",
        "scalar"
      ],
      "metadata": {
        "colab": {
          "base_uri": "https://localhost:8080/"
        },
        "id": "ee8oS8obhAxM",
        "outputId": "e70ea98a-9ffe-4136-f757-2fae2c462d75"
      },
      "execution_count": 5,
      "outputs": [
        {
          "output_type": "execute_result",
          "data": {
            "text/plain": [
              "tensor(7)"
            ]
          },
          "metadata": {},
          "execution_count": 5
        }
      ]
    },
    {
      "cell_type": "code",
      "source": [
        "scalar.ndim"
      ],
      "metadata": {
        "colab": {
          "base_uri": "https://localhost:8080/"
        },
        "id": "yRVhE-NYhq8D",
        "outputId": "bfa2335a-2ff3-4cbb-f47f-a2cf4e5983ae"
      },
      "execution_count": 6,
      "outputs": [
        {
          "output_type": "execute_result",
          "data": {
            "text/plain": [
              "0"
            ]
          },
          "metadata": {},
          "execution_count": 6
        }
      ]
    },
    {
      "cell_type": "code",
      "source": [
        "# Getting the python tensor as int\n",
        "scalar.item()"
      ],
      "metadata": {
        "colab": {
          "base_uri": "https://localhost:8080/"
        },
        "id": "3H_D25GkjMTD",
        "outputId": "457526e2-2930-44b4-c044-02d76623b2b5"
      },
      "execution_count": 7,
      "outputs": [
        {
          "output_type": "execute_result",
          "data": {
            "text/plain": [
              "7"
            ]
          },
          "metadata": {},
          "execution_count": 7
        }
      ]
    },
    {
      "cell_type": "code",
      "source": [
        "# Vector\n",
        "vector = torch.tensor(data=[1, 2])\n",
        "vector"
      ],
      "metadata": {
        "colab": {
          "base_uri": "https://localhost:8080/"
        },
        "id": "LPLUKKeujWDa",
        "outputId": "41142164-ff94-46eb-8ba1-39b26af664bb"
      },
      "execution_count": 8,
      "outputs": [
        {
          "output_type": "execute_result",
          "data": {
            "text/plain": [
              "tensor([1, 2])"
            ]
          },
          "metadata": {},
          "execution_count": 8
        }
      ]
    },
    {
      "cell_type": "code",
      "source": [
        "vector.ndim"
      ],
      "metadata": {
        "colab": {
          "base_uri": "https://localhost:8080/"
        },
        "id": "1tpAFUPuT2ko",
        "outputId": "eaa61f01-10f5-456f-c45a-9e149cd030a6"
      },
      "execution_count": 9,
      "outputs": [
        {
          "output_type": "execute_result",
          "data": {
            "text/plain": [
              "1"
            ]
          },
          "metadata": {},
          "execution_count": 9
        }
      ]
    },
    {
      "cell_type": "code",
      "source": [
        "vector.shape"
      ],
      "metadata": {
        "colab": {
          "base_uri": "https://localhost:8080/"
        },
        "id": "JhL6EejlUEfe",
        "outputId": "32210886-fb59-479a-de14-a148c4315bae"
      },
      "execution_count": 10,
      "outputs": [
        {
          "output_type": "execute_result",
          "data": {
            "text/plain": [
              "torch.Size([2])"
            ]
          },
          "metadata": {},
          "execution_count": 10
        }
      ]
    },
    {
      "cell_type": "code",
      "source": [
        "MATRIX = torch.tensor(data=[[2,4],\n",
        "                            [6,7]])\n",
        "MATRIX"
      ],
      "metadata": {
        "colab": {
          "base_uri": "https://localhost:8080/"
        },
        "id": "oQ8E_S7aUIot",
        "outputId": "52174c54-4769-4a72-ed95-0090b1e73a3f"
      },
      "execution_count": 11,
      "outputs": [
        {
          "output_type": "execute_result",
          "data": {
            "text/plain": [
              "tensor([[2, 4],\n",
              "        [6, 7]])"
            ]
          },
          "metadata": {},
          "execution_count": 11
        }
      ]
    },
    {
      "cell_type": "code",
      "source": [
        "MATRIX.ndim"
      ],
      "metadata": {
        "colab": {
          "base_uri": "https://localhost:8080/"
        },
        "id": "pFyGnjYtUbUu",
        "outputId": "262a21f7-dd13-453f-c78a-01156149a1d1"
      },
      "execution_count": 12,
      "outputs": [
        {
          "output_type": "execute_result",
          "data": {
            "text/plain": [
              "2"
            ]
          },
          "metadata": {},
          "execution_count": 12
        }
      ]
    },
    {
      "cell_type": "code",
      "source": [
        "MATRIX[1]"
      ],
      "metadata": {
        "colab": {
          "base_uri": "https://localhost:8080/"
        },
        "id": "ooptcoO7UgOd",
        "outputId": "29159535-7059-4e37-de30-7a287b6d121a"
      },
      "execution_count": 13,
      "outputs": [
        {
          "output_type": "execute_result",
          "data": {
            "text/plain": [
              "tensor([6, 7])"
            ]
          },
          "metadata": {},
          "execution_count": 13
        }
      ]
    },
    {
      "cell_type": "code",
      "source": [
        "MATRIX.shape"
      ],
      "metadata": {
        "colab": {
          "base_uri": "https://localhost:8080/"
        },
        "id": "Zl306ZCOUnVt",
        "outputId": "ada1374e-e151-4b96-f42b-93287fb8c3f0"
      },
      "execution_count": 14,
      "outputs": [
        {
          "output_type": "execute_result",
          "data": {
            "text/plain": [
              "torch.Size([2, 2])"
            ]
          },
          "metadata": {},
          "execution_count": 14
        }
      ]
    },
    {
      "cell_type": "code",
      "source": [
        "TENSOR = torch.tensor(data=[[[[9,4,6],\n",
        "                             [4,7,4],\n",
        "                             [8,4,7]],\n",
        "                            [[3,5,6],\n",
        "                            [5,7,9],\n",
        "                            [1,8,0]]],\n",
        "                            [[[2,4,5],\n",
        "                             [4,5,6],\n",
        "                             [6,7,5]],\n",
        "                            [[3,4,6],\n",
        "                             [3,5,6],\n",
        "                             [5,3,4]]],\n",
        "                            [[[1,4,5],\n",
        "                             [4,7,6],\n",
        "                             [9,7,4]],\n",
        "                             [[3,5,7],\n",
        "                              [6,8,3],\n",
        "                              [7,7,5]]]])"
      ],
      "metadata": {
        "id": "hKQLKR65Uqjl"
      },
      "execution_count": 15,
      "outputs": []
    },
    {
      "cell_type": "code",
      "source": [
        "TENSOR"
      ],
      "metadata": {
        "colab": {
          "base_uri": "https://localhost:8080/"
        },
        "id": "sb6e9NFFU3Md",
        "outputId": "7f36e7c1-2703-4501-a773-bd19ee0377f8"
      },
      "execution_count": 16,
      "outputs": [
        {
          "output_type": "execute_result",
          "data": {
            "text/plain": [
              "tensor([[[[9, 4, 6],\n",
              "          [4, 7, 4],\n",
              "          [8, 4, 7]],\n",
              "\n",
              "         [[3, 5, 6],\n",
              "          [5, 7, 9],\n",
              "          [1, 8, 0]]],\n",
              "\n",
              "\n",
              "        [[[2, 4, 5],\n",
              "          [4, 5, 6],\n",
              "          [6, 7, 5]],\n",
              "\n",
              "         [[3, 4, 6],\n",
              "          [3, 5, 6],\n",
              "          [5, 3, 4]]],\n",
              "\n",
              "\n",
              "        [[[1, 4, 5],\n",
              "          [4, 7, 6],\n",
              "          [9, 7, 4]],\n",
              "\n",
              "         [[3, 5, 7],\n",
              "          [6, 8, 3],\n",
              "          [7, 7, 5]]]])"
            ]
          },
          "metadata": {},
          "execution_count": 16
        }
      ]
    },
    {
      "cell_type": "code",
      "source": [
        "TENSOR.ndim"
      ],
      "metadata": {
        "colab": {
          "base_uri": "https://localhost:8080/"
        },
        "id": "5tBD_Gu6U4mN",
        "outputId": "51af3fb6-8d39-462e-8004-e2a1422d8de8"
      },
      "execution_count": 17,
      "outputs": [
        {
          "output_type": "execute_result",
          "data": {
            "text/plain": [
              "4"
            ]
          },
          "metadata": {},
          "execution_count": 17
        }
      ]
    },
    {
      "cell_type": "code",
      "source": [
        "TENSOR.shape"
      ],
      "metadata": {
        "colab": {
          "base_uri": "https://localhost:8080/"
        },
        "id": "LMWf93DOU7uV",
        "outputId": "7168d258-0268-4fb3-c930-f04c4c56f543"
      },
      "execution_count": 18,
      "outputs": [
        {
          "output_type": "execute_result",
          "data": {
            "text/plain": [
              "torch.Size([3, 2, 3, 3])"
            ]
          },
          "metadata": {},
          "execution_count": 18
        }
      ]
    },
    {
      "cell_type": "code",
      "source": [
        "TENSOR[0][1][0][1]"
      ],
      "metadata": {
        "colab": {
          "base_uri": "https://localhost:8080/"
        },
        "id": "WkdARaqqU_wg",
        "outputId": "2098cb18-29ec-4bca-9538-51e1ca912942"
      },
      "execution_count": 19,
      "outputs": [
        {
          "output_type": "execute_result",
          "data": {
            "text/plain": [
              "tensor(5)"
            ]
          },
          "metadata": {},
          "execution_count": 19
        }
      ]
    },
    {
      "cell_type": "code",
      "source": [
        "TENSOR_1 = torch.randint(low=0, high=9, size=(3,3,3,3,3))"
      ],
      "metadata": {
        "id": "Gi4GOQltVB68"
      },
      "execution_count": 20,
      "outputs": []
    },
    {
      "cell_type": "code",
      "source": [
        "TENSOR_1.item"
      ],
      "metadata": {
        "colab": {
          "base_uri": "https://localhost:8080/"
        },
        "id": "JfFlJenFsS3T",
        "outputId": "eee376db-529f-418d-d6f4-7f14b9beb3a7"
      },
      "execution_count": 21,
      "outputs": [
        {
          "output_type": "execute_result",
          "data": {
            "text/plain": [
              "<function Tensor.item>"
            ]
          },
          "metadata": {},
          "execution_count": 21
        }
      ]
    },
    {
      "cell_type": "markdown",
      "source": [
        "## Random Tensors\n",
        "\n",
        "Random tensors are important because the way many neural networks learn is that they stary with a tensor full of random numbers and then adjust those randome number to better represent the data.\n",
        "\n",
        "`Start with random numbers -> look at the data -> update random numbers -> look at the data -> update random number`\n",
        "\n",
        "Torch Random tensors - https://pytorch.org/docs/stable/generated/torch.rand.html"
      ],
      "metadata": {
        "id": "hkoWyQMiz0fF"
      }
    },
    {
      "cell_type": "code",
      "source": [
        "### Create a random tensor of size or shape (3,4)\n",
        "\n",
        "rand_tensor = torch.rand(4, 3)\n",
        "rand_tensor"
      ],
      "metadata": {
        "id": "qmgG3UFZsUbR",
        "colab": {
          "base_uri": "https://localhost:8080/"
        },
        "outputId": "64d97280-502d-4f2e-d2ca-31f26be8ec56"
      },
      "execution_count": 22,
      "outputs": [
        {
          "output_type": "execute_result",
          "data": {
            "text/plain": [
              "tensor([[0.1424, 0.6874, 0.8801],\n",
              "        [0.3301, 0.7382, 0.3719],\n",
              "        [0.6819, 0.1060, 0.0977],\n",
              "        [0.9948, 0.3820, 0.3904]])"
            ]
          },
          "metadata": {},
          "execution_count": 22
        }
      ]
    },
    {
      "cell_type": "code",
      "source": [
        "rand_tensor.ndim"
      ],
      "metadata": {
        "colab": {
          "base_uri": "https://localhost:8080/"
        },
        "id": "3CykgqGH059p",
        "outputId": "5cb0526d-9294-4623-d185-83addbc13932"
      },
      "execution_count": 23,
      "outputs": [
        {
          "output_type": "execute_result",
          "data": {
            "text/plain": [
              "2"
            ]
          },
          "metadata": {},
          "execution_count": 23
        }
      ]
    },
    {
      "cell_type": "code",
      "source": [
        "## Create a random tensor with similar shape to an image tensor\n",
        "\n",
        "rand_image_s_tensor = torch.rand(size=(224, 224, 3)) ## height, width. color channels (RGB)\n",
        "rand_image_s_tensor.shape, rand_image_s_tensor.ndim"
      ],
      "metadata": {
        "colab": {
          "base_uri": "https://localhost:8080/"
        },
        "id": "4OLsr7EI1YiA",
        "outputId": "f7969e23-7b64-46a9-d014-296062460921"
      },
      "execution_count": 24,
      "outputs": [
        {
          "output_type": "execute_result",
          "data": {
            "text/plain": [
              "(torch.Size([224, 224, 3]), 3)"
            ]
          },
          "metadata": {},
          "execution_count": 24
        }
      ]
    },
    {
      "cell_type": "markdown",
      "source": [
        "#### Zeros and Ones tensors"
      ],
      "metadata": {
        "id": "uTF5oMtS3zRo"
      }
    },
    {
      "cell_type": "code",
      "source": [
        "# Create a tensor of all zeros & ones\n",
        "\n",
        "zeros = torch.zeros(size=(3, 4))\n",
        "zeros"
      ],
      "metadata": {
        "colab": {
          "base_uri": "https://localhost:8080/"
        },
        "id": "HA0kC2px1d5v",
        "outputId": "7986c283-82f2-44a7-d706-ad868b261a0c"
      },
      "execution_count": 25,
      "outputs": [
        {
          "output_type": "execute_result",
          "data": {
            "text/plain": [
              "tensor([[0., 0., 0., 0.],\n",
              "        [0., 0., 0., 0.],\n",
              "        [0., 0., 0., 0.]])"
            ]
          },
          "metadata": {},
          "execution_count": 25
        }
      ]
    },
    {
      "cell_type": "code",
      "source": [
        "ones = torch.ones(size=(3, 4))\n",
        "ones"
      ],
      "metadata": {
        "colab": {
          "base_uri": "https://localhost:8080/"
        },
        "id": "OvyWsv2G4IBp",
        "outputId": "9b57e758-23b0-46f7-e13d-881e659e0e8d"
      },
      "execution_count": 26,
      "outputs": [
        {
          "output_type": "execute_result",
          "data": {
            "text/plain": [
              "tensor([[1., 1., 1., 1.],\n",
              "        [1., 1., 1., 1.],\n",
              "        [1., 1., 1., 1.]])"
            ]
          },
          "metadata": {},
          "execution_count": 26
        }
      ]
    },
    {
      "cell_type": "code",
      "source": [
        "ones.dtype"
      ],
      "metadata": {
        "colab": {
          "base_uri": "https://localhost:8080/"
        },
        "id": "oMon09AX4Ta9",
        "outputId": "2799fff0-3748-443e-8c53-b0971b308fa8"
      },
      "execution_count": 27,
      "outputs": [
        {
          "output_type": "execute_result",
          "data": {
            "text/plain": [
              "torch.float32"
            ]
          },
          "metadata": {},
          "execution_count": 27
        }
      ]
    },
    {
      "cell_type": "markdown",
      "source": [
        "### Create a range of tensors and tensors like"
      ],
      "metadata": {
        "id": "YwQeqXUW4kuT"
      }
    },
    {
      "cell_type": "code",
      "source": [
        "# Use torch.range()\n",
        "one_to_ten = torch.arange(start=0, end=11, step=1, dtype= None)\n",
        "one_to_ten"
      ],
      "metadata": {
        "colab": {
          "base_uri": "https://localhost:8080/"
        },
        "id": "gMJdxauB4W8F",
        "outputId": "98ae2315-71f9-4983-f440-683e80191598"
      },
      "execution_count": 28,
      "outputs": [
        {
          "output_type": "execute_result",
          "data": {
            "text/plain": [
              "tensor([ 0,  1,  2,  3,  4,  5,  6,  7,  8,  9, 10])"
            ]
          },
          "metadata": {},
          "execution_count": 28
        }
      ]
    },
    {
      "cell_type": "code",
      "source": [
        "# Creating tensors like\n",
        "ten_zeros = torch.zeros_like(input=rand_tensor[1][0])\n",
        "ten_zeros"
      ],
      "metadata": {
        "colab": {
          "base_uri": "https://localhost:8080/"
        },
        "id": "l1H8nB6J4vjP",
        "outputId": "772e7d6c-261d-41cc-acfc-32b6d8b652d3"
      },
      "execution_count": 29,
      "outputs": [
        {
          "output_type": "execute_result",
          "data": {
            "text/plain": [
              "tensor(0.)"
            ]
          },
          "metadata": {},
          "execution_count": 29
        }
      ]
    },
    {
      "cell_type": "code",
      "source": [
        "rand_tensor*ten_zeros"
      ],
      "metadata": {
        "colab": {
          "base_uri": "https://localhost:8080/"
        },
        "id": "_wbQrK2n6Ls1",
        "outputId": "4e63120d-b239-42c4-befe-c7f3a5e21e21"
      },
      "execution_count": 30,
      "outputs": [
        {
          "output_type": "execute_result",
          "data": {
            "text/plain": [
              "tensor([[0., 0., 0.],\n",
              "        [0., 0., 0.],\n",
              "        [0., 0., 0.],\n",
              "        [0., 0., 0.]])"
            ]
          },
          "metadata": {},
          "execution_count": 30
        }
      ]
    },
    {
      "cell_type": "markdown",
      "source": [
        "### Tensor Data Types\n",
        "\n",
        "**Note:** Tensor datatypes is one of the 3 big errors you'll face with Pytorch or datatypes.\n",
        "\n",
        "  1. Tensors not right datatype.\n",
        "  2. Tensors not right shape\n",
        "  3. Tensors not on the right device\n",
        "\n",
        "Tensor Datatypes: https://pytorch.org/docs/stable/tensors.html\n",
        "\n",
        "Precision Computer science : https://dbpedia.org/page/Precision_(computer_science)"
      ],
      "metadata": {
        "id": "tTv7ZiYA7N18"
      }
    },
    {
      "cell_type": "code",
      "source": [
        "# float 32 tensor\n",
        "float32_tensor = torch.tensor(data=[3.0, 6.0, 9.0],\n",
        "                              dtype=None,    #what datatypes is the tensor (e.g float)\n",
        "                              device=None,  # what device is the tensor on cpu or cuda\n",
        "                              requires_grad=False)   #whether or not to track gradients\n",
        "float32_tensor"
      ],
      "metadata": {
        "colab": {
          "base_uri": "https://localhost:8080/"
        },
        "id": "BL5L3Br66nsU",
        "outputId": "6b2276ee-d460-48d7-c8fe-8d74181b7d9b"
      },
      "execution_count": 31,
      "outputs": [
        {
          "output_type": "execute_result",
          "data": {
            "text/plain": [
              "tensor([3., 6., 9.])"
            ]
          },
          "metadata": {},
          "execution_count": 31
        }
      ]
    },
    {
      "cell_type": "code",
      "source": [
        "float32_tensor.dtype"
      ],
      "metadata": {
        "colab": {
          "base_uri": "https://localhost:8080/"
        },
        "id": "TEDNgsronrt9",
        "outputId": "079c7402-aed9-4acd-cda3-f6b7cf720722"
      },
      "execution_count": 32,
      "outputs": [
        {
          "output_type": "execute_result",
          "data": {
            "text/plain": [
              "torch.float32"
            ]
          },
          "metadata": {},
          "execution_count": 32
        }
      ]
    },
    {
      "cell_type": "code",
      "source": [
        "float16_tensor = float32_tensor.type(torch.float16)\n",
        "float16_tensor"
      ],
      "metadata": {
        "colab": {
          "base_uri": "https://localhost:8080/"
        },
        "id": "pdqGo8kKnzUq",
        "outputId": "3d4a4007-1f08-4b09-f322-afd7181a3b94"
      },
      "execution_count": 33,
      "outputs": [
        {
          "output_type": "execute_result",
          "data": {
            "text/plain": [
              "tensor([3., 6., 9.], dtype=torch.float16)"
            ]
          },
          "metadata": {},
          "execution_count": 33
        }
      ]
    },
    {
      "cell_type": "code",
      "source": [
        "((float32_tensor * float16_tensor * float32_tensor) + float32_tensor / float16_tensor).shape"
      ],
      "metadata": {
        "colab": {
          "base_uri": "https://localhost:8080/"
        },
        "id": "al9GQT97rxpB",
        "outputId": "8888c347-d20b-42c6-ac12-3ccaab4ecc32"
      },
      "execution_count": 34,
      "outputs": [
        {
          "output_type": "execute_result",
          "data": {
            "text/plain": [
              "torch.Size([3])"
            ]
          },
          "metadata": {},
          "execution_count": 34
        }
      ]
    },
    {
      "cell_type": "markdown",
      "source": [
        "### Getting Information from Tensor.\n",
        "\n",
        "  1. Tensors not right datatype - use `tensor.dtype`\n",
        "  2. Tensors not right shape - use `tensor.shape`\n",
        "  3. Tensors not on the right device - use `tensor.device`\n",
        "\n"
      ],
      "metadata": {
        "id": "t5U_IT2Puryn"
      }
    },
    {
      "cell_type": "code",
      "source": [
        "## Create random tensors.\n",
        "some_tensors = torch.rand(size=(2,3,3), dtype=torch.float16, device='cpu')"
      ],
      "metadata": {
        "id": "PKNVUg-Ru6Df"
      },
      "execution_count": 35,
      "outputs": []
    },
    {
      "cell_type": "code",
      "source": [
        "# Details of some_random tensors.\n",
        "\n",
        "print(some_tensors)\n",
        "print(f\"Datatype :{some_tensors.dtype}\")\n",
        "print(f\"Shape :{some_tensors.shape}\")\n",
        "print(f\"Device :{some_tensors.device}\")\n"
      ],
      "metadata": {
        "colab": {
          "base_uri": "https://localhost:8080/"
        },
        "id": "JnaUcJmhwyLl",
        "outputId": "bacc1722-8a68-4e2d-b035-96f0fe027d3f"
      },
      "execution_count": 36,
      "outputs": [
        {
          "output_type": "stream",
          "name": "stdout",
          "text": [
            "tensor([[[0.1147, 0.9419, 0.8267],\n",
            "         [0.8306, 0.9292, 0.9531],\n",
            "         [0.2046, 0.8354, 0.2871]],\n",
            "\n",
            "        [[0.6572, 0.2095, 0.9995],\n",
            "         [0.3711, 0.7646, 0.1523],\n",
            "         [0.0664, 0.6050, 0.0210]]], dtype=torch.float16)\n",
            "Datatype :torch.float16\n",
            "Shape :torch.Size([2, 3, 3])\n",
            "Device :cpu\n"
          ]
        }
      ]
    },
    {
      "cell_type": "markdown",
      "source": [
        "### Manipulating Tensors (tensor operations)\n",
        "\n",
        "Tensors operation includes:\n",
        " 1. Addition\n",
        " 2. Substraction\n",
        " 3. Multiplication (element-wise)\n",
        " 4.  Division\n",
        " 5. Matrix Multiplication"
      ],
      "metadata": {
        "id": "7sndWrRBxAGF"
      }
    },
    {
      "cell_type": "code",
      "source": [
        "# Create a tensor\n",
        "\n",
        "tensor = torch.tensor(data=[2,4,6])\n",
        "tensor + 3 #addition"
      ],
      "metadata": {
        "colab": {
          "base_uri": "https://localhost:8080/"
        },
        "id": "RRWI95yn0N6r",
        "outputId": "131ab0aa-1a3a-42cb-f52a-c0470de892f7"
      },
      "execution_count": 37,
      "outputs": [
        {
          "output_type": "execute_result",
          "data": {
            "text/plain": [
              "tensor([5, 7, 9])"
            ]
          },
          "metadata": {},
          "execution_count": 37
        }
      ]
    },
    {
      "cell_type": "code",
      "source": [
        "tensor * 10 # Mulitplication"
      ],
      "metadata": {
        "colab": {
          "base_uri": "https://localhost:8080/"
        },
        "id": "xKQgf7w90qL8",
        "outputId": "f10b1d0c-bf1a-45b4-98b0-2984fc3f8a20"
      },
      "execution_count": 38,
      "outputs": [
        {
          "output_type": "execute_result",
          "data": {
            "text/plain": [
              "tensor([20, 40, 60])"
            ]
          },
          "metadata": {},
          "execution_count": 38
        }
      ]
    },
    {
      "cell_type": "code",
      "source": [
        "tensor - 10 # Subtractions"
      ],
      "metadata": {
        "colab": {
          "base_uri": "https://localhost:8080/"
        },
        "id": "3bZ3_W5B04uM",
        "outputId": "08200668-8878-4486-b740-80e1cde89656"
      },
      "execution_count": 39,
      "outputs": [
        {
          "output_type": "execute_result",
          "data": {
            "text/plain": [
              "tensor([-8, -6, -4])"
            ]
          },
          "metadata": {},
          "execution_count": 39
        }
      ]
    },
    {
      "cell_type": "markdown",
      "source": [
        "\n",
        "### Matrix Multiplication\n",
        "\n",
        "Two main ways of performing multiplication in neural networks & deep learning.\n",
        "\n",
        "1. Element-wise\n",
        "2. Matrix Multiplication (dot product)\n",
        "\n",
        "More information: https://www.mathsisfun.com/algebra/matrix-multiplying.html\n",
        "\n",
        "**Note :** There are two main rules that performing matrix multiplication needs to satisfy:\n",
        "\n",
        "1.   The **inner dimensions** must match:\n",
        "\n",
        "  *   `(3, 2) * (3, 2)` won't work\n",
        "  *   `(2, 3) * (3, 2)` will work\n",
        "  *   `(3, 2) * (2, 3)` will work\n",
        "\n",
        "2.   The resulting matrix has the shape of the **outer dimensions:**\n",
        "\n",
        "  *   `(2, 3) * (3, 2)` -> shape `(2, 2)`\n",
        "  *   `(3, 2) * (2, 3)` -> shape  `(3, 3)`\n",
        "\n",
        "\n",
        "**Important :** For Matrix Multiplication, we have different alias for torch.matmul() such as\n",
        "  1. torch.mm\n",
        "  2. `@`\n",
        "\n",
        "\n",
        "\n",
        "\n",
        "\n"
      ],
      "metadata": {
        "id": "F3qM3dAw1ITe"
      }
    },
    {
      "cell_type": "code",
      "source": [
        "# Element wise multiplication\n",
        "\n",
        "print(tensor*tensor)"
      ],
      "metadata": {
        "colab": {
          "base_uri": "https://localhost:8080/"
        },
        "id": "LmCS-oFN2oQK",
        "outputId": "7f7d9661-b69f-4106-e104-65066c419d38"
      },
      "execution_count": 40,
      "outputs": [
        {
          "output_type": "stream",
          "name": "stdout",
          "text": [
            "tensor([ 4, 16, 36])\n"
          ]
        }
      ]
    },
    {
      "cell_type": "code",
      "source": [
        "# Matrix Maultiplication\n",
        "\n",
        "print(tensor, \"*\", tensor)"
      ],
      "metadata": {
        "colab": {
          "base_uri": "https://localhost:8080/"
        },
        "id": "aAy1WLup6qa5",
        "outputId": "57b2cb1a-1d5d-40e9-f029-a91d04834f76"
      },
      "execution_count": 41,
      "outputs": [
        {
          "output_type": "stream",
          "name": "stdout",
          "text": [
            "tensor([2, 4, 6]) * tensor([2, 4, 6])\n"
          ]
        }
      ]
    },
    {
      "cell_type": "code",
      "source": [
        "torch.matmul(input=tensor, other=tensor)"
      ],
      "metadata": {
        "colab": {
          "base_uri": "https://localhost:8080/"
        },
        "id": "sdmm5xWY7Cvh",
        "outputId": "873eeeb9-ddd4-4fbd-9f7f-380105f30b80"
      },
      "execution_count": 42,
      "outputs": [
        {
          "output_type": "execute_result",
          "data": {
            "text/plain": [
              "tensor(56)"
            ]
          },
          "metadata": {},
          "execution_count": 42
        }
      ]
    },
    {
      "cell_type": "code",
      "source": [
        "2*2 + 4*4+6*6"
      ],
      "metadata": {
        "colab": {
          "base_uri": "https://localhost:8080/"
        },
        "id": "EutcWFmt7P2Z",
        "outputId": "e39c2291-5d0b-4847-aba4-c927830499dc"
      },
      "execution_count": 43,
      "outputs": [
        {
          "output_type": "execute_result",
          "data": {
            "text/plain": [
              "56"
            ]
          },
          "metadata": {},
          "execution_count": 43
        }
      ]
    },
    {
      "cell_type": "code",
      "source": [
        "%%time\n",
        "value = 0\n",
        "for i in range(len(tensor)):\n",
        "  value += tensor[i]*tensor[i]\n",
        "print(value)"
      ],
      "metadata": {
        "colab": {
          "base_uri": "https://localhost:8080/"
        },
        "id": "6mDyZ1bP7s9K",
        "outputId": "6a9f4e58-164c-437a-f506-31d3d2cf7026"
      },
      "execution_count": 44,
      "outputs": [
        {
          "output_type": "stream",
          "name": "stdout",
          "text": [
            "tensor(56)\n",
            "CPU times: user 1.88 ms, sys: 0 ns, total: 1.88 ms\n",
            "Wall time: 2.77 ms\n"
          ]
        }
      ]
    },
    {
      "cell_type": "code",
      "source": [
        "%%time\n",
        "torch.matmul(tensor, tensor)"
      ],
      "metadata": {
        "colab": {
          "base_uri": "https://localhost:8080/"
        },
        "id": "DokdWiWx8nyw",
        "outputId": "0945d001-6cca-4bb6-e62d-0ff0c6fbd1ba"
      },
      "execution_count": 45,
      "outputs": [
        {
          "output_type": "stream",
          "name": "stdout",
          "text": [
            "CPU times: user 71 µs, sys: 12 µs, total: 83 µs\n",
            "Wall time: 88 µs\n"
          ]
        },
        {
          "output_type": "execute_result",
          "data": {
            "text/plain": [
              "tensor(56)"
            ]
          },
          "metadata": {},
          "execution_count": 45
        }
      ]
    },
    {
      "cell_type": "markdown",
      "source": [
        "### One of the most common errors in deep learning:  shape errors"
      ],
      "metadata": {
        "id": "yTQw5rkw83mg"
      }
    },
    {
      "cell_type": "code",
      "source": [
        "# shapes for matrix multiplication\n",
        "\n",
        "tensor_A  = torch.randint(low=1, high=10, size=(4, 3))\n",
        "tensor_A"
      ],
      "metadata": {
        "colab": {
          "base_uri": "https://localhost:8080/"
        },
        "id": "t6GiSOo2AkR_",
        "outputId": "2f228393-01d5-4554-9afc-f8e00145af15"
      },
      "execution_count": 49,
      "outputs": [
        {
          "output_type": "execute_result",
          "data": {
            "text/plain": [
              "tensor([[3, 9, 8],\n",
              "        [4, 3, 2],\n",
              "        [1, 4, 6],\n",
              "        [8, 3, 4]])"
            ]
          },
          "metadata": {},
          "execution_count": 49
        }
      ]
    },
    {
      "cell_type": "code",
      "source": [
        "tensor_B = torch.randint(low=1, high=10, size=(5, 3))\n",
        "tensor_B"
      ],
      "metadata": {
        "colab": {
          "base_uri": "https://localhost:8080/"
        },
        "id": "Czc6mEMkBM01",
        "outputId": "c95b093d-1de3-443d-a908-6ce9a6e5795a"
      },
      "execution_count": 50,
      "outputs": [
        {
          "output_type": "execute_result",
          "data": {
            "text/plain": [
              "tensor([[3, 1, 7],\n",
              "        [9, 2, 7],\n",
              "        [8, 8, 2],\n",
              "        [5, 1, 9],\n",
              "        [2, 9, 6]])"
            ]
          },
          "metadata": {},
          "execution_count": 50
        }
      ]
    },
    {
      "cell_type": "markdown",
      "source": [
        "To fix our tensor shape issues, we can manupulate the shape of one of our tensors using a **transpose**.\n",
        "\n",
        "A **TRANSPOSE** switches the axes or dimension of a given tensor."
      ],
      "metadata": {
        "id": "7ai9dQuxC7TK"
      }
    },
    {
      "cell_type": "code",
      "source": [
        "tensor_A @ tensor_B.T"
      ],
      "metadata": {
        "colab": {
          "base_uri": "https://localhost:8080/"
        },
        "id": "_h7pSL92BrOu",
        "outputId": "a84e2145-206b-4236-b449-8d9e968ccecc"
      },
      "execution_count": 51,
      "outputs": [
        {
          "output_type": "execute_result",
          "data": {
            "text/plain": [
              "tensor([[ 74, 101, 112,  96, 135],\n",
              "        [ 29,  56,  60,  41,  47],\n",
              "        [ 49,  59,  52,  63,  74],\n",
              "        [ 55, 106,  96,  79,  67]])"
            ]
          },
          "metadata": {},
          "execution_count": 51
        }
      ]
    },
    {
      "cell_type": "code",
      "source": [
        "# How the matrix multiplication operation works when tensor_B is transpose.\n",
        "\n",
        "print(f'Original Shapes : tensor_A = {tensor_A.shape} and tensor_B = {tensor_B.shape}')\n",
        "print(f'New Shapes : tensor_A = {tensor_A.shape} and tensor_B.T = {tensor_B.T.shape}')\n",
        "print('Output : \\n')\n",
        "Output = tensor_A@tensor_B.T\n",
        "print(Output)\n",
        "print(f'\\nOutput Shape = {Output.shape}')"
      ],
      "metadata": {
        "colab": {
          "base_uri": "https://localhost:8080/"
        },
        "id": "hIEjzHDbB0uN",
        "outputId": "898dddf1-30bd-41a4-bf0e-d0df1663bdfd"
      },
      "execution_count": 52,
      "outputs": [
        {
          "output_type": "stream",
          "name": "stdout",
          "text": [
            "Original Shapes : tensor_A = torch.Size([4, 3]) and tensor_B = torch.Size([5, 3])\n",
            "New Shapes : tensor_A = torch.Size([4, 3]) and tensor_B.T = torch.Size([3, 5])\n",
            "Output : \n",
            "\n",
            "tensor([[ 74, 101, 112,  96, 135],\n",
            "        [ 29,  56,  60,  41,  47],\n",
            "        [ 49,  59,  52,  63,  74],\n",
            "        [ 55, 106,  96,  79,  67]])\n",
            "\n",
            "Output Shape = torch.Size([4, 5])\n"
          ]
        }
      ]
    },
    {
      "cell_type": "markdown",
      "source": [
        "### Tensor Aggregation (Min, Max, Sum etc)"
      ],
      "metadata": {
        "id": "zHouUjTHdgoa"
      }
    },
    {
      "cell_type": "code",
      "source": [
        "# Create a tensor\n",
        "x = torch.arange(start=1, end=24, step=2)\n",
        "x"
      ],
      "metadata": {
        "colab": {
          "base_uri": "https://localhost:8080/"
        },
        "id": "NlhjYU1Ehv6e",
        "outputId": "cfd1b0c3-6cfb-4482-b585-e6f838d30b54"
      },
      "execution_count": 108,
      "outputs": [
        {
          "output_type": "execute_result",
          "data": {
            "text/plain": [
              "tensor([ 1,  3,  5,  7,  9, 11, 13, 15, 17, 19, 21, 23])"
            ]
          },
          "metadata": {},
          "execution_count": 108
        }
      ]
    },
    {
      "cell_type": "code",
      "source": [
        "# Min, Max, mean, sum\n",
        "print(f'Minimum : {torch.min(x)}')\n",
        "print(f'Maximum : {x.max()}')\n",
        "print(f'Mean : {torch.mean(x, dtype=torch.float16)}')\n",
        "print(f'sum : {x.sum()}')"
      ],
      "metadata": {
        "colab": {
          "base_uri": "https://localhost:8080/"
        },
        "id": "M0JQ8Dr2jkqX",
        "outputId": "22bd5c67-dabd-4280-c1b1-c124b969ef38"
      },
      "execution_count": 111,
      "outputs": [
        {
          "output_type": "stream",
          "name": "stdout",
          "text": [
            "Minimum : 1\n",
            "Maximum : 23\n",
            "Mean : 12.0\n",
            "sum : 144\n"
          ]
        }
      ]
    },
    {
      "cell_type": "markdown",
      "source": [
        "### Finding the positional min and max values"
      ],
      "metadata": {
        "id": "hnRPymezjxyI"
      }
    },
    {
      "cell_type": "code",
      "source": [
        "x"
      ],
      "metadata": {
        "colab": {
          "base_uri": "https://localhost:8080/"
        },
        "id": "0IXG1l2Hk05P",
        "outputId": "6f247d99-ba1c-413c-eb76-55aadfe2b8a0"
      },
      "execution_count": 112,
      "outputs": [
        {
          "output_type": "execute_result",
          "data": {
            "text/plain": [
              "tensor([ 1,  3,  5,  7,  9, 11, 13, 15, 17, 19, 21, 23])"
            ]
          },
          "metadata": {},
          "execution_count": 112
        }
      ]
    },
    {
      "cell_type": "code",
      "source": [
        "## Finding the position in tensor that has the minimum value with argmin() -> returns index position of target tensor where minimum value occurs\n",
        "x.argmin(), torch.argmin(x)"
      ],
      "metadata": {
        "colab": {
          "base_uri": "https://localhost:8080/"
        },
        "id": "bMBBsFohonF8",
        "outputId": "37a6f21b-fcec-41af-a109-ccaa495a6452"
      },
      "execution_count": 113,
      "outputs": [
        {
          "output_type": "execute_result",
          "data": {
            "text/plain": [
              "(tensor(0), tensor(0))"
            ]
          },
          "metadata": {},
          "execution_count": 113
        }
      ]
    },
    {
      "cell_type": "code",
      "source": [
        "xX = torch.randint(low=0, high=10, size=(1, 10))\n",
        "xX"
      ],
      "metadata": {
        "colab": {
          "base_uri": "https://localhost:8080/"
        },
        "id": "3aNjUgUKopt0",
        "outputId": "c0892cd4-4322-4e38-8137-f51131d9bfb7"
      },
      "execution_count": 114,
      "outputs": [
        {
          "output_type": "execute_result",
          "data": {
            "text/plain": [
              "tensor([[7, 8, 9, 6, 0, 2, 6, 1, 8, 5]])"
            ]
          },
          "metadata": {},
          "execution_count": 114
        }
      ]
    },
    {
      "cell_type": "code",
      "source": [
        "torch.argmax(x), x.argmax()"
      ],
      "metadata": {
        "colab": {
          "base_uri": "https://localhost:8080/"
        },
        "id": "5JlspEc1pLNI",
        "outputId": "46410c79-2004-4158-c662-3a1403ede987"
      },
      "execution_count": 91,
      "outputs": [
        {
          "output_type": "execute_result",
          "data": {
            "text/plain": [
              "(tensor(14), tensor(14))"
            ]
          },
          "metadata": {},
          "execution_count": 91
        }
      ]
    },
    {
      "cell_type": "markdown",
      "source": [
        "### Reshaping, Stacking, Squeezinf, and Unsqueezing tensors\n",
        "\n",
        "* Reshaping - reshapes an input tensor to a defined shape\n",
        "* View - Return a view of an input tensor of certain shape but keep the same memory as the original tensor.\n",
        "* Statcking - Combine multiple tensors on top of each other (vstack) or side by side (hstack).\n",
        "* Squeeze - Remove all `1` dimensions from a tensor.\n",
        "* Unsqueeze - add a `1` dimension to a target tensor.\n",
        "* Permute - Return a view of the input with dimension permuted (swapped) in a certain way.\n",
        "\n",
        "\n",
        "#### **Important Note :**"
      ],
      "metadata": {
        "id": "L0ZTOSr9peuU"
      }
    },
    {
      "cell_type": "code",
      "source": [
        "# Add an extra dimension (Reshaping)\n",
        "import torch\n",
        "x = torch.arange(start=0, end=16, step=2)\n",
        "x_reshaped = torch.reshape(input=x, shape=(1, 4, 2))\n",
        "x_reshaped, x, x_reshaped.shape, x.shape"
      ],
      "metadata": {
        "colab": {
          "base_uri": "https://localhost:8080/"
        },
        "id": "3uHIZg7vrCbr",
        "outputId": "e699fb85-c4cb-4605-aff6-ee4bfff5a376"
      },
      "execution_count": 121,
      "outputs": [
        {
          "output_type": "execute_result",
          "data": {
            "text/plain": [
              "(tensor([[[ 0,  2],\n",
              "          [ 4,  6],\n",
              "          [ 8, 10],\n",
              "          [12, 14]]]),\n",
              " tensor([ 0,  2,  4,  6,  8, 10, 12, 14]),\n",
              " torch.Size([1, 4, 2]),\n",
              " torch.Size([8]))"
            ]
          },
          "metadata": {},
          "execution_count": 121
        }
      ]
    },
    {
      "cell_type": "code",
      "source": [
        "x.shape, x.ndim"
      ],
      "metadata": {
        "colab": {
          "base_uri": "https://localhost:8080/"
        },
        "id": "8NgvVViQs_M1",
        "outputId": "e19620b1-e97e-4ba1-8fc9-4ad42e3c71e7"
      },
      "execution_count": 116,
      "outputs": [
        {
          "output_type": "execute_result",
          "data": {
            "text/plain": [
              "(torch.Size([8]), 1)"
            ]
          },
          "metadata": {},
          "execution_count": 116
        }
      ]
    },
    {
      "cell_type": "code",
      "source": [
        "# Change the view\n",
        "z = x.view(4, 2)\n",
        "z, z.shape"
      ],
      "metadata": {
        "colab": {
          "base_uri": "https://localhost:8080/"
        },
        "id": "boWvwPWquWyZ",
        "outputId": "71f67865-2da9-438a-a145-be3068da5cee"
      },
      "execution_count": 164,
      "outputs": [
        {
          "output_type": "execute_result",
          "data": {
            "text/plain": [
              "(tensor([[ 0,  2],\n",
              "         [ 4,  6],\n",
              "         [ 8, 10],\n",
              "         [12, 14]]),\n",
              " torch.Size([4, 2]))"
            ]
          },
          "metadata": {},
          "execution_count": 164
        }
      ]
    },
    {
      "cell_type": "code",
      "source": [
        "# Changing z changes x because a view of a tensor shares the same memory as the original tensor\n",
        "z[1:2,1] = 3\n",
        "print(f'View of x\\n {z}\\n\\n Tensor x : {x}')"
      ],
      "metadata": {
        "colab": {
          "base_uri": "https://localhost:8080/"
        },
        "id": "A1SpnMB40fwd",
        "outputId": "91d2195b-57c1-49b6-aaac-023c145ab085"
      },
      "execution_count": 175,
      "outputs": [
        {
          "output_type": "stream",
          "name": "stdout",
          "text": [
            "View of x\n",
            " tensor([[ 0,  2],\n",
            "        [ 4,  3],\n",
            "        [ 8, 10],\n",
            "        [12, 14]])\n",
            "\n",
            " Tensor x : tensor([ 0,  2,  4,  3,  8, 10, 12, 14])\n"
          ]
        }
      ]
    },
    {
      "cell_type": "code",
      "source": [
        "# Stack tensors on top of each other\n",
        "\n",
        "x_stack = torch.stack([x, x, x, x], dim=1)\n",
        "x_stack"
      ],
      "metadata": {
        "colab": {
          "base_uri": "https://localhost:8080/"
        },
        "id": "35TiqH5T_rfm",
        "outputId": "07f056d8-255b-454a-d9ae-50dfcb851069"
      },
      "execution_count": 182,
      "outputs": [
        {
          "output_type": "execute_result",
          "data": {
            "text/plain": [
              "tensor([[ 0,  0,  0,  0],\n",
              "        [ 2,  2,  2,  2],\n",
              "        [ 4,  4,  4,  4],\n",
              "        [ 3,  3,  3,  3],\n",
              "        [ 8,  8,  8,  8],\n",
              "        [10, 10, 10, 10],\n",
              "        [12, 12, 12, 12],\n",
              "        [14, 14, 14, 14]])"
            ]
          },
          "metadata": {},
          "execution_count": 182
        }
      ]
    },
    {
      "cell_type": "code",
      "source": [
        "# Squeeze and Unsqueeze - removes all the single dimension from the target tensor\n",
        "\n",
        "x_squeeze = torch.squeeze(input=x, dim=0)\n",
        "x_squeeze"
      ],
      "metadata": {
        "colab": {
          "base_uri": "https://localhost:8080/"
        },
        "id": "yeSW1PmJDCv8",
        "outputId": "f84cf697-07ba-4c46-d82e-dc4c00ce001c"
      },
      "execution_count": 197,
      "outputs": [
        {
          "output_type": "execute_result",
          "data": {
            "text/plain": [
              "tensor([ 0,  2,  4,  3,  8, 10, 12, 14])"
            ]
          },
          "metadata": {},
          "execution_count": 197
        }
      ]
    },
    {
      "cell_type": "code",
      "source": [
        "x_unsqueeze = torch.unsqueeze(input=x, dim=0)\n",
        "x_unsqueeze, x"
      ],
      "metadata": {
        "colab": {
          "base_uri": "https://localhost:8080/"
        },
        "id": "5Z_KUTa6DzXs",
        "outputId": "d7043788-6d0a-4063-9f52-e0e5e4735b75"
      },
      "execution_count": 191,
      "outputs": [
        {
          "output_type": "execute_result",
          "data": {
            "text/plain": [
              "(tensor([[ 0,  2,  4,  3,  8, 10, 12, 14]]),\n",
              " tensor([ 0,  2,  4,  3,  8, 10, 12, 14]))"
            ]
          },
          "metadata": {},
          "execution_count": 191
        }
      ]
    },
    {
      "cell_type": "code",
      "source": [],
      "metadata": {
        "id": "WxHTs5HlEKcK"
      },
      "execution_count": null,
      "outputs": []
    }
  ]
}