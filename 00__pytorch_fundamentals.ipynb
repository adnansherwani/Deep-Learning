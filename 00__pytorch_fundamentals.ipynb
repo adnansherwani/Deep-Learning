{
  "nbformat": 4,
  "nbformat_minor": 0,
  "metadata": {
    "colab": {
      "provenance": [],
      "gpuType": "T4",
      "authorship_tag": "ABX9TyPamADv7/kIlO+I8sbpzekL",
      "include_colab_link": true
    },
    "kernelspec": {
      "name": "python3",
      "display_name": "Python 3"
    },
    "language_info": {
      "name": "python"
    },
    "accelerator": "GPU"
  },
  "cells": [
    {
      "cell_type": "markdown",
      "metadata": {
        "id": "view-in-github",
        "colab_type": "text"
      },
      "source": [
        "<a href=\"https://colab.research.google.com/github/adnansherwani/Deep-Learning/blob/main/00__pytorch_fundamentals.ipynb\" target=\"_parent\"><img src=\"https://colab.research.google.com/assets/colab-badge.svg\" alt=\"Open In Colab\"/></a>"
      ]
    },
    {
      "cell_type": "markdown",
      "source": [
        "# 00. PyTorch Fundamentals\n",
        "\n",
        "*   Resource Notebook: https://www.learnpytorch.io/00_pytorch_fundamentals/\n",
        "*   Documents:  https://pytorch.org/docs/stable/index.html"
      ],
      "metadata": {
        "id": "iE940RiKeUJO"
      }
    },
    {
      "cell_type": "code",
      "source": [
        "import torch\n",
        "import pandas as pd\n",
        "import numpy as np\n",
        "import matplotlib.pyplot as plt\n",
        "import seaborn as sns"
      ],
      "metadata": {
        "id": "foxKC_0AhfUs"
      },
      "execution_count": 2,
      "outputs": []
    },
    {
      "cell_type": "code",
      "source": [
        "print(torch.__version__)"
      ],
      "metadata": {
        "colab": {
          "base_uri": "https://localhost:8080/"
        },
        "id": "3-UvkPwBhik7",
        "outputId": "b0dfc2f0-8ee2-4c94-9e17-af1c38c46cc4"
      },
      "execution_count": 3,
      "outputs": [
        {
          "output_type": "stream",
          "name": "stdout",
          "text": [
            "2.4.1+cu121\n"
          ]
        }
      ]
    },
    {
      "cell_type": "code",
      "source": [
        "torch.cuda.is_available()"
      ],
      "metadata": {
        "colab": {
          "base_uri": "https://localhost:8080/"
        },
        "id": "Y9kQtL3ehnaV",
        "outputId": "ddb4fbea-204b-4e6c-be2c-e73d2ac09c65"
      },
      "execution_count": 4,
      "outputs": [
        {
          "output_type": "execute_result",
          "data": {
            "text/plain": [
              "False"
            ]
          },
          "metadata": {},
          "execution_count": 4
        }
      ]
    },
    {
      "cell_type": "code",
      "source": [
        "!nvidia-smi"
      ],
      "metadata": {
        "colab": {
          "base_uri": "https://localhost:8080/"
        },
        "id": "Q2pqrxHle7-7",
        "outputId": "996ab212-e587-4302-f982-c493fa778f00"
      },
      "execution_count": 5,
      "outputs": [
        {
          "output_type": "stream",
          "name": "stdout",
          "text": [
            "/bin/bash: line 1: nvidia-smi: command not found\n"
          ]
        }
      ]
    },
    {
      "cell_type": "markdown",
      "source": [
        "## Introduction to tensors\n",
        "  \n",
        "  ### Creating Tensors\n",
        "\n",
        "  PyTorch Tensors are created using torch.Tensor() - https://pytorch.org/docs/stable/tensors.html\n"
      ],
      "metadata": {
        "id": "j-6j6c5VgPN0"
      }
    },
    {
      "cell_type": "code",
      "source": [
        "scalar = torch.tensor(7)\n",
        "scalar"
      ],
      "metadata": {
        "colab": {
          "base_uri": "https://localhost:8080/"
        },
        "id": "ee8oS8obhAxM",
        "outputId": "fd1c6298-7817-4bd4-ed64-e2b14fbbdbfd"
      },
      "execution_count": 6,
      "outputs": [
        {
          "output_type": "execute_result",
          "data": {
            "text/plain": [
              "tensor(7)"
            ]
          },
          "metadata": {},
          "execution_count": 6
        }
      ]
    },
    {
      "cell_type": "code",
      "source": [
        "scalar.ndim"
      ],
      "metadata": {
        "colab": {
          "base_uri": "https://localhost:8080/"
        },
        "id": "yRVhE-NYhq8D",
        "outputId": "a13a97b2-4df3-4654-f0ec-c609cc8cb95e"
      },
      "execution_count": 7,
      "outputs": [
        {
          "output_type": "execute_result",
          "data": {
            "text/plain": [
              "0"
            ]
          },
          "metadata": {},
          "execution_count": 7
        }
      ]
    },
    {
      "cell_type": "code",
      "source": [
        "# Getting the python tensor as int\n",
        "scalar.item()"
      ],
      "metadata": {
        "colab": {
          "base_uri": "https://localhost:8080/"
        },
        "id": "3H_D25GkjMTD",
        "outputId": "19ff7f82-a2e5-412f-d98c-163d2e93abe5"
      },
      "execution_count": 8,
      "outputs": [
        {
          "output_type": "execute_result",
          "data": {
            "text/plain": [
              "7"
            ]
          },
          "metadata": {},
          "execution_count": 8
        }
      ]
    },
    {
      "cell_type": "code",
      "source": [
        "# Vector\n",
        "vector = torch.tensor(data=[1, 2])\n",
        "vector"
      ],
      "metadata": {
        "colab": {
          "base_uri": "https://localhost:8080/"
        },
        "id": "LPLUKKeujWDa",
        "outputId": "f5e846d1-cb84-4a5d-ab9e-fba74c841428"
      },
      "execution_count": 9,
      "outputs": [
        {
          "output_type": "execute_result",
          "data": {
            "text/plain": [
              "tensor([1, 2])"
            ]
          },
          "metadata": {},
          "execution_count": 9
        }
      ]
    },
    {
      "cell_type": "code",
      "source": [
        "vector.ndim"
      ],
      "metadata": {
        "colab": {
          "base_uri": "https://localhost:8080/"
        },
        "id": "1tpAFUPuT2ko",
        "outputId": "d53b0ce8-fe77-4eeb-94c5-e9ece7601d66"
      },
      "execution_count": 10,
      "outputs": [
        {
          "output_type": "execute_result",
          "data": {
            "text/plain": [
              "1"
            ]
          },
          "metadata": {},
          "execution_count": 10
        }
      ]
    },
    {
      "cell_type": "code",
      "source": [
        "vector.shape"
      ],
      "metadata": {
        "colab": {
          "base_uri": "https://localhost:8080/"
        },
        "id": "JhL6EejlUEfe",
        "outputId": "8ce6ad13-dc11-4f43-f115-48e0e8966051"
      },
      "execution_count": 11,
      "outputs": [
        {
          "output_type": "execute_result",
          "data": {
            "text/plain": [
              "torch.Size([2])"
            ]
          },
          "metadata": {},
          "execution_count": 11
        }
      ]
    },
    {
      "cell_type": "code",
      "source": [
        "MATRIX = torch.tensor(data=[[2,4],\n",
        "                            [6,7]])\n",
        "MATRIX"
      ],
      "metadata": {
        "colab": {
          "base_uri": "https://localhost:8080/"
        },
        "id": "oQ8E_S7aUIot",
        "outputId": "e11514cb-5d6b-46b5-9a87-f554a4b0b055"
      },
      "execution_count": 12,
      "outputs": [
        {
          "output_type": "execute_result",
          "data": {
            "text/plain": [
              "tensor([[2, 4],\n",
              "        [6, 7]])"
            ]
          },
          "metadata": {},
          "execution_count": 12
        }
      ]
    },
    {
      "cell_type": "code",
      "source": [
        "MATRIX.ndim"
      ],
      "metadata": {
        "colab": {
          "base_uri": "https://localhost:8080/"
        },
        "id": "pFyGnjYtUbUu",
        "outputId": "3b476101-6133-45ae-d732-1e4d3eb8ff9b"
      },
      "execution_count": 13,
      "outputs": [
        {
          "output_type": "execute_result",
          "data": {
            "text/plain": [
              "2"
            ]
          },
          "metadata": {},
          "execution_count": 13
        }
      ]
    },
    {
      "cell_type": "code",
      "source": [
        "MATRIX[1]"
      ],
      "metadata": {
        "colab": {
          "base_uri": "https://localhost:8080/"
        },
        "id": "ooptcoO7UgOd",
        "outputId": "657d7a8d-d6ea-4367-e5bb-33d1f18ddbce"
      },
      "execution_count": 14,
      "outputs": [
        {
          "output_type": "execute_result",
          "data": {
            "text/plain": [
              "tensor([6, 7])"
            ]
          },
          "metadata": {},
          "execution_count": 14
        }
      ]
    },
    {
      "cell_type": "code",
      "source": [
        "MATRIX.shape"
      ],
      "metadata": {
        "colab": {
          "base_uri": "https://localhost:8080/"
        },
        "id": "Zl306ZCOUnVt",
        "outputId": "0a585092-725e-4eb5-e36f-0455c97eb87d"
      },
      "execution_count": 15,
      "outputs": [
        {
          "output_type": "execute_result",
          "data": {
            "text/plain": [
              "torch.Size([2, 2])"
            ]
          },
          "metadata": {},
          "execution_count": 15
        }
      ]
    },
    {
      "cell_type": "code",
      "source": [
        "TENSOR = torch.tensor(data=[[[[9,4,6],\n",
        "                             [4,7,4],\n",
        "                             [8,4,7]],\n",
        "                            [[3,5,6],\n",
        "                            [5,7,9],\n",
        "                            [1,8,0]]],\n",
        "                            [[[2,4,5],\n",
        "                             [4,5,6],\n",
        "                             [6,7,5]],\n",
        "                            [[3,4,6],\n",
        "                             [3,5,6],\n",
        "                             [5,3,4]]],\n",
        "                            [[[1,4,5],\n",
        "                             [4,7,6],\n",
        "                             [9,7,4]],\n",
        "                             [[3,5,7],\n",
        "                              [6,8,3],\n",
        "                              [7,7,5]]]])"
      ],
      "metadata": {
        "id": "hKQLKR65Uqjl"
      },
      "execution_count": 16,
      "outputs": []
    },
    {
      "cell_type": "code",
      "source": [
        "TENSOR"
      ],
      "metadata": {
        "colab": {
          "base_uri": "https://localhost:8080/"
        },
        "id": "sb6e9NFFU3Md",
        "outputId": "5bab5a93-2c8a-41cb-a4ea-cdc07aa1f9e6"
      },
      "execution_count": 17,
      "outputs": [
        {
          "output_type": "execute_result",
          "data": {
            "text/plain": [
              "tensor([[[[9, 4, 6],\n",
              "          [4, 7, 4],\n",
              "          [8, 4, 7]],\n",
              "\n",
              "         [[3, 5, 6],\n",
              "          [5, 7, 9],\n",
              "          [1, 8, 0]]],\n",
              "\n",
              "\n",
              "        [[[2, 4, 5],\n",
              "          [4, 5, 6],\n",
              "          [6, 7, 5]],\n",
              "\n",
              "         [[3, 4, 6],\n",
              "          [3, 5, 6],\n",
              "          [5, 3, 4]]],\n",
              "\n",
              "\n",
              "        [[[1, 4, 5],\n",
              "          [4, 7, 6],\n",
              "          [9, 7, 4]],\n",
              "\n",
              "         [[3, 5, 7],\n",
              "          [6, 8, 3],\n",
              "          [7, 7, 5]]]])"
            ]
          },
          "metadata": {},
          "execution_count": 17
        }
      ]
    },
    {
      "cell_type": "code",
      "source": [
        "TENSOR.ndim"
      ],
      "metadata": {
        "colab": {
          "base_uri": "https://localhost:8080/"
        },
        "id": "5tBD_Gu6U4mN",
        "outputId": "a0449b85-4d87-4566-bbe7-07a922ecf67f"
      },
      "execution_count": 18,
      "outputs": [
        {
          "output_type": "execute_result",
          "data": {
            "text/plain": [
              "4"
            ]
          },
          "metadata": {},
          "execution_count": 18
        }
      ]
    },
    {
      "cell_type": "code",
      "source": [
        "TENSOR.shape"
      ],
      "metadata": {
        "colab": {
          "base_uri": "https://localhost:8080/"
        },
        "id": "LMWf93DOU7uV",
        "outputId": "d7aaabd5-332d-4678-96c7-af27db732c49"
      },
      "execution_count": 19,
      "outputs": [
        {
          "output_type": "execute_result",
          "data": {
            "text/plain": [
              "torch.Size([3, 2, 3, 3])"
            ]
          },
          "metadata": {},
          "execution_count": 19
        }
      ]
    },
    {
      "cell_type": "code",
      "source": [
        "TENSOR[0][1][0][1]"
      ],
      "metadata": {
        "colab": {
          "base_uri": "https://localhost:8080/"
        },
        "id": "WkdARaqqU_wg",
        "outputId": "c16fcc87-91f3-4c08-cb81-19eaf6f98b99"
      },
      "execution_count": 20,
      "outputs": [
        {
          "output_type": "execute_result",
          "data": {
            "text/plain": [
              "tensor(5)"
            ]
          },
          "metadata": {},
          "execution_count": 20
        }
      ]
    },
    {
      "cell_type": "code",
      "source": [
        "TENSOR_1 = torch.randint(low=0, high=9, size=(3,3,3,3,3))"
      ],
      "metadata": {
        "id": "Gi4GOQltVB68"
      },
      "execution_count": 21,
      "outputs": []
    },
    {
      "cell_type": "code",
      "source": [
        "TENSOR_1.item"
      ],
      "metadata": {
        "colab": {
          "base_uri": "https://localhost:8080/"
        },
        "id": "JfFlJenFsS3T",
        "outputId": "46d31d4a-38b3-4df0-ee2f-b5c1f6622c6a"
      },
      "execution_count": 22,
      "outputs": [
        {
          "output_type": "execute_result",
          "data": {
            "text/plain": [
              "<function Tensor.item>"
            ]
          },
          "metadata": {},
          "execution_count": 22
        }
      ]
    },
    {
      "cell_type": "markdown",
      "source": [
        "## Random Tensors\n",
        "\n",
        "Random tensors are important because the way many neural networks learn is that they stary with a tensor full of random numbers and then adjust those randome number to better represent the data.\n",
        "\n",
        "`Start with random numbers -> look at the data -> update random numbers -> look at the data -> update random number`\n",
        "\n",
        "Torch Random tensors - https://pytorch.org/docs/stable/generated/torch.rand.html"
      ],
      "metadata": {
        "id": "hkoWyQMiz0fF"
      }
    },
    {
      "cell_type": "code",
      "source": [
        "### Create a random tensor of size or shape (3,4)\n",
        "\n",
        "rand_tensor = torch.rand(4, 3)\n",
        "rand_tensor"
      ],
      "metadata": {
        "id": "qmgG3UFZsUbR",
        "colab": {
          "base_uri": "https://localhost:8080/"
        },
        "outputId": "3932b7dd-35cf-4333-cd7b-6e1f1ab86a6a"
      },
      "execution_count": 23,
      "outputs": [
        {
          "output_type": "execute_result",
          "data": {
            "text/plain": [
              "tensor([[0.6592, 0.7243, 0.5242],\n",
              "        [0.4279, 0.0952, 0.7942],\n",
              "        [0.0175, 0.2016, 0.6146],\n",
              "        [0.7749, 0.5586, 0.9582]])"
            ]
          },
          "metadata": {},
          "execution_count": 23
        }
      ]
    },
    {
      "cell_type": "code",
      "source": [
        "rand_tensor.ndim"
      ],
      "metadata": {
        "colab": {
          "base_uri": "https://localhost:8080/"
        },
        "id": "3CykgqGH059p",
        "outputId": "398a65ef-fe72-42d2-cd7d-21107d2d58b0"
      },
      "execution_count": 24,
      "outputs": [
        {
          "output_type": "execute_result",
          "data": {
            "text/plain": [
              "2"
            ]
          },
          "metadata": {},
          "execution_count": 24
        }
      ]
    },
    {
      "cell_type": "code",
      "source": [
        "## Create a random tensor with similar shape to an image tensor\n",
        "\n",
        "rand_image_s_tensor = torch.rand(size=(224, 224, 3)) ## height, width. color channels (RGB)\n",
        "rand_image_s_tensor.shape, rand_image_s_tensor.ndim"
      ],
      "metadata": {
        "colab": {
          "base_uri": "https://localhost:8080/"
        },
        "id": "4OLsr7EI1YiA",
        "outputId": "2c008621-0fe0-47df-826a-a593c9b76a19"
      },
      "execution_count": 25,
      "outputs": [
        {
          "output_type": "execute_result",
          "data": {
            "text/plain": [
              "(torch.Size([224, 224, 3]), 3)"
            ]
          },
          "metadata": {},
          "execution_count": 25
        }
      ]
    },
    {
      "cell_type": "markdown",
      "source": [
        "#### Zeros and Ones tensors"
      ],
      "metadata": {
        "id": "uTF5oMtS3zRo"
      }
    },
    {
      "cell_type": "code",
      "source": [
        "# Create a tensor of all zeros & ones\n",
        "\n",
        "zeros = torch.zeros(size=(3, 4))\n",
        "zeros"
      ],
      "metadata": {
        "colab": {
          "base_uri": "https://localhost:8080/"
        },
        "id": "HA0kC2px1d5v",
        "outputId": "2c28b813-074a-4979-c843-21b43d490987"
      },
      "execution_count": 26,
      "outputs": [
        {
          "output_type": "execute_result",
          "data": {
            "text/plain": [
              "tensor([[0., 0., 0., 0.],\n",
              "        [0., 0., 0., 0.],\n",
              "        [0., 0., 0., 0.]])"
            ]
          },
          "metadata": {},
          "execution_count": 26
        }
      ]
    },
    {
      "cell_type": "code",
      "source": [
        "ones = torch.ones(size=(3, 4))\n",
        "ones"
      ],
      "metadata": {
        "colab": {
          "base_uri": "https://localhost:8080/"
        },
        "id": "OvyWsv2G4IBp",
        "outputId": "e8a9b775-0a99-45de-c960-dc64d182ac7f"
      },
      "execution_count": 27,
      "outputs": [
        {
          "output_type": "execute_result",
          "data": {
            "text/plain": [
              "tensor([[1., 1., 1., 1.],\n",
              "        [1., 1., 1., 1.],\n",
              "        [1., 1., 1., 1.]])"
            ]
          },
          "metadata": {},
          "execution_count": 27
        }
      ]
    },
    {
      "cell_type": "code",
      "source": [
        "ones.dtype"
      ],
      "metadata": {
        "colab": {
          "base_uri": "https://localhost:8080/"
        },
        "id": "oMon09AX4Ta9",
        "outputId": "5146741a-a291-45e3-9427-d9e1fcf5a981"
      },
      "execution_count": 28,
      "outputs": [
        {
          "output_type": "execute_result",
          "data": {
            "text/plain": [
              "torch.float32"
            ]
          },
          "metadata": {},
          "execution_count": 28
        }
      ]
    },
    {
      "cell_type": "markdown",
      "source": [
        "### Create a range of tensors and tensors like"
      ],
      "metadata": {
        "id": "YwQeqXUW4kuT"
      }
    },
    {
      "cell_type": "code",
      "source": [
        "# Use torch.range()\n",
        "one_to_ten = torch.arange(start=0, end=11, step=1, dtype= None)\n",
        "one_to_ten"
      ],
      "metadata": {
        "colab": {
          "base_uri": "https://localhost:8080/"
        },
        "id": "gMJdxauB4W8F",
        "outputId": "4beafe7b-87e6-4d1f-cc8c-4a6c2f4baa40"
      },
      "execution_count": 29,
      "outputs": [
        {
          "output_type": "execute_result",
          "data": {
            "text/plain": [
              "tensor([ 0,  1,  2,  3,  4,  5,  6,  7,  8,  9, 10])"
            ]
          },
          "metadata": {},
          "execution_count": 29
        }
      ]
    },
    {
      "cell_type": "code",
      "source": [
        "# Creating tensors like\n",
        "ten_zeros = torch.zeros_like(input=rand_tensor[1][0])\n",
        "ten_zeros"
      ],
      "metadata": {
        "colab": {
          "base_uri": "https://localhost:8080/"
        },
        "id": "l1H8nB6J4vjP",
        "outputId": "fa4ae131-7dce-4b00-d74a-fe3a4bd44362"
      },
      "execution_count": 30,
      "outputs": [
        {
          "output_type": "execute_result",
          "data": {
            "text/plain": [
              "tensor(0.)"
            ]
          },
          "metadata": {},
          "execution_count": 30
        }
      ]
    },
    {
      "cell_type": "code",
      "source": [
        "rand_tensor*ten_zeros"
      ],
      "metadata": {
        "colab": {
          "base_uri": "https://localhost:8080/"
        },
        "id": "_wbQrK2n6Ls1",
        "outputId": "4d92c4f1-b467-4008-f8f4-9dcfb327731d"
      },
      "execution_count": 31,
      "outputs": [
        {
          "output_type": "execute_result",
          "data": {
            "text/plain": [
              "tensor([[0., 0., 0.],\n",
              "        [0., 0., 0.],\n",
              "        [0., 0., 0.],\n",
              "        [0., 0., 0.]])"
            ]
          },
          "metadata": {},
          "execution_count": 31
        }
      ]
    },
    {
      "cell_type": "markdown",
      "source": [
        "### Tensor Data Types\n",
        "\n",
        "**Note:** Tensor datatypes is one of the 3 big errors you'll face with Pytorch or datatypes.\n",
        "\n",
        "  1. Tensors not right datatype.\n",
        "  2. Tensors not right shape\n",
        "  3. Tensors not on the right device\n",
        "\n",
        "Tensor Datatypes: https://pytorch.org/docs/stable/tensors.html\n",
        "\n",
        "Precision Computer science : https://dbpedia.org/page/Precision_(computer_science)"
      ],
      "metadata": {
        "id": "tTv7ZiYA7N18"
      }
    },
    {
      "cell_type": "code",
      "source": [
        "# float 32 tensor\n",
        "float32_tensor = torch.tensor(data=[3.0, 6.0, 9.0],\n",
        "                              dtype=None,    #what datatypes is the tensor (e.g float)\n",
        "                              device=None,  # what device is the tensor on cpu or cuda\n",
        "                              requires_grad=False)   #whether or not to track gradients\n",
        "float32_tensor"
      ],
      "metadata": {
        "colab": {
          "base_uri": "https://localhost:8080/"
        },
        "id": "BL5L3Br66nsU",
        "outputId": "6417e33f-68ca-49ec-d96c-9405a26154e7"
      },
      "execution_count": 32,
      "outputs": [
        {
          "output_type": "execute_result",
          "data": {
            "text/plain": [
              "tensor([3., 6., 9.])"
            ]
          },
          "metadata": {},
          "execution_count": 32
        }
      ]
    },
    {
      "cell_type": "code",
      "source": [
        "float32_tensor.dtype"
      ],
      "metadata": {
        "colab": {
          "base_uri": "https://localhost:8080/"
        },
        "id": "TEDNgsronrt9",
        "outputId": "2e911aa5-2dd9-47af-e0e8-82fcd83b6a9b"
      },
      "execution_count": 33,
      "outputs": [
        {
          "output_type": "execute_result",
          "data": {
            "text/plain": [
              "torch.float32"
            ]
          },
          "metadata": {},
          "execution_count": 33
        }
      ]
    },
    {
      "cell_type": "code",
      "source": [
        "float16_tensor = float32_tensor.type(torch.float16)\n",
        "float16_tensor"
      ],
      "metadata": {
        "colab": {
          "base_uri": "https://localhost:8080/"
        },
        "id": "pdqGo8kKnzUq",
        "outputId": "2f870db4-b80e-49df-8224-7cea7b5ef97a"
      },
      "execution_count": 34,
      "outputs": [
        {
          "output_type": "execute_result",
          "data": {
            "text/plain": [
              "tensor([3., 6., 9.], dtype=torch.float16)"
            ]
          },
          "metadata": {},
          "execution_count": 34
        }
      ]
    },
    {
      "cell_type": "code",
      "source": [
        "((float32_tensor * float16_tensor * float32_tensor) + float32_tensor / float16_tensor).shape"
      ],
      "metadata": {
        "colab": {
          "base_uri": "https://localhost:8080/"
        },
        "id": "al9GQT97rxpB",
        "outputId": "14790d58-1f73-456b-e3e1-92189477e749"
      },
      "execution_count": 35,
      "outputs": [
        {
          "output_type": "execute_result",
          "data": {
            "text/plain": [
              "torch.Size([3])"
            ]
          },
          "metadata": {},
          "execution_count": 35
        }
      ]
    },
    {
      "cell_type": "markdown",
      "source": [
        "### Getting Information from Tensor.\n",
        "\n",
        "  1. Tensors not right datatype - use `tensor.dtype`\n",
        "  2. Tensors not right shape - use `tensor.shape`\n",
        "  3. Tensors not on the right device - use `tensor.device`\n",
        "\n"
      ],
      "metadata": {
        "id": "t5U_IT2Puryn"
      }
    },
    {
      "cell_type": "code",
      "source": [
        "## Create random tensors.\n",
        "some_tensors = torch.rand(size=(2,3,3), dtype=torch.float16, device='cpu')"
      ],
      "metadata": {
        "id": "PKNVUg-Ru6Df"
      },
      "execution_count": 39,
      "outputs": []
    },
    {
      "cell_type": "code",
      "source": [
        "# Details of some_random tensors.\n",
        "\n",
        "print(some_tensors)\n",
        "print(f\"Datatype :{some_tensors.dtype}\")\n",
        "print(f\"Shape :{some_tensors.shape}\")\n",
        "print(f\"Device :{some_tensors.device}\")\n"
      ],
      "metadata": {
        "colab": {
          "base_uri": "https://localhost:8080/"
        },
        "id": "JnaUcJmhwyLl",
        "outputId": "4bb13c36-d939-4d86-d444-bcde54b2c648"
      },
      "execution_count": 40,
      "outputs": [
        {
          "output_type": "stream",
          "name": "stdout",
          "text": [
            "tensor([[[0.3687, 0.8940, 0.3794],\n",
            "         [0.1831, 0.2158, 0.7266],\n",
            "         [0.2812, 0.0054, 0.0293]],\n",
            "\n",
            "        [[0.8105, 0.6509, 0.4297],\n",
            "         [0.2471, 0.6411, 0.5884],\n",
            "         [0.5947, 0.4023, 0.5513]]], dtype=torch.float16)\n",
            "Datatype :torch.float16\n",
            "Shape :torch.Size([2, 3, 3])\n",
            "Device :cpu\n"
          ]
        }
      ]
    },
    {
      "cell_type": "markdown",
      "source": [
        "### Manipulating Tensors (tensor operations)\n",
        "\n",
        "Tensors operation includes:\n",
        " 1. Addition\n",
        " 2. Substraction\n",
        " 3. Multiplication (element-wise)\n",
        " 4.  Division\n",
        " 5. Matrix Multiplication"
      ],
      "metadata": {
        "id": "7sndWrRBxAGF"
      }
    },
    {
      "cell_type": "code",
      "source": [
        "# Create a tensor\n",
        "\n",
        "tensor = torch.tensor(data=[2,4,6])\n",
        "tensor + 3 #addition"
      ],
      "metadata": {
        "colab": {
          "base_uri": "https://localhost:8080/"
        },
        "id": "RRWI95yn0N6r",
        "outputId": "fe11a6f9-d5e4-4733-9ed1-31a8b5d201e3"
      },
      "execution_count": 41,
      "outputs": [
        {
          "output_type": "execute_result",
          "data": {
            "text/plain": [
              "tensor([5, 7, 9])"
            ]
          },
          "metadata": {},
          "execution_count": 41
        }
      ]
    },
    {
      "cell_type": "code",
      "source": [
        "tensor * 10 # Mulitplication"
      ],
      "metadata": {
        "colab": {
          "base_uri": "https://localhost:8080/"
        },
        "id": "xKQgf7w90qL8",
        "outputId": "45d96497-c698-48d9-d591-fc3d9b8b5291"
      },
      "execution_count": 42,
      "outputs": [
        {
          "output_type": "execute_result",
          "data": {
            "text/plain": [
              "tensor([20, 40, 60])"
            ]
          },
          "metadata": {},
          "execution_count": 42
        }
      ]
    },
    {
      "cell_type": "code",
      "source": [
        "tensor - 10 # Subtractions"
      ],
      "metadata": {
        "colab": {
          "base_uri": "https://localhost:8080/"
        },
        "id": "3bZ3_W5B04uM",
        "outputId": "9d766b0f-9fcd-4ea7-b06b-0ca115c5b7dc"
      },
      "execution_count": 43,
      "outputs": [
        {
          "output_type": "execute_result",
          "data": {
            "text/plain": [
              "tensor([-8, -6, -4])"
            ]
          },
          "metadata": {},
          "execution_count": 43
        }
      ]
    },
    {
      "cell_type": "markdown",
      "source": [
        "\n",
        "### Matrix Multiplication\n",
        "\n",
        "Two main ways of performing multiplication in neural networks & deep learning.\n",
        "\n",
        "1. Element-wise\n",
        "2. Matrix Multiplication (dot product)\n",
        "\n",
        "More information: https://www.mathsisfun.com/algebra/matrix-multiplying.html\n",
        "\n",
        "**Note :** There are two main rules that performing matrix multiplication needs to satisfy:\n",
        "\n",
        "1.   The **inner dimensions** must match:\n",
        "\n",
        "  *   `(3, 2) * (3, 2)` won't work\n",
        "  *   `(2, 3) * (3, 2)` will work\n",
        "  *   `(3, 2) * (2, 3)` will work\n",
        "\n",
        "2.   The resulting matrix has the shape of the **outer dimensions:**\n",
        "\n",
        "  *   `(2, 3) * (3, 2)` -> shape `(2, 2)`\n",
        "  *   `(3, 2) * (2, 3)` -> shape  `(3, 3)`\n",
        "\n",
        "\n",
        "**Important :** For Matrix Multiplication, we have different alias for torch.matmul() such as\n",
        "  1. torch.mm\n",
        "  2. `@`\n",
        "\n",
        "\n",
        "\n",
        "\n",
        "\n"
      ],
      "metadata": {
        "id": "F3qM3dAw1ITe"
      }
    },
    {
      "cell_type": "code",
      "source": [
        "# Element wise multiplication\n",
        "\n",
        "print(tensor*tensor)"
      ],
      "metadata": {
        "colab": {
          "base_uri": "https://localhost:8080/"
        },
        "id": "LmCS-oFN2oQK",
        "outputId": "0a52fc98-a06b-4597-c841-084c6eb163fc"
      },
      "execution_count": 44,
      "outputs": [
        {
          "output_type": "stream",
          "name": "stdout",
          "text": [
            "tensor([ 4, 16, 36])\n"
          ]
        }
      ]
    },
    {
      "cell_type": "code",
      "source": [
        "# Matrix Maultiplication\n",
        "\n",
        "print(tensor, \"*\", tensor)"
      ],
      "metadata": {
        "colab": {
          "base_uri": "https://localhost:8080/"
        },
        "id": "aAy1WLup6qa5",
        "outputId": "a7735432-4b82-46a7-eaa7-4b39d2354eb1"
      },
      "execution_count": 45,
      "outputs": [
        {
          "output_type": "stream",
          "name": "stdout",
          "text": [
            "tensor([2, 4, 6]) * tensor([2, 4, 6])\n"
          ]
        }
      ]
    },
    {
      "cell_type": "code",
      "source": [
        "torch.matmul(input=tensor, other=tensor)"
      ],
      "metadata": {
        "colab": {
          "base_uri": "https://localhost:8080/"
        },
        "id": "sdmm5xWY7Cvh",
        "outputId": "cc36cd65-eb6a-4eb2-c584-b2b123288762"
      },
      "execution_count": 47,
      "outputs": [
        {
          "output_type": "execute_result",
          "data": {
            "text/plain": [
              "tensor(56)"
            ]
          },
          "metadata": {},
          "execution_count": 47
        }
      ]
    },
    {
      "cell_type": "code",
      "source": [
        "2*2 + 4*4+6*6"
      ],
      "metadata": {
        "colab": {
          "base_uri": "https://localhost:8080/"
        },
        "id": "EutcWFmt7P2Z",
        "outputId": "03f4d0a7-b08f-4ce6-d81a-91c20f973edb"
      },
      "execution_count": 48,
      "outputs": [
        {
          "output_type": "execute_result",
          "data": {
            "text/plain": [
              "56"
            ]
          },
          "metadata": {},
          "execution_count": 48
        }
      ]
    },
    {
      "cell_type": "code",
      "source": [
        "%%time\n",
        "value = 0\n",
        "for i in range(len(tensor)):\n",
        "  value += tensor[i]*tensor[i]\n",
        "print(value)"
      ],
      "metadata": {
        "colab": {
          "base_uri": "https://localhost:8080/"
        },
        "id": "6mDyZ1bP7s9K",
        "outputId": "d7f51a5e-9f62-4be7-b697-fe2fd11e4bd7"
      },
      "execution_count": 51,
      "outputs": [
        {
          "output_type": "stream",
          "name": "stdout",
          "text": [
            "tensor(56)\n",
            "CPU times: user 3.85 ms, sys: 0 ns, total: 3.85 ms\n",
            "Wall time: 5.93 ms\n"
          ]
        }
      ]
    },
    {
      "cell_type": "code",
      "source": [
        "%%time\n",
        "torch.matmul(tensor, tensor)"
      ],
      "metadata": {
        "colab": {
          "base_uri": "https://localhost:8080/"
        },
        "id": "DokdWiWx8nyw",
        "outputId": "1805a9d3-de35-4f04-a55d-ef2362c93fd4"
      },
      "execution_count": 52,
      "outputs": [
        {
          "output_type": "stream",
          "name": "stdout",
          "text": [
            "CPU times: user 638 µs, sys: 0 ns, total: 638 µs\n",
            "Wall time: 419 µs\n"
          ]
        },
        {
          "output_type": "execute_result",
          "data": {
            "text/plain": [
              "tensor(56)"
            ]
          },
          "metadata": {},
          "execution_count": 52
        }
      ]
    },
    {
      "cell_type": "markdown",
      "source": [
        "### One of the most common errors in deep learning:  shape errors"
      ],
      "metadata": {
        "id": "yTQw5rkw83mg"
      }
    },
    {
      "cell_type": "code",
      "source": [
        "# shapes for matrix multiplication\n",
        "\n",
        "tensor_A  = torch.randint(low=1, high=10, size=(3, 2))\n",
        "tensor_A"
      ],
      "metadata": {
        "colab": {
          "base_uri": "https://localhost:8080/"
        },
        "id": "t6GiSOo2AkR_",
        "outputId": "c63e5802-dba7-4e6d-98dc-22b57586e263"
      },
      "execution_count": 56,
      "outputs": [
        {
          "output_type": "execute_result",
          "data": {
            "text/plain": [
              "tensor([[3, 3],\n",
              "        [1, 5],\n",
              "        [5, 9]])"
            ]
          },
          "metadata": {},
          "execution_count": 56
        }
      ]
    },
    {
      "cell_type": "code",
      "source": [
        "tensor_B = torch.randint(low=1, high=10, size=(3,2))\n",
        "tensor_B"
      ],
      "metadata": {
        "colab": {
          "base_uri": "https://localhost:8080/"
        },
        "id": "Czc6mEMkBM01",
        "outputId": "0536dc97-34ff-4058-8851-9aa8b18c5cbe"
      },
      "execution_count": 58,
      "outputs": [
        {
          "output_type": "execute_result",
          "data": {
            "text/plain": [
              "tensor([[4, 4],\n",
              "        [4, 7],\n",
              "        [2, 3]])"
            ]
          },
          "metadata": {},
          "execution_count": 58
        }
      ]
    },
    {
      "cell_type": "markdown",
      "source": [
        "To fix our tensor shape issues, we can manupulate the shape of one of our tensors using a **transpose**.\n",
        "\n",
        "A **TRANSPOSE** switches the axes or dimension of a given tensor."
      ],
      "metadata": {
        "id": "7ai9dQuxC7TK"
      }
    },
    {
      "cell_type": "code",
      "source": [
        "tensor_A @ tensor_B.T"
      ],
      "metadata": {
        "colab": {
          "base_uri": "https://localhost:8080/"
        },
        "id": "_h7pSL92BrOu",
        "outputId": "6ca66de4-ae30-42ec-ea79-769768b6caf8"
      },
      "execution_count": 60,
      "outputs": [
        {
          "output_type": "execute_result",
          "data": {
            "text/plain": [
              "tensor([[24, 33, 15],\n",
              "        [24, 39, 17],\n",
              "        [56, 83, 37]])"
            ]
          },
          "metadata": {},
          "execution_count": 60
        }
      ]
    },
    {
      "cell_type": "code",
      "source": [],
      "metadata": {
        "id": "hIEjzHDbB0uN"
      },
      "execution_count": null,
      "outputs": []
    }
  ]
}