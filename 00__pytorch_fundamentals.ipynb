{
  "nbformat": 4,
  "nbformat_minor": 0,
  "metadata": {
    "colab": {
      "provenance": [],
      "gpuType": "T4",
      "authorship_tag": "ABX9TyOlHZNkg4iDIAamkUe1rKYc",
      "include_colab_link": true
    },
    "kernelspec": {
      "name": "python3",
      "display_name": "Python 3"
    },
    "language_info": {
      "name": "python"
    },
    "accelerator": "GPU"
  },
  "cells": [
    {
      "cell_type": "markdown",
      "metadata": {
        "id": "view-in-github",
        "colab_type": "text"
      },
      "source": [
        "<a href=\"https://colab.research.google.com/github/adnansherwani/Deep-Learning/blob/main/00__pytorch_fundamentals.ipynb\" target=\"_parent\"><img src=\"https://colab.research.google.com/assets/colab-badge.svg\" alt=\"Open In Colab\"/></a>"
      ]
    },
    {
      "cell_type": "markdown",
      "source": [
        "# 00. PyTorch Fundamentals\n",
        "\n",
        "*   Resource Notebook: https://www.learnpytorch.io/00_pytorch_fundamentals/\n",
        "*   Documents:  https://pytorch.org/docs/stable/index.html"
      ],
      "metadata": {
        "id": "iE940RiKeUJO"
      }
    },
    {
      "cell_type": "code",
      "source": [
        "import torch\n",
        "import pandas as pd\n",
        "import numpy as np\n",
        "import matplotlib.pyplot as plt\n",
        "import seaborn as sns"
      ],
      "metadata": {
        "id": "foxKC_0AhfUs"
      },
      "execution_count": null,
      "outputs": []
    },
    {
      "cell_type": "code",
      "source": [
        "print(torch.__version__)"
      ],
      "metadata": {
        "colab": {
          "base_uri": "https://localhost:8080/"
        },
        "id": "3-UvkPwBhik7",
        "outputId": "90f44147-6b46-4c06-eca6-237e04ef2106"
      },
      "execution_count": null,
      "outputs": [
        {
          "output_type": "stream",
          "name": "stdout",
          "text": [
            "2.4.1+cu121\n"
          ]
        }
      ]
    },
    {
      "cell_type": "code",
      "source": [
        "torch.cuda.is_available()"
      ],
      "metadata": {
        "colab": {
          "base_uri": "https://localhost:8080/"
        },
        "id": "Y9kQtL3ehnaV",
        "outputId": "2650e9d1-3b06-451a-fcd1-a0d828c4d04d"
      },
      "execution_count": null,
      "outputs": [
        {
          "output_type": "execute_result",
          "data": {
            "text/plain": [
              "True"
            ]
          },
          "metadata": {},
          "execution_count": 3
        }
      ]
    },
    {
      "cell_type": "code",
      "source": [
        "!nvidia-smi"
      ],
      "metadata": {
        "colab": {
          "base_uri": "https://localhost:8080/"
        },
        "id": "Q2pqrxHle7-7",
        "outputId": "593b6c55-a0ff-4dda-fab9-8b6575195542"
      },
      "execution_count": null,
      "outputs": [
        {
          "output_type": "stream",
          "name": "stdout",
          "text": [
            "Sun Sep 29 13:35:13 2024       \n",
            "+---------------------------------------------------------------------------------------+\n",
            "| NVIDIA-SMI 535.104.05             Driver Version: 535.104.05   CUDA Version: 12.2     |\n",
            "|-----------------------------------------+----------------------+----------------------+\n",
            "| GPU  Name                 Persistence-M | Bus-Id        Disp.A | Volatile Uncorr. ECC |\n",
            "| Fan  Temp   Perf          Pwr:Usage/Cap |         Memory-Usage | GPU-Util  Compute M. |\n",
            "|                                         |                      |               MIG M. |\n",
            "|=========================================+======================+======================|\n",
            "|   0  Tesla T4                       Off | 00000000:00:04.0 Off |                    0 |\n",
            "| N/A   57C    P8               9W /  70W |      3MiB / 15360MiB |      0%      Default |\n",
            "|                                         |                      |                  N/A |\n",
            "+-----------------------------------------+----------------------+----------------------+\n",
            "                                                                                         \n",
            "+---------------------------------------------------------------------------------------+\n",
            "| Processes:                                                                            |\n",
            "|  GPU   GI   CI        PID   Type   Process name                            GPU Memory |\n",
            "|        ID   ID                                                             Usage      |\n",
            "|=======================================================================================|\n",
            "|  No running processes found                                                           |\n",
            "+---------------------------------------------------------------------------------------+\n"
          ]
        }
      ]
    },
    {
      "cell_type": "markdown",
      "source": [
        "## Introduction to tensors\n",
        "  \n",
        "  ### Creating Tensors\n",
        "\n",
        "  PyTorch Tensors are created using torch.Tensor() - https://pytorch.org/docs/stable/tensors.html\n"
      ],
      "metadata": {
        "id": "j-6j6c5VgPN0"
      }
    },
    {
      "cell_type": "code",
      "source": [
        "scalar = torch.tensor(7)\n",
        "scalar"
      ],
      "metadata": {
        "colab": {
          "base_uri": "https://localhost:8080/"
        },
        "id": "ee8oS8obhAxM",
        "outputId": "ed415bdf-2330-4540-c6b0-355eede6ccdb"
      },
      "execution_count": null,
      "outputs": [
        {
          "output_type": "execute_result",
          "data": {
            "text/plain": [
              "tensor(7)"
            ]
          },
          "metadata": {},
          "execution_count": 5
        }
      ]
    },
    {
      "cell_type": "code",
      "source": [
        "scalar.ndim"
      ],
      "metadata": {
        "colab": {
          "base_uri": "https://localhost:8080/"
        },
        "id": "yRVhE-NYhq8D",
        "outputId": "e4aea4cb-4e39-4f94-cf57-a2fdf1207425"
      },
      "execution_count": null,
      "outputs": [
        {
          "output_type": "execute_result",
          "data": {
            "text/plain": [
              "0"
            ]
          },
          "metadata": {},
          "execution_count": 6
        }
      ]
    },
    {
      "cell_type": "code",
      "source": [
        "# Getting the python tensor as int\n",
        "scalar.item()"
      ],
      "metadata": {
        "colab": {
          "base_uri": "https://localhost:8080/"
        },
        "id": "3H_D25GkjMTD",
        "outputId": "e3e0b826-e384-4051-be26-e9fa0719c879"
      },
      "execution_count": null,
      "outputs": [
        {
          "output_type": "execute_result",
          "data": {
            "text/plain": [
              "7"
            ]
          },
          "metadata": {},
          "execution_count": 7
        }
      ]
    },
    {
      "cell_type": "code",
      "source": [
        "# Vector\n",
        "vector = torch.tensor(data=[1, 2])\n",
        "vector"
      ],
      "metadata": {
        "colab": {
          "base_uri": "https://localhost:8080/"
        },
        "id": "LPLUKKeujWDa",
        "outputId": "64aed62e-9424-4e2d-d956-2622e60a8698"
      },
      "execution_count": null,
      "outputs": [
        {
          "output_type": "execute_result",
          "data": {
            "text/plain": [
              "tensor([1, 2])"
            ]
          },
          "metadata": {},
          "execution_count": 8
        }
      ]
    },
    {
      "cell_type": "code",
      "source": [
        "vector.ndim"
      ],
      "metadata": {
        "colab": {
          "base_uri": "https://localhost:8080/"
        },
        "id": "1tpAFUPuT2ko",
        "outputId": "c02b9e1a-9656-4c3b-c617-9081c3c7b563"
      },
      "execution_count": null,
      "outputs": [
        {
          "output_type": "execute_result",
          "data": {
            "text/plain": [
              "1"
            ]
          },
          "metadata": {},
          "execution_count": 9
        }
      ]
    },
    {
      "cell_type": "code",
      "source": [
        "vector.shape"
      ],
      "metadata": {
        "colab": {
          "base_uri": "https://localhost:8080/"
        },
        "id": "JhL6EejlUEfe",
        "outputId": "d6c721af-700e-490e-dbf9-0a3e84c05019"
      },
      "execution_count": null,
      "outputs": [
        {
          "output_type": "execute_result",
          "data": {
            "text/plain": [
              "torch.Size([2])"
            ]
          },
          "metadata": {},
          "execution_count": 10
        }
      ]
    },
    {
      "cell_type": "code",
      "source": [
        "MATRIX = torch.tensor(data=[[2,4],\n",
        "                            [6,7]])\n",
        "MATRIX"
      ],
      "metadata": {
        "colab": {
          "base_uri": "https://localhost:8080/"
        },
        "id": "oQ8E_S7aUIot",
        "outputId": "6517d9f2-14c5-4629-f691-f604f5ff78ed"
      },
      "execution_count": null,
      "outputs": [
        {
          "output_type": "execute_result",
          "data": {
            "text/plain": [
              "tensor([[2, 4],\n",
              "        [6, 7]])"
            ]
          },
          "metadata": {},
          "execution_count": 11
        }
      ]
    },
    {
      "cell_type": "code",
      "source": [
        "MATRIX.ndim"
      ],
      "metadata": {
        "colab": {
          "base_uri": "https://localhost:8080/"
        },
        "id": "pFyGnjYtUbUu",
        "outputId": "c7269642-654c-4ac0-e51c-bd7830e2bdd1"
      },
      "execution_count": null,
      "outputs": [
        {
          "output_type": "execute_result",
          "data": {
            "text/plain": [
              "2"
            ]
          },
          "metadata": {},
          "execution_count": 12
        }
      ]
    },
    {
      "cell_type": "code",
      "source": [
        "MATRIX[1]"
      ],
      "metadata": {
        "colab": {
          "base_uri": "https://localhost:8080/"
        },
        "id": "ooptcoO7UgOd",
        "outputId": "d1980f52-db35-4cdd-c693-e397f0da5c9d"
      },
      "execution_count": null,
      "outputs": [
        {
          "output_type": "execute_result",
          "data": {
            "text/plain": [
              "tensor([6, 7])"
            ]
          },
          "metadata": {},
          "execution_count": 13
        }
      ]
    },
    {
      "cell_type": "code",
      "source": [
        "MATRIX.shape"
      ],
      "metadata": {
        "colab": {
          "base_uri": "https://localhost:8080/"
        },
        "id": "Zl306ZCOUnVt",
        "outputId": "681ba70c-21eb-4352-9ef6-dfec6554d074"
      },
      "execution_count": null,
      "outputs": [
        {
          "output_type": "execute_result",
          "data": {
            "text/plain": [
              "torch.Size([2, 2])"
            ]
          },
          "metadata": {},
          "execution_count": 14
        }
      ]
    },
    {
      "cell_type": "code",
      "source": [
        "TENSOR = torch.tensor(data=[[[[9,4,6],\n",
        "                             [4,7,4],\n",
        "                             [8,4,7]],\n",
        "                            [[3,5,6],\n",
        "                            [5,7,9],\n",
        "                            [1,8,0]]],\n",
        "                            [[[2,4,5],\n",
        "                             [4,5,6],\n",
        "                             [6,7,5]],\n",
        "                            [[3,4,6],\n",
        "                             [3,5,6],\n",
        "                             [5,3,4]]],\n",
        "                            [[[1,4,5],\n",
        "                             [4,7,6],\n",
        "                             [9,7,4]],\n",
        "                             [[3,5,7],\n",
        "                              [6,8,3],\n",
        "                              [7,7,5]]]])"
      ],
      "metadata": {
        "id": "hKQLKR65Uqjl"
      },
      "execution_count": null,
      "outputs": []
    },
    {
      "cell_type": "code",
      "source": [
        "TENSOR"
      ],
      "metadata": {
        "colab": {
          "base_uri": "https://localhost:8080/"
        },
        "id": "sb6e9NFFU3Md",
        "outputId": "ae96afa0-c1e6-446e-b3b3-50e34b1b956b"
      },
      "execution_count": null,
      "outputs": [
        {
          "output_type": "execute_result",
          "data": {
            "text/plain": [
              "tensor([[[[9, 4, 6],\n",
              "          [4, 7, 4],\n",
              "          [8, 4, 7]],\n",
              "\n",
              "         [[3, 5, 6],\n",
              "          [5, 7, 9],\n",
              "          [1, 8, 0]]],\n",
              "\n",
              "\n",
              "        [[[2, 4, 5],\n",
              "          [4, 5, 6],\n",
              "          [6, 7, 5]],\n",
              "\n",
              "         [[3, 4, 6],\n",
              "          [3, 5, 6],\n",
              "          [5, 3, 4]]],\n",
              "\n",
              "\n",
              "        [[[1, 4, 5],\n",
              "          [4, 7, 6],\n",
              "          [9, 7, 4]],\n",
              "\n",
              "         [[3, 5, 7],\n",
              "          [6, 8, 3],\n",
              "          [7, 7, 5]]]])"
            ]
          },
          "metadata": {},
          "execution_count": 16
        }
      ]
    },
    {
      "cell_type": "code",
      "source": [
        "TENSOR.ndim"
      ],
      "metadata": {
        "colab": {
          "base_uri": "https://localhost:8080/"
        },
        "id": "5tBD_Gu6U4mN",
        "outputId": "ca411ef6-686e-4dd9-ae43-f1da97e9146a"
      },
      "execution_count": null,
      "outputs": [
        {
          "output_type": "execute_result",
          "data": {
            "text/plain": [
              "4"
            ]
          },
          "metadata": {},
          "execution_count": 17
        }
      ]
    },
    {
      "cell_type": "code",
      "source": [
        "TENSOR.shape"
      ],
      "metadata": {
        "colab": {
          "base_uri": "https://localhost:8080/"
        },
        "id": "LMWf93DOU7uV",
        "outputId": "252f93e5-bbee-48e9-a10f-ac2602ce071f"
      },
      "execution_count": null,
      "outputs": [
        {
          "output_type": "execute_result",
          "data": {
            "text/plain": [
              "torch.Size([3, 2, 3, 3])"
            ]
          },
          "metadata": {},
          "execution_count": 18
        }
      ]
    },
    {
      "cell_type": "code",
      "source": [
        "TENSOR[0][1][0][1]"
      ],
      "metadata": {
        "colab": {
          "base_uri": "https://localhost:8080/"
        },
        "id": "WkdARaqqU_wg",
        "outputId": "bb436de3-e4b6-475f-ed1c-2e84f9707670"
      },
      "execution_count": null,
      "outputs": [
        {
          "output_type": "execute_result",
          "data": {
            "text/plain": [
              "tensor(5)"
            ]
          },
          "metadata": {},
          "execution_count": 19
        }
      ]
    },
    {
      "cell_type": "code",
      "source": [
        "TENSOR_1 = torch.randint(low=0, high=9, size=(3,3,3,3,3))"
      ],
      "metadata": {
        "id": "Gi4GOQltVB68"
      },
      "execution_count": null,
      "outputs": []
    },
    {
      "cell_type": "code",
      "source": [
        "TENSOR_1.item"
      ],
      "metadata": {
        "colab": {
          "base_uri": "https://localhost:8080/"
        },
        "id": "JfFlJenFsS3T",
        "outputId": "28dbaf57-6e7a-4ec3-ff27-b0b45de542e1"
      },
      "execution_count": null,
      "outputs": [
        {
          "output_type": "execute_result",
          "data": {
            "text/plain": [
              "<function Tensor.item>"
            ]
          },
          "metadata": {},
          "execution_count": 21
        }
      ]
    },
    {
      "cell_type": "markdown",
      "source": [
        "## Random Tensors\n",
        "\n",
        "Random tensors are important because the way many neural networks learn is that they stary with a tensor full of random numbers and then adjust those randome number to better represent the data.\n",
        "\n",
        "`Start with random numbers -> look at the data -> update random numbers -> look at the data -> update random number`\n",
        "\n",
        "Torch Random tensors - https://pytorch.org/docs/stable/generated/torch.rand.html"
      ],
      "metadata": {
        "id": "hkoWyQMiz0fF"
      }
    },
    {
      "cell_type": "code",
      "source": [
        "### Create a random tensor of size or shape (3,4)\n",
        "\n",
        "rand_tensor = torch.rand(4, 3)\n",
        "rand_tensor"
      ],
      "metadata": {
        "id": "qmgG3UFZsUbR",
        "colab": {
          "base_uri": "https://localhost:8080/"
        },
        "outputId": "b72d243e-ec3f-4e4d-872b-f280e3fa9970"
      },
      "execution_count": null,
      "outputs": [
        {
          "output_type": "execute_result",
          "data": {
            "text/plain": [
              "tensor([[0.3175, 0.7162, 0.8773],\n",
              "        [0.0146, 0.0061, 0.8097],\n",
              "        [0.1025, 0.4875, 0.3401],\n",
              "        [0.5945, 0.3915, 0.7387]])"
            ]
          },
          "metadata": {},
          "execution_count": 22
        }
      ]
    },
    {
      "cell_type": "code",
      "source": [
        "rand_tensor.ndim"
      ],
      "metadata": {
        "colab": {
          "base_uri": "https://localhost:8080/"
        },
        "id": "3CykgqGH059p",
        "outputId": "0c36db23-58aa-4bc6-e172-4c7fe0a24634"
      },
      "execution_count": null,
      "outputs": [
        {
          "output_type": "execute_result",
          "data": {
            "text/plain": [
              "2"
            ]
          },
          "metadata": {},
          "execution_count": 23
        }
      ]
    },
    {
      "cell_type": "code",
      "source": [
        "## Create a random tensor with similar shape to an image tensor\n",
        "\n",
        "rand_image_s_tensor = torch.rand(size=(224, 224, 3)) ## height, width. color channels (RGB)\n",
        "rand_image_s_tensor.shape, rand_image_s_tensor.ndim"
      ],
      "metadata": {
        "colab": {
          "base_uri": "https://localhost:8080/"
        },
        "id": "4OLsr7EI1YiA",
        "outputId": "67cfc547-d471-4575-b44d-c8af3f8e529c"
      },
      "execution_count": null,
      "outputs": [
        {
          "output_type": "execute_result",
          "data": {
            "text/plain": [
              "(torch.Size([224, 224, 3]), 3)"
            ]
          },
          "metadata": {},
          "execution_count": 24
        }
      ]
    },
    {
      "cell_type": "markdown",
      "source": [
        "#### Zeros and Ones tensors"
      ],
      "metadata": {
        "id": "uTF5oMtS3zRo"
      }
    },
    {
      "cell_type": "code",
      "source": [
        "# Create a tensor of all zeros & ones\n",
        "\n",
        "zeros = torch.zeros(size=(3, 4))\n",
        "zeros"
      ],
      "metadata": {
        "colab": {
          "base_uri": "https://localhost:8080/"
        },
        "id": "HA0kC2px1d5v",
        "outputId": "2bc2642b-388d-451d-c647-1954aaca50f0"
      },
      "execution_count": null,
      "outputs": [
        {
          "output_type": "execute_result",
          "data": {
            "text/plain": [
              "tensor([[0., 0., 0., 0.],\n",
              "        [0., 0., 0., 0.],\n",
              "        [0., 0., 0., 0.]])"
            ]
          },
          "metadata": {},
          "execution_count": 25
        }
      ]
    },
    {
      "cell_type": "code",
      "source": [
        "ones = torch.ones(size=(3, 4))\n",
        "ones"
      ],
      "metadata": {
        "colab": {
          "base_uri": "https://localhost:8080/"
        },
        "id": "OvyWsv2G4IBp",
        "outputId": "47ac4a0f-19c5-4a69-825f-ad78b6342e66"
      },
      "execution_count": null,
      "outputs": [
        {
          "output_type": "execute_result",
          "data": {
            "text/plain": [
              "tensor([[1., 1., 1., 1.],\n",
              "        [1., 1., 1., 1.],\n",
              "        [1., 1., 1., 1.]])"
            ]
          },
          "metadata": {},
          "execution_count": 26
        }
      ]
    },
    {
      "cell_type": "code",
      "source": [
        "ones.dtype"
      ],
      "metadata": {
        "colab": {
          "base_uri": "https://localhost:8080/"
        },
        "id": "oMon09AX4Ta9",
        "outputId": "9e101e18-6de8-4f93-8a33-74d3c6b264f4"
      },
      "execution_count": null,
      "outputs": [
        {
          "output_type": "execute_result",
          "data": {
            "text/plain": [
              "torch.float32"
            ]
          },
          "metadata": {},
          "execution_count": 27
        }
      ]
    },
    {
      "cell_type": "markdown",
      "source": [
        "### Create a range of tensors and tensors like"
      ],
      "metadata": {
        "id": "YwQeqXUW4kuT"
      }
    },
    {
      "cell_type": "code",
      "source": [
        "# Use torch.range()\n",
        "one_to_ten = torch.arange(start=0, end=11, step=1, dtype= None)\n",
        "one_to_ten"
      ],
      "metadata": {
        "colab": {
          "base_uri": "https://localhost:8080/"
        },
        "id": "gMJdxauB4W8F",
        "outputId": "4e840699-2c67-4aa8-e8a0-172de53f0367"
      },
      "execution_count": null,
      "outputs": [
        {
          "output_type": "execute_result",
          "data": {
            "text/plain": [
              "tensor([ 0,  1,  2,  3,  4,  5,  6,  7,  8,  9, 10])"
            ]
          },
          "metadata": {},
          "execution_count": 28
        }
      ]
    },
    {
      "cell_type": "code",
      "source": [
        "# Creating tensors like\n",
        "ten_zeros = torch.zeros_like(input=rand_tensor[1][0])\n",
        "ten_zeros"
      ],
      "metadata": {
        "colab": {
          "base_uri": "https://localhost:8080/"
        },
        "id": "l1H8nB6J4vjP",
        "outputId": "2ea69198-3613-4728-df65-46334e30df51"
      },
      "execution_count": null,
      "outputs": [
        {
          "output_type": "execute_result",
          "data": {
            "text/plain": [
              "tensor(0.)"
            ]
          },
          "metadata": {},
          "execution_count": 29
        }
      ]
    },
    {
      "cell_type": "code",
      "source": [
        "rand_tensor*ten_zeros"
      ],
      "metadata": {
        "colab": {
          "base_uri": "https://localhost:8080/"
        },
        "id": "_wbQrK2n6Ls1",
        "outputId": "530546dd-ef26-42ce-e454-840fa21d309d"
      },
      "execution_count": null,
      "outputs": [
        {
          "output_type": "execute_result",
          "data": {
            "text/plain": [
              "tensor([[0., 0., 0.],\n",
              "        [0., 0., 0.],\n",
              "        [0., 0., 0.],\n",
              "        [0., 0., 0.]])"
            ]
          },
          "metadata": {},
          "execution_count": 30
        }
      ]
    },
    {
      "cell_type": "markdown",
      "source": [
        "### Tensor Data Types\n",
        "\n",
        "**Note:** Tensor datatypes is one of the 3 big errors you'll face with Pytorch or datatypes.\n",
        "\n",
        "  1. Tensors not right datatype.\n",
        "  2. Tensors not right shape\n",
        "  3. Tensors not on the right device\n",
        "\n",
        "Tensor Datatypes: https://pytorch.org/docs/stable/tensors.html\n",
        "\n",
        "Precision Computer science : https://dbpedia.org/page/Precision_(computer_science)"
      ],
      "metadata": {
        "id": "tTv7ZiYA7N18"
      }
    },
    {
      "cell_type": "code",
      "source": [
        "# float 32 tensor\n",
        "float32_tensor = torch.tensor(data=[3.0, 6.0, 9.0],\n",
        "                              dtype=None,    #what datatypes is the tensor (e.g float)\n",
        "                              device=None,  # what device is the tensor on cpu or cuda\n",
        "                              requires_grad=False)   #whether or not to track gradients\n",
        "float32_tensor"
      ],
      "metadata": {
        "colab": {
          "base_uri": "https://localhost:8080/"
        },
        "id": "BL5L3Br66nsU",
        "outputId": "c4c0509c-5ab9-4ba1-ea3c-866167872f71"
      },
      "execution_count": null,
      "outputs": [
        {
          "output_type": "execute_result",
          "data": {
            "text/plain": [
              "tensor([3., 6., 9.])"
            ]
          },
          "metadata": {},
          "execution_count": 31
        }
      ]
    },
    {
      "cell_type": "code",
      "source": [
        "float32_tensor.dtype"
      ],
      "metadata": {
        "colab": {
          "base_uri": "https://localhost:8080/"
        },
        "id": "TEDNgsronrt9",
        "outputId": "7987343b-f8a1-4982-f901-47239f068cb5"
      },
      "execution_count": null,
      "outputs": [
        {
          "output_type": "execute_result",
          "data": {
            "text/plain": [
              "torch.float32"
            ]
          },
          "metadata": {},
          "execution_count": 32
        }
      ]
    },
    {
      "cell_type": "code",
      "source": [
        "float16_tensor = float32_tensor.type(torch.float16)\n",
        "float16_tensor"
      ],
      "metadata": {
        "colab": {
          "base_uri": "https://localhost:8080/"
        },
        "id": "pdqGo8kKnzUq",
        "outputId": "ed847bfd-96fc-45f3-cce5-5a9c775e6c96"
      },
      "execution_count": null,
      "outputs": [
        {
          "output_type": "execute_result",
          "data": {
            "text/plain": [
              "tensor([3., 6., 9.], dtype=torch.float16)"
            ]
          },
          "metadata": {},
          "execution_count": 33
        }
      ]
    },
    {
      "cell_type": "code",
      "source": [
        "((float32_tensor * float16_tensor * float32_tensor) + float32_tensor / float16_tensor).shape"
      ],
      "metadata": {
        "colab": {
          "base_uri": "https://localhost:8080/"
        },
        "id": "al9GQT97rxpB",
        "outputId": "9e6ec31e-9edd-4dda-d0e0-ed2efd9f5e87"
      },
      "execution_count": null,
      "outputs": [
        {
          "output_type": "execute_result",
          "data": {
            "text/plain": [
              "torch.Size([3])"
            ]
          },
          "metadata": {},
          "execution_count": 34
        }
      ]
    },
    {
      "cell_type": "markdown",
      "source": [
        "### Getting Information from Tensor.\n",
        "\n",
        "  1. Tensors not right datatype - use `tensor.dtype`\n",
        "  2. Tensors not right shape - use `tensor.shape`\n",
        "  3. Tensors not on the right device - use `tensor.device`\n",
        "\n"
      ],
      "metadata": {
        "id": "t5U_IT2Puryn"
      }
    },
    {
      "cell_type": "code",
      "source": [
        "## Create random tensors.\n",
        "some_tensors = torch.rand(size=(2,3,3), dtype=torch.float16, device='cpu')"
      ],
      "metadata": {
        "id": "PKNVUg-Ru6Df"
      },
      "execution_count": null,
      "outputs": []
    },
    {
      "cell_type": "code",
      "source": [
        "# Details of some_random tensors.\n",
        "\n",
        "print(some_tensors)\n",
        "print(f\"Datatype :{some_tensors.dtype}\")\n",
        "print(f\"Shape :{some_tensors.shape}\")\n",
        "print(f\"Device :{some_tensors.device}\")\n"
      ],
      "metadata": {
        "colab": {
          "base_uri": "https://localhost:8080/"
        },
        "id": "JnaUcJmhwyLl",
        "outputId": "683a22f6-23fd-4d87-f432-b88789f02a42"
      },
      "execution_count": null,
      "outputs": [
        {
          "output_type": "stream",
          "name": "stdout",
          "text": [
            "tensor([[[0.3208, 0.8564, 0.7231],\n",
            "         [0.9004, 0.8550, 0.7490],\n",
            "         [0.5781, 0.5391, 0.1953]],\n",
            "\n",
            "        [[0.7070, 0.7690, 0.8662],\n",
            "         [0.9707, 0.6221, 0.4678],\n",
            "         [0.6772, 0.6382, 0.9980]]], dtype=torch.float16)\n",
            "Datatype :torch.float16\n",
            "Shape :torch.Size([2, 3, 3])\n",
            "Device :cpu\n"
          ]
        }
      ]
    },
    {
      "cell_type": "markdown",
      "source": [
        "### Manipulating Tensors (tensor operations)\n",
        "\n",
        "Tensors operation includes:\n",
        " 1. Addition\n",
        " 2. Substraction\n",
        " 3. Multiplication (element-wise)\n",
        " 4.  Division\n",
        " 5. Matrix Multiplication"
      ],
      "metadata": {
        "id": "7sndWrRBxAGF"
      }
    },
    {
      "cell_type": "code",
      "source": [
        "# Create a tensor\n",
        "\n",
        "tensor = torch.tensor(data=[2,4,6])\n",
        "tensor + 3 #addition"
      ],
      "metadata": {
        "colab": {
          "base_uri": "https://localhost:8080/"
        },
        "id": "RRWI95yn0N6r",
        "outputId": "d4aadeb9-82fe-41b7-e31a-c63d4eab947a"
      },
      "execution_count": null,
      "outputs": [
        {
          "output_type": "execute_result",
          "data": {
            "text/plain": [
              "tensor([5, 7, 9])"
            ]
          },
          "metadata": {},
          "execution_count": 37
        }
      ]
    },
    {
      "cell_type": "code",
      "source": [
        "tensor * 10 # Mulitplication"
      ],
      "metadata": {
        "colab": {
          "base_uri": "https://localhost:8080/"
        },
        "id": "xKQgf7w90qL8",
        "outputId": "19a3d30a-8ac5-4625-f179-37cfb0a9f444"
      },
      "execution_count": null,
      "outputs": [
        {
          "output_type": "execute_result",
          "data": {
            "text/plain": [
              "tensor([20, 40, 60])"
            ]
          },
          "metadata": {},
          "execution_count": 38
        }
      ]
    },
    {
      "cell_type": "code",
      "source": [
        "tensor - 10 # Subtractions"
      ],
      "metadata": {
        "colab": {
          "base_uri": "https://localhost:8080/"
        },
        "id": "3bZ3_W5B04uM",
        "outputId": "24eb27ea-2f64-4c0d-8b80-393dcac2a264"
      },
      "execution_count": null,
      "outputs": [
        {
          "output_type": "execute_result",
          "data": {
            "text/plain": [
              "tensor([-8, -6, -4])"
            ]
          },
          "metadata": {},
          "execution_count": 39
        }
      ]
    },
    {
      "cell_type": "markdown",
      "source": [
        "\n",
        "### Matrix Multiplication\n",
        "\n",
        "Two main ways of performing multiplication in neural networks & deep learning.\n",
        "\n",
        "1. Element-wise\n",
        "2. Matrix Multiplication (dot product)\n",
        "\n",
        "More information: https://www.mathsisfun.com/algebra/matrix-multiplying.html\n",
        "\n",
        "**Note :** There are two main rules that performing matrix multiplication needs to satisfy:\n",
        "\n",
        "1.   The **inner dimensions** must match:\n",
        "\n",
        "  *   `(3, 2) * (3, 2)` won't work\n",
        "  *   `(2, 3) * (3, 2)` will work\n",
        "  *   `(3, 2) * (2, 3)` will work\n",
        "\n",
        "2.   The resulting matrix has the shape of the **outer dimensions:**\n",
        "\n",
        "  *   `(2, 3) * (3, 2)` -> shape `(2, 2)`\n",
        "  *   `(3, 2) * (2, 3)` -> shape  `(3, 3)`\n",
        "\n",
        "\n",
        "**Important :** For Matrix Multiplication, we have different alias for torch.matmul() such as\n",
        "  1. torch.mm\n",
        "  2. `@`\n",
        "\n",
        "\n",
        "\n",
        "\n",
        "\n"
      ],
      "metadata": {
        "id": "F3qM3dAw1ITe"
      }
    },
    {
      "cell_type": "code",
      "source": [
        "# Element wise multiplication\n",
        "\n",
        "print(tensor*tensor)"
      ],
      "metadata": {
        "colab": {
          "base_uri": "https://localhost:8080/"
        },
        "id": "LmCS-oFN2oQK",
        "outputId": "8b413dbb-db9b-4ade-d5f0-2bac309f1c01"
      },
      "execution_count": null,
      "outputs": [
        {
          "output_type": "stream",
          "name": "stdout",
          "text": [
            "tensor([ 4, 16, 36])\n"
          ]
        }
      ]
    },
    {
      "cell_type": "code",
      "source": [
        "# Matrix Maultiplication\n",
        "\n",
        "print(tensor, \"*\", tensor)"
      ],
      "metadata": {
        "colab": {
          "base_uri": "https://localhost:8080/"
        },
        "id": "aAy1WLup6qa5",
        "outputId": "854f8765-329a-40d4-b8d2-f6e9a5af2785"
      },
      "execution_count": null,
      "outputs": [
        {
          "output_type": "stream",
          "name": "stdout",
          "text": [
            "tensor([2, 4, 6]) * tensor([2, 4, 6])\n"
          ]
        }
      ]
    },
    {
      "cell_type": "code",
      "source": [
        "torch.matmul(input=tensor, other=tensor)"
      ],
      "metadata": {
        "colab": {
          "base_uri": "https://localhost:8080/"
        },
        "id": "sdmm5xWY7Cvh",
        "outputId": "3e9b4856-eee5-4ab4-f293-c14e3945e64a"
      },
      "execution_count": null,
      "outputs": [
        {
          "output_type": "execute_result",
          "data": {
            "text/plain": [
              "tensor(56)"
            ]
          },
          "metadata": {},
          "execution_count": 42
        }
      ]
    },
    {
      "cell_type": "code",
      "source": [
        "2*2 + 4*4+6*6"
      ],
      "metadata": {
        "colab": {
          "base_uri": "https://localhost:8080/"
        },
        "id": "EutcWFmt7P2Z",
        "outputId": "ab47fbd0-44f0-4c18-af52-9fea584132d1"
      },
      "execution_count": null,
      "outputs": [
        {
          "output_type": "execute_result",
          "data": {
            "text/plain": [
              "56"
            ]
          },
          "metadata": {},
          "execution_count": 43
        }
      ]
    },
    {
      "cell_type": "code",
      "source": [
        "%%time\n",
        "value = 0\n",
        "for i in range(len(tensor)):\n",
        "  value += tensor[i]*tensor[i]\n",
        "print(value)"
      ],
      "metadata": {
        "colab": {
          "base_uri": "https://localhost:8080/"
        },
        "id": "6mDyZ1bP7s9K",
        "outputId": "17dd607b-fa43-4c53-870b-ab897184c977"
      },
      "execution_count": null,
      "outputs": [
        {
          "output_type": "stream",
          "name": "stdout",
          "text": [
            "tensor(56)\n",
            "CPU times: user 2.3 ms, sys: 0 ns, total: 2.3 ms\n",
            "Wall time: 2.66 ms\n"
          ]
        }
      ]
    },
    {
      "cell_type": "code",
      "source": [
        "%%time\n",
        "torch.matmul(tensor, tensor)"
      ],
      "metadata": {
        "colab": {
          "base_uri": "https://localhost:8080/"
        },
        "id": "DokdWiWx8nyw",
        "outputId": "24900800-f336-4c59-d344-683393067bee"
      },
      "execution_count": null,
      "outputs": [
        {
          "output_type": "stream",
          "name": "stdout",
          "text": [
            "CPU times: user 34 µs, sys: 6 µs, total: 40 µs\n",
            "Wall time: 42.9 µs\n"
          ]
        },
        {
          "output_type": "execute_result",
          "data": {
            "text/plain": [
              "tensor(56)"
            ]
          },
          "metadata": {},
          "execution_count": 45
        }
      ]
    },
    {
      "cell_type": "markdown",
      "source": [
        "### One of the most common errors in deep learning:  shape errors"
      ],
      "metadata": {
        "id": "yTQw5rkw83mg"
      }
    },
    {
      "cell_type": "code",
      "source": [
        "# shapes for matrix multiplication\n",
        "\n",
        "tensor_A  = torch.randint(low=1, high=10, size=(4, 3))\n",
        "tensor_A"
      ],
      "metadata": {
        "colab": {
          "base_uri": "https://localhost:8080/"
        },
        "id": "t6GiSOo2AkR_",
        "outputId": "d32a0d96-c9ef-4ec6-a299-5fa2efe5ce3a"
      },
      "execution_count": null,
      "outputs": [
        {
          "output_type": "execute_result",
          "data": {
            "text/plain": [
              "tensor([[3, 1, 3],\n",
              "        [7, 2, 2],\n",
              "        [8, 9, 8],\n",
              "        [2, 2, 4]])"
            ]
          },
          "metadata": {},
          "execution_count": 46
        }
      ]
    },
    {
      "cell_type": "code",
      "source": [
        "tensor_B = torch.randint(low=1, high=10, size=(5, 3))\n",
        "tensor_B"
      ],
      "metadata": {
        "colab": {
          "base_uri": "https://localhost:8080/"
        },
        "id": "Czc6mEMkBM01",
        "outputId": "415dac4d-5492-4aaa-ec7d-61df1ce19935"
      },
      "execution_count": null,
      "outputs": [
        {
          "output_type": "execute_result",
          "data": {
            "text/plain": [
              "tensor([[9, 5, 1],\n",
              "        [2, 9, 8],\n",
              "        [2, 9, 8],\n",
              "        [4, 5, 7],\n",
              "        [5, 1, 6]])"
            ]
          },
          "metadata": {},
          "execution_count": 47
        }
      ]
    },
    {
      "cell_type": "markdown",
      "source": [
        "To fix our tensor shape issues, we can manupulate the shape of one of our tensors using a **transpose**.\n",
        "\n",
        "A **TRANSPOSE** switches the axes or dimension of a given tensor."
      ],
      "metadata": {
        "id": "7ai9dQuxC7TK"
      }
    },
    {
      "cell_type": "code",
      "source": [
        "tensor_A @ tensor_B.T"
      ],
      "metadata": {
        "colab": {
          "base_uri": "https://localhost:8080/"
        },
        "id": "_h7pSL92BrOu",
        "outputId": "21bac3f1-2833-4bd1-abf3-e772e9726f15"
      },
      "execution_count": null,
      "outputs": [
        {
          "output_type": "execute_result",
          "data": {
            "text/plain": [
              "tensor([[ 35,  39,  39,  38,  34],\n",
              "        [ 75,  48,  48,  52,  49],\n",
              "        [125, 161, 161, 133,  97],\n",
              "        [ 32,  54,  54,  46,  36]])"
            ]
          },
          "metadata": {},
          "execution_count": 48
        }
      ]
    },
    {
      "cell_type": "code",
      "source": [
        "# How the matrix multiplication operation works when tensor_B is transpose.\n",
        "\n",
        "print(f'Original Shapes : tensor_A = {tensor_A.shape} and tensor_B = {tensor_B.shape}')\n",
        "print(f'New Shapes : tensor_A = {tensor_A.shape} and tensor_B.T = {tensor_B.T.shape}')\n",
        "print('Output : \\n')\n",
        "Output = tensor_A@tensor_B.T\n",
        "print(Output)\n",
        "print(f'\\nOutput Shape = {Output.shape}')"
      ],
      "metadata": {
        "colab": {
          "base_uri": "https://localhost:8080/"
        },
        "id": "hIEjzHDbB0uN",
        "outputId": "05f12e31-dc78-4b34-bc04-af1382163490"
      },
      "execution_count": null,
      "outputs": [
        {
          "output_type": "stream",
          "name": "stdout",
          "text": [
            "Original Shapes : tensor_A = torch.Size([4, 3]) and tensor_B = torch.Size([5, 3])\n",
            "New Shapes : tensor_A = torch.Size([4, 3]) and tensor_B.T = torch.Size([3, 5])\n",
            "Output : \n",
            "\n",
            "tensor([[ 35,  39,  39,  38,  34],\n",
            "        [ 75,  48,  48,  52,  49],\n",
            "        [125, 161, 161, 133,  97],\n",
            "        [ 32,  54,  54,  46,  36]])\n",
            "\n",
            "Output Shape = torch.Size([4, 5])\n"
          ]
        }
      ]
    },
    {
      "cell_type": "markdown",
      "source": [
        "### Tensor Aggregation (Min, Max, Sum etc)"
      ],
      "metadata": {
        "id": "zHouUjTHdgoa"
      }
    },
    {
      "cell_type": "code",
      "source": [
        "# Create a tensor\n",
        "x = torch.arange(start=1, end=24, step=2)\n",
        "x"
      ],
      "metadata": {
        "colab": {
          "base_uri": "https://localhost:8080/"
        },
        "id": "NlhjYU1Ehv6e",
        "outputId": "b0d833ea-a79d-44c2-a812-e7b1b33a942c"
      },
      "execution_count": null,
      "outputs": [
        {
          "output_type": "execute_result",
          "data": {
            "text/plain": [
              "tensor([ 1,  3,  5,  7,  9, 11, 13, 15, 17, 19, 21, 23])"
            ]
          },
          "metadata": {},
          "execution_count": 50
        }
      ]
    },
    {
      "cell_type": "code",
      "source": [
        "# Min, Max, mean, sum\n",
        "print(f'Minimum : {torch.min(x)}')\n",
        "print(f'Maximum : {x.max()}')\n",
        "print(f'Mean : {torch.mean(x, dtype=torch.float16)}')\n",
        "print(f'sum : {x.sum()}')"
      ],
      "metadata": {
        "colab": {
          "base_uri": "https://localhost:8080/"
        },
        "id": "M0JQ8Dr2jkqX",
        "outputId": "a97e009d-3728-4c30-fc64-15cb4834427a"
      },
      "execution_count": null,
      "outputs": [
        {
          "output_type": "stream",
          "name": "stdout",
          "text": [
            "Minimum : 1\n",
            "Maximum : 23\n",
            "Mean : 12.0\n",
            "sum : 144\n"
          ]
        }
      ]
    },
    {
      "cell_type": "markdown",
      "source": [
        "### Finding the positional min and max values"
      ],
      "metadata": {
        "id": "hnRPymezjxyI"
      }
    },
    {
      "cell_type": "code",
      "source": [
        "x"
      ],
      "metadata": {
        "colab": {
          "base_uri": "https://localhost:8080/"
        },
        "id": "0IXG1l2Hk05P",
        "outputId": "50703a74-9609-43b5-ee30-abd35996d20b"
      },
      "execution_count": null,
      "outputs": [
        {
          "output_type": "execute_result",
          "data": {
            "text/plain": [
              "tensor([ 1,  3,  5,  7,  9, 11, 13, 15, 17, 19, 21, 23])"
            ]
          },
          "metadata": {},
          "execution_count": 52
        }
      ]
    },
    {
      "cell_type": "code",
      "source": [
        "## Finding the position in tensor that has the minimum value with argmin() -> returns index position of target tensor where minimum value occurs\n",
        "x.argmin(), torch.argmin(x)"
      ],
      "metadata": {
        "colab": {
          "base_uri": "https://localhost:8080/"
        },
        "id": "bMBBsFohonF8",
        "outputId": "c0d85a4c-4156-4e49-d72e-2964a4398bfa"
      },
      "execution_count": null,
      "outputs": [
        {
          "output_type": "execute_result",
          "data": {
            "text/plain": [
              "(tensor(0), tensor(0))"
            ]
          },
          "metadata": {},
          "execution_count": 53
        }
      ]
    },
    {
      "cell_type": "code",
      "source": [
        "xX = torch.randint(low=0, high=10, size=(1, 10))\n",
        "xX"
      ],
      "metadata": {
        "colab": {
          "base_uri": "https://localhost:8080/"
        },
        "id": "3aNjUgUKopt0",
        "outputId": "e1dea2d3-2aa9-4312-a9d6-8124bf32b8b9"
      },
      "execution_count": null,
      "outputs": [
        {
          "output_type": "execute_result",
          "data": {
            "text/plain": [
              "tensor([[1, 0, 0, 5, 4, 9, 1, 7, 1, 7]])"
            ]
          },
          "metadata": {},
          "execution_count": 54
        }
      ]
    },
    {
      "cell_type": "code",
      "source": [
        "torch.argmax(x), x.argmax()"
      ],
      "metadata": {
        "colab": {
          "base_uri": "https://localhost:8080/"
        },
        "id": "5JlspEc1pLNI",
        "outputId": "50898b45-9ba8-4172-d39a-94871a300b70"
      },
      "execution_count": null,
      "outputs": [
        {
          "output_type": "execute_result",
          "data": {
            "text/plain": [
              "(tensor(11), tensor(11))"
            ]
          },
          "metadata": {},
          "execution_count": 55
        }
      ]
    },
    {
      "cell_type": "markdown",
      "source": [
        "### Reshaping, Stacking, Squeezinf, and Unsqueezing tensors\n",
        "\n",
        "* Reshaping - reshapes an input tensor to a defined shape\n",
        "* View - Return a view of an input tensor of certain shape but keep the same memory as the original tensor.\n",
        "* Statcking - Combine multiple tensors on top of each other (vstack) or side by side (hstack).\n",
        "* Squeeze - Remove all `1` dimensions from a tensor.\n",
        "* Unsqueeze - add a `1` dimension to a target tensor.\n",
        "* Permute - Return a view of the input with dimension permuted (swapped) in a certain way.\n",
        "\n",
        "\n",
        "#### **Important Note :**"
      ],
      "metadata": {
        "id": "L0ZTOSr9peuU"
      }
    },
    {
      "cell_type": "code",
      "source": [
        "# Add an extra dimension (Reshaping)\n",
        "import torch\n",
        "x = torch.arange(start=0, end=16, step=2)\n",
        "x_reshaped = torch.reshape(input=x, shape=(1, 8))\n",
        "x_reshaped, x, x_reshaped.shape, x.shape"
      ],
      "metadata": {
        "colab": {
          "base_uri": "https://localhost:8080/"
        },
        "id": "3uHIZg7vrCbr",
        "outputId": "398b1310-c355-4abc-8c80-86813ba6a481"
      },
      "execution_count": null,
      "outputs": [
        {
          "output_type": "execute_result",
          "data": {
            "text/plain": [
              "(tensor([[ 0,  2,  4,  6,  8, 10, 12, 14]]),\n",
              " tensor([ 0,  2,  4,  6,  8, 10, 12, 14]),\n",
              " torch.Size([1, 8]),\n",
              " torch.Size([8]))"
            ]
          },
          "metadata": {},
          "execution_count": 81
        }
      ]
    },
    {
      "cell_type": "code",
      "source": [
        "x.shape, x.ndim"
      ],
      "metadata": {
        "colab": {
          "base_uri": "https://localhost:8080/"
        },
        "id": "8NgvVViQs_M1",
        "outputId": "88ac4edc-b45d-4795-8520-902b2a007e94"
      },
      "execution_count": null,
      "outputs": [
        {
          "output_type": "execute_result",
          "data": {
            "text/plain": [
              "(torch.Size([8]), 1)"
            ]
          },
          "metadata": {},
          "execution_count": 82
        }
      ]
    },
    {
      "cell_type": "code",
      "source": [
        "# Change the view\n",
        "z = x.view(4, 2)\n",
        "z, z.shape"
      ],
      "metadata": {
        "colab": {
          "base_uri": "https://localhost:8080/"
        },
        "id": "boWvwPWquWyZ",
        "outputId": "19ed5a69-0a8d-4fba-9559-3d0b458db9b4"
      },
      "execution_count": null,
      "outputs": [
        {
          "output_type": "execute_result",
          "data": {
            "text/plain": [
              "(tensor([[ 0,  2],\n",
              "         [ 4,  6],\n",
              "         [ 8, 10],\n",
              "         [12, 14]]),\n",
              " torch.Size([4, 2]))"
            ]
          },
          "metadata": {},
          "execution_count": 83
        }
      ]
    },
    {
      "cell_type": "code",
      "source": [
        "# Changing z changes x because a view of a tensor shares the same memory as the original tensor\n",
        "z[1:2,1] = 3\n",
        "print(f'View of x\\n {z}\\n\\n Tensor x : {x}')"
      ],
      "metadata": {
        "colab": {
          "base_uri": "https://localhost:8080/"
        },
        "id": "A1SpnMB40fwd",
        "outputId": "743f2b26-3b8c-40f4-9346-c2ae26ccbf17"
      },
      "execution_count": null,
      "outputs": [
        {
          "output_type": "stream",
          "name": "stdout",
          "text": [
            "View of x\n",
            " tensor([[ 0,  2],\n",
            "        [ 4,  3],\n",
            "        [ 8, 10],\n",
            "        [12, 14]])\n",
            "\n",
            " Tensor x : tensor([ 0,  2,  4,  3,  8, 10, 12, 14])\n"
          ]
        }
      ]
    },
    {
      "cell_type": "code",
      "source": [
        "# Stack tensors on top of each other\n",
        "\n",
        "x_stack = torch.stack([x, x, x, x], dim=0)\n",
        "x_stack"
      ],
      "metadata": {
        "colab": {
          "base_uri": "https://localhost:8080/"
        },
        "id": "35TiqH5T_rfm",
        "outputId": "4c5d955a-bd54-4ca2-a07c-a8da81cecfa3"
      },
      "execution_count": null,
      "outputs": [
        {
          "output_type": "execute_result",
          "data": {
            "text/plain": [
              "tensor([[ 0,  2,  4,  3,  8, 10, 12, 14],\n",
              "        [ 0,  2,  4,  3,  8, 10, 12, 14],\n",
              "        [ 0,  2,  4,  3,  8, 10, 12, 14],\n",
              "        [ 0,  2,  4,  3,  8, 10, 12, 14]])"
            ]
          },
          "metadata": {},
          "execution_count": 85
        }
      ]
    },
    {
      "cell_type": "code",
      "source": [
        "# Squeeze and Unsqueeze - removes all the single dimension from the target tensor\n",
        "print(f'Previous tensor :{x_reshaped}')\n",
        "print(f'Previous tensor shape :{x_reshaped.shape}')\n",
        "\n",
        "#Revoves extra dimension from a tensor\n",
        "x_squeeze = torch.squeeze(input=x_reshaped, dim=0)\n",
        "print(f'\\nNew Tensor :{x_squeeze}')\n",
        "print(f'Shape of New Tensor : {x_squeeze.shape}')"
      ],
      "metadata": {
        "colab": {
          "base_uri": "https://localhost:8080/"
        },
        "id": "yeSW1PmJDCv8",
        "outputId": "5eec5534-181d-4718-995f-530db7077ae0"
      },
      "execution_count": null,
      "outputs": [
        {
          "output_type": "stream",
          "name": "stdout",
          "text": [
            "Previous tensor :tensor([[ 0,  2,  4,  3,  8, 10, 12, 14]])\n",
            "Previous tensor shape :torch.Size([1, 8])\n",
            "\n",
            "New Tensor :tensor([ 0,  2,  4,  3,  8, 10, 12, 14])\n",
            "Shape of New Tensor : torch.Size([8])\n"
          ]
        }
      ]
    },
    {
      "cell_type": "code",
      "source": [
        "print(f'Squeeze tensor : {x_squeeze}')\n",
        "print(f'Shape of Squeeze tensor :{x_squeeze.shape}')\n",
        "\n",
        "#Add an extra dimension to the tensor\n",
        "x_unsqueeze = torch.unsqueeze(input=x_squeeze, dim=0)\n",
        "print(f'\\nUnsqueeze Tensor :{x_unsqueeze}')\n",
        "print(f'Shape of unsqueeze tensor : {x_unsqueeze.shape}')"
      ],
      "metadata": {
        "colab": {
          "base_uri": "https://localhost:8080/"
        },
        "id": "5Z_KUTa6DzXs",
        "outputId": "a1c5061c-1c59-423b-ee4b-424bb807f73d"
      },
      "execution_count": null,
      "outputs": [
        {
          "output_type": "stream",
          "name": "stdout",
          "text": [
            "Squeeze tensor : tensor([ 0,  2,  4,  3,  8, 10, 12, 14])\n",
            "Shape of Squeeze tensor :torch.Size([8])\n",
            "\n",
            "Unsqueeze Tensor :tensor([[ 0,  2,  4,  3,  8, 10, 12, 14]])\n",
            "Shape of unsqueeze tensor : torch.Size([1, 8])\n"
          ]
        }
      ]
    },
    {
      "cell_type": "code",
      "source": [
        "# Permute ~ also called rearranging the order of axes values.\n",
        "\n",
        "# Create a tesnor as an image shape (height, width, colour)\n",
        "\n",
        "x_original = torch.rand(size=(224, 224, 3))\n",
        "print(f'Original Shape : {x_original.shape}')  # Height * Weight * Colour\n",
        "\n",
        "#permute the original tensor to rearrage the axis order.\n",
        "x_permute = torch.permute(x_original, dims=(2, 0, 1)) # rearrange to 0>1, 1>2, 2>0\n",
        "print(f'Permuted Shape : {x_permute.shape}')"
      ],
      "metadata": {
        "colab": {
          "base_uri": "https://localhost:8080/"
        },
        "id": "WxHTs5HlEKcK",
        "outputId": "80db250e-92f6-47ab-c7db-f1b30041e385"
      },
      "execution_count": null,
      "outputs": [
        {
          "output_type": "stream",
          "name": "stdout",
          "text": [
            "Original Shape : torch.Size([224, 224, 3])\n",
            "Permuted Shape : torch.Size([3, 224, 224])\n"
          ]
        }
      ]
    },
    {
      "cell_type": "code",
      "source": [
        "x_permute[0,0,0] = 666666\n",
        "print(x_permute[0,0,0])\n",
        "print(x_original[0,0,0])"
      ],
      "metadata": {
        "colab": {
          "base_uri": "https://localhost:8080/"
        },
        "id": "psTxrwrOE_oe",
        "outputId": "cdcb48f9-c4df-4313-d75b-40ff645e34f8"
      },
      "execution_count": null,
      "outputs": [
        {
          "output_type": "stream",
          "name": "stdout",
          "text": [
            "tensor(666666.)\n",
            "tensor(666666.)\n"
          ]
        }
      ]
    },
    {
      "cell_type": "markdown",
      "source": [
        "**important Note**\n",
        "Since permuting returns a iew(share the same data as the original), he values in the permuted tensor will be the same as the origincal and if you change the values in the view, it will change the value of the original."
      ],
      "metadata": {
        "id": "9OwoS4BeGGjv"
      }
    },
    {
      "cell_type": "code",
      "source": [
        "x_copy = x_permute\n",
        "x_copy[0,0,0]"
      ],
      "metadata": {
        "colab": {
          "base_uri": "https://localhost:8080/"
        },
        "id": "RVuepR2nGiml",
        "outputId": "9e3a7bd2-5fca-4b9c-ea6b-d9f620636be2"
      },
      "execution_count": null,
      "outputs": [
        {
          "output_type": "execute_result",
          "data": {
            "text/plain": [
              "tensor(666666.)"
            ]
          },
          "metadata": {},
          "execution_count": 113
        }
      ]
    },
    {
      "cell_type": "code",
      "source": [],
      "metadata": {
        "id": "t-41IWiRHA5e"
      },
      "execution_count": null,
      "outputs": []
    }
  ]
}