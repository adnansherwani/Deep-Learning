{
  "nbformat": 4,
  "nbformat_minor": 0,
  "metadata": {
    "colab": {
      "provenance": [],
      "gpuType": "T4",
      "authorship_tag": "ABX9TyMCUyXgQ26gUFpgr79Mcur8",
      "include_colab_link": true
    },
    "kernelspec": {
      "name": "python3",
      "display_name": "Python 3"
    },
    "language_info": {
      "name": "python"
    },
    "accelerator": "GPU"
  },
  "cells": [
    {
      "cell_type": "markdown",
      "metadata": {
        "id": "view-in-github",
        "colab_type": "text"
      },
      "source": [
        "<a href=\"https://colab.research.google.com/github/adnansherwani/Deep-Learning/blob/main/00__pytorch_fundamentals.ipynb\" target=\"_parent\"><img src=\"https://colab.research.google.com/assets/colab-badge.svg\" alt=\"Open In Colab\"/></a>"
      ]
    },
    {
      "cell_type": "markdown",
      "source": [
        "# 00. PyTorch Fundamentals\n",
        "\n",
        "*   Resource Notebook: https://www.learnpytorch.io/00_pytorch_fundamentals/\n",
        "*   Documents:  https://pytorch.org/docs/stable/index.html"
      ],
      "metadata": {
        "id": "iE940RiKeUJO"
      }
    },
    {
      "cell_type": "code",
      "source": [
        "import torch\n",
        "import pandas as pd\n",
        "import numpy as np\n",
        "import matplotlib.pyplot as plt\n",
        "import seaborn as sns"
      ],
      "metadata": {
        "id": "foxKC_0AhfUs"
      },
      "execution_count": 1,
      "outputs": []
    },
    {
      "cell_type": "code",
      "source": [
        "print(torch.__version__)"
      ],
      "metadata": {
        "colab": {
          "base_uri": "https://localhost:8080/"
        },
        "id": "3-UvkPwBhik7",
        "outputId": "6bd13c98-6ba5-46a6-f6e6-de8909285f2c"
      },
      "execution_count": 2,
      "outputs": [
        {
          "output_type": "stream",
          "name": "stdout",
          "text": [
            "2.4.1+cu121\n"
          ]
        }
      ]
    },
    {
      "cell_type": "code",
      "source": [
        "torch.cuda.is_available()"
      ],
      "metadata": {
        "colab": {
          "base_uri": "https://localhost:8080/"
        },
        "id": "Y9kQtL3ehnaV",
        "outputId": "beee3308-978a-42c0-b568-9e507daeb95e"
      },
      "execution_count": 3,
      "outputs": [
        {
          "output_type": "execute_result",
          "data": {
            "text/plain": [
              "True"
            ]
          },
          "metadata": {},
          "execution_count": 3
        }
      ]
    },
    {
      "cell_type": "code",
      "source": [
        "!nvidia-smi"
      ],
      "metadata": {
        "colab": {
          "base_uri": "https://localhost:8080/"
        },
        "id": "Q2pqrxHle7-7",
        "outputId": "e92c8ac5-cd10-4188-c81f-104b7f6ee455"
      },
      "execution_count": 4,
      "outputs": [
        {
          "output_type": "stream",
          "name": "stdout",
          "text": [
            "Mon Sep 30 13:43:43 2024       \n",
            "+---------------------------------------------------------------------------------------+\n",
            "| NVIDIA-SMI 535.104.05             Driver Version: 535.104.05   CUDA Version: 12.2     |\n",
            "|-----------------------------------------+----------------------+----------------------+\n",
            "| GPU  Name                 Persistence-M | Bus-Id        Disp.A | Volatile Uncorr. ECC |\n",
            "| Fan  Temp   Perf          Pwr:Usage/Cap |         Memory-Usage | GPU-Util  Compute M. |\n",
            "|                                         |                      |               MIG M. |\n",
            "|=========================================+======================+======================|\n",
            "|   0  Tesla T4                       Off | 00000000:00:04.0 Off |                    0 |\n",
            "| N/A   49C    P8              12W /  70W |      3MiB / 15360MiB |      0%      Default |\n",
            "|                                         |                      |                  N/A |\n",
            "+-----------------------------------------+----------------------+----------------------+\n",
            "                                                                                         \n",
            "+---------------------------------------------------------------------------------------+\n",
            "| Processes:                                                                            |\n",
            "|  GPU   GI   CI        PID   Type   Process name                            GPU Memory |\n",
            "|        ID   ID                                                             Usage      |\n",
            "|=======================================================================================|\n",
            "|  No running processes found                                                           |\n",
            "+---------------------------------------------------------------------------------------+\n"
          ]
        }
      ]
    },
    {
      "cell_type": "markdown",
      "source": [
        "## Introduction to tensors\n",
        "  \n",
        "  ### Creating Tensors\n",
        "\n",
        "  PyTorch Tensors are created using torch.Tensor() - https://pytorch.org/docs/stable/tensors.html\n"
      ],
      "metadata": {
        "id": "j-6j6c5VgPN0"
      }
    },
    {
      "cell_type": "code",
      "source": [
        "scalar = torch.tensor(7)\n",
        "scalar"
      ],
      "metadata": {
        "colab": {
          "base_uri": "https://localhost:8080/"
        },
        "id": "ee8oS8obhAxM",
        "outputId": "81efc7bf-5c75-4e73-c43e-fcbe4f340e83"
      },
      "execution_count": 5,
      "outputs": [
        {
          "output_type": "execute_result",
          "data": {
            "text/plain": [
              "tensor(7)"
            ]
          },
          "metadata": {},
          "execution_count": 5
        }
      ]
    },
    {
      "cell_type": "code",
      "source": [
        "scalar.ndim"
      ],
      "metadata": {
        "colab": {
          "base_uri": "https://localhost:8080/"
        },
        "id": "yRVhE-NYhq8D",
        "outputId": "c10a580e-5fb3-43f6-bc3c-166bc9c3b29a"
      },
      "execution_count": 6,
      "outputs": [
        {
          "output_type": "execute_result",
          "data": {
            "text/plain": [
              "0"
            ]
          },
          "metadata": {},
          "execution_count": 6
        }
      ]
    },
    {
      "cell_type": "code",
      "source": [
        "# Getting the python tensor as int\n",
        "scalar.item()"
      ],
      "metadata": {
        "colab": {
          "base_uri": "https://localhost:8080/"
        },
        "id": "3H_D25GkjMTD",
        "outputId": "d74ac34c-c6d2-4c5c-d36f-84dc1304aff6"
      },
      "execution_count": 7,
      "outputs": [
        {
          "output_type": "execute_result",
          "data": {
            "text/plain": [
              "7"
            ]
          },
          "metadata": {},
          "execution_count": 7
        }
      ]
    },
    {
      "cell_type": "code",
      "source": [
        "# Vector\n",
        "vector = torch.tensor(data=[1, 2])\n",
        "vector"
      ],
      "metadata": {
        "colab": {
          "base_uri": "https://localhost:8080/"
        },
        "id": "LPLUKKeujWDa",
        "outputId": "eb3e29de-8085-4429-918c-04a4d7cb5899"
      },
      "execution_count": 8,
      "outputs": [
        {
          "output_type": "execute_result",
          "data": {
            "text/plain": [
              "tensor([1, 2])"
            ]
          },
          "metadata": {},
          "execution_count": 8
        }
      ]
    },
    {
      "cell_type": "code",
      "source": [
        "vector.ndim"
      ],
      "metadata": {
        "colab": {
          "base_uri": "https://localhost:8080/"
        },
        "id": "1tpAFUPuT2ko",
        "outputId": "6b371c34-8e2c-4069-cdfd-ead60f0748d3"
      },
      "execution_count": 9,
      "outputs": [
        {
          "output_type": "execute_result",
          "data": {
            "text/plain": [
              "1"
            ]
          },
          "metadata": {},
          "execution_count": 9
        }
      ]
    },
    {
      "cell_type": "code",
      "source": [
        "vector.shape"
      ],
      "metadata": {
        "colab": {
          "base_uri": "https://localhost:8080/"
        },
        "id": "JhL6EejlUEfe",
        "outputId": "8258268c-f8db-4c17-9a48-c7ff5237f996"
      },
      "execution_count": 10,
      "outputs": [
        {
          "output_type": "execute_result",
          "data": {
            "text/plain": [
              "torch.Size([2])"
            ]
          },
          "metadata": {},
          "execution_count": 10
        }
      ]
    },
    {
      "cell_type": "code",
      "source": [
        "MATRIX = torch.tensor(data=[[2,4],\n",
        "                            [6,7]])\n",
        "MATRIX"
      ],
      "metadata": {
        "colab": {
          "base_uri": "https://localhost:8080/"
        },
        "id": "oQ8E_S7aUIot",
        "outputId": "47f7a306-9c35-42c3-c4f2-195bde4c8764"
      },
      "execution_count": 11,
      "outputs": [
        {
          "output_type": "execute_result",
          "data": {
            "text/plain": [
              "tensor([[2, 4],\n",
              "        [6, 7]])"
            ]
          },
          "metadata": {},
          "execution_count": 11
        }
      ]
    },
    {
      "cell_type": "code",
      "source": [
        "MATRIX.ndim"
      ],
      "metadata": {
        "colab": {
          "base_uri": "https://localhost:8080/"
        },
        "id": "pFyGnjYtUbUu",
        "outputId": "fe9aba09-0422-493c-94e3-9a889f142d1f"
      },
      "execution_count": 12,
      "outputs": [
        {
          "output_type": "execute_result",
          "data": {
            "text/plain": [
              "2"
            ]
          },
          "metadata": {},
          "execution_count": 12
        }
      ]
    },
    {
      "cell_type": "code",
      "source": [
        "MATRIX[1]"
      ],
      "metadata": {
        "colab": {
          "base_uri": "https://localhost:8080/"
        },
        "id": "ooptcoO7UgOd",
        "outputId": "1f6f92a8-5079-40c1-d29d-8cbdd3340324"
      },
      "execution_count": 13,
      "outputs": [
        {
          "output_type": "execute_result",
          "data": {
            "text/plain": [
              "tensor([6, 7])"
            ]
          },
          "metadata": {},
          "execution_count": 13
        }
      ]
    },
    {
      "cell_type": "code",
      "source": [
        "MATRIX.shape"
      ],
      "metadata": {
        "colab": {
          "base_uri": "https://localhost:8080/"
        },
        "id": "Zl306ZCOUnVt",
        "outputId": "4a644bd2-eb05-4f6c-91b3-60018393c145"
      },
      "execution_count": 14,
      "outputs": [
        {
          "output_type": "execute_result",
          "data": {
            "text/plain": [
              "torch.Size([2, 2])"
            ]
          },
          "metadata": {},
          "execution_count": 14
        }
      ]
    },
    {
      "cell_type": "code",
      "source": [
        "TENSOR = torch.tensor(data=[[[[9,4,6],\n",
        "                             [4,7,4],\n",
        "                             [8,4,7]],\n",
        "                            [[3,5,6],\n",
        "                            [5,7,9],\n",
        "                            [1,8,0]]],\n",
        "                            [[[2,4,5],\n",
        "                             [4,5,6],\n",
        "                             [6,7,5]],\n",
        "                            [[3,4,6],\n",
        "                             [3,5,6],\n",
        "                             [5,3,4]]],\n",
        "                            [[[1,4,5],\n",
        "                             [4,7,6],\n",
        "                             [9,7,4]],\n",
        "                             [[3,5,7],\n",
        "                              [6,8,3],\n",
        "                              [7,7,5]]]])"
      ],
      "metadata": {
        "id": "hKQLKR65Uqjl"
      },
      "execution_count": 15,
      "outputs": []
    },
    {
      "cell_type": "code",
      "source": [
        "TENSOR"
      ],
      "metadata": {
        "colab": {
          "base_uri": "https://localhost:8080/"
        },
        "id": "sb6e9NFFU3Md",
        "outputId": "f4c58e59-0048-47aa-b8a5-0415b83fd1ce"
      },
      "execution_count": 16,
      "outputs": [
        {
          "output_type": "execute_result",
          "data": {
            "text/plain": [
              "tensor([[[[9, 4, 6],\n",
              "          [4, 7, 4],\n",
              "          [8, 4, 7]],\n",
              "\n",
              "         [[3, 5, 6],\n",
              "          [5, 7, 9],\n",
              "          [1, 8, 0]]],\n",
              "\n",
              "\n",
              "        [[[2, 4, 5],\n",
              "          [4, 5, 6],\n",
              "          [6, 7, 5]],\n",
              "\n",
              "         [[3, 4, 6],\n",
              "          [3, 5, 6],\n",
              "          [5, 3, 4]]],\n",
              "\n",
              "\n",
              "        [[[1, 4, 5],\n",
              "          [4, 7, 6],\n",
              "          [9, 7, 4]],\n",
              "\n",
              "         [[3, 5, 7],\n",
              "          [6, 8, 3],\n",
              "          [7, 7, 5]]]])"
            ]
          },
          "metadata": {},
          "execution_count": 16
        }
      ]
    },
    {
      "cell_type": "code",
      "source": [
        "TENSOR.ndim"
      ],
      "metadata": {
        "colab": {
          "base_uri": "https://localhost:8080/"
        },
        "id": "5tBD_Gu6U4mN",
        "outputId": "5ee7816f-ccbd-4717-b7d4-1183b666364f"
      },
      "execution_count": 17,
      "outputs": [
        {
          "output_type": "execute_result",
          "data": {
            "text/plain": [
              "4"
            ]
          },
          "metadata": {},
          "execution_count": 17
        }
      ]
    },
    {
      "cell_type": "code",
      "source": [
        "TENSOR.shape"
      ],
      "metadata": {
        "colab": {
          "base_uri": "https://localhost:8080/"
        },
        "id": "LMWf93DOU7uV",
        "outputId": "36f65b74-3d7f-45c0-80aa-bcfc3d2bf8ec"
      },
      "execution_count": 18,
      "outputs": [
        {
          "output_type": "execute_result",
          "data": {
            "text/plain": [
              "torch.Size([3, 2, 3, 3])"
            ]
          },
          "metadata": {},
          "execution_count": 18
        }
      ]
    },
    {
      "cell_type": "code",
      "source": [
        "TENSOR[0][1][0][1]"
      ],
      "metadata": {
        "colab": {
          "base_uri": "https://localhost:8080/"
        },
        "id": "WkdARaqqU_wg",
        "outputId": "2f362ccd-6ccf-4ce5-8fb6-9a75c6b2bd4a"
      },
      "execution_count": 19,
      "outputs": [
        {
          "output_type": "execute_result",
          "data": {
            "text/plain": [
              "tensor(5)"
            ]
          },
          "metadata": {},
          "execution_count": 19
        }
      ]
    },
    {
      "cell_type": "code",
      "source": [
        "TENSOR_1 = torch.randint(low=0, high=9, size=(3,3,3,3,3))"
      ],
      "metadata": {
        "id": "Gi4GOQltVB68"
      },
      "execution_count": 20,
      "outputs": []
    },
    {
      "cell_type": "code",
      "source": [
        "TENSOR_1.item"
      ],
      "metadata": {
        "colab": {
          "base_uri": "https://localhost:8080/"
        },
        "id": "JfFlJenFsS3T",
        "outputId": "4b774a4a-bb9b-4022-94f8-8f70cca18ac1"
      },
      "execution_count": 21,
      "outputs": [
        {
          "output_type": "execute_result",
          "data": {
            "text/plain": [
              "<function Tensor.item>"
            ]
          },
          "metadata": {},
          "execution_count": 21
        }
      ]
    },
    {
      "cell_type": "markdown",
      "source": [
        "## Random Tensors\n",
        "\n",
        "Random tensors are important because the way many neural networks learn is that they stary with a tensor full of random numbers and then adjust those randome number to better represent the data.\n",
        "\n",
        "`Start with random numbers -> look at the data -> update random numbers -> look at the data -> update random number`\n",
        "\n",
        "Torch Random tensors - https://pytorch.org/docs/stable/generated/torch.rand.html"
      ],
      "metadata": {
        "id": "hkoWyQMiz0fF"
      }
    },
    {
      "cell_type": "code",
      "source": [
        "### Create a random tensor of size or shape (3,4)\n",
        "\n",
        "rand_tensor = torch.rand(4, 3)\n",
        "rand_tensor"
      ],
      "metadata": {
        "id": "qmgG3UFZsUbR",
        "colab": {
          "base_uri": "https://localhost:8080/"
        },
        "outputId": "2c60db03-df05-44c1-d550-7b1a2a1499f7"
      },
      "execution_count": 22,
      "outputs": [
        {
          "output_type": "execute_result",
          "data": {
            "text/plain": [
              "tensor([[0.1077, 0.6923, 0.9111],\n",
              "        [0.8011, 0.0446, 0.6335],\n",
              "        [0.0424, 0.9849, 0.2810],\n",
              "        [0.8611, 0.6586, 0.6666]])"
            ]
          },
          "metadata": {},
          "execution_count": 22
        }
      ]
    },
    {
      "cell_type": "code",
      "source": [
        "rand_tensor.ndim"
      ],
      "metadata": {
        "colab": {
          "base_uri": "https://localhost:8080/"
        },
        "id": "3CykgqGH059p",
        "outputId": "51641c30-d815-44de-e14c-09964f2b8a52"
      },
      "execution_count": 23,
      "outputs": [
        {
          "output_type": "execute_result",
          "data": {
            "text/plain": [
              "2"
            ]
          },
          "metadata": {},
          "execution_count": 23
        }
      ]
    },
    {
      "cell_type": "code",
      "source": [
        "## Create a random tensor with similar shape to an image tensor\n",
        "\n",
        "rand_image_s_tensor = torch.rand(size=(224, 224, 3)) ## height, width. color channels (RGB)\n",
        "rand_image_s_tensor.shape, rand_image_s_tensor.ndim"
      ],
      "metadata": {
        "colab": {
          "base_uri": "https://localhost:8080/"
        },
        "id": "4OLsr7EI1YiA",
        "outputId": "d8cc7d8c-ac6f-4a6f-c74d-24da554bbd98"
      },
      "execution_count": 24,
      "outputs": [
        {
          "output_type": "execute_result",
          "data": {
            "text/plain": [
              "(torch.Size([224, 224, 3]), 3)"
            ]
          },
          "metadata": {},
          "execution_count": 24
        }
      ]
    },
    {
      "cell_type": "markdown",
      "source": [
        "#### Zeros and Ones tensors"
      ],
      "metadata": {
        "id": "uTF5oMtS3zRo"
      }
    },
    {
      "cell_type": "code",
      "source": [
        "# Create a tensor of all zeros & ones\n",
        "\n",
        "zeros = torch.zeros(size=(3, 4))\n",
        "zeros"
      ],
      "metadata": {
        "colab": {
          "base_uri": "https://localhost:8080/"
        },
        "id": "HA0kC2px1d5v",
        "outputId": "24989338-48d6-4857-b273-3e0842d972e9"
      },
      "execution_count": 25,
      "outputs": [
        {
          "output_type": "execute_result",
          "data": {
            "text/plain": [
              "tensor([[0., 0., 0., 0.],\n",
              "        [0., 0., 0., 0.],\n",
              "        [0., 0., 0., 0.]])"
            ]
          },
          "metadata": {},
          "execution_count": 25
        }
      ]
    },
    {
      "cell_type": "code",
      "source": [
        "ones = torch.ones(size=(3, 4))\n",
        "ones"
      ],
      "metadata": {
        "colab": {
          "base_uri": "https://localhost:8080/"
        },
        "id": "OvyWsv2G4IBp",
        "outputId": "a15b227f-6aa8-4161-ff30-24d34468eec4"
      },
      "execution_count": 26,
      "outputs": [
        {
          "output_type": "execute_result",
          "data": {
            "text/plain": [
              "tensor([[1., 1., 1., 1.],\n",
              "        [1., 1., 1., 1.],\n",
              "        [1., 1., 1., 1.]])"
            ]
          },
          "metadata": {},
          "execution_count": 26
        }
      ]
    },
    {
      "cell_type": "code",
      "source": [
        "ones.dtype"
      ],
      "metadata": {
        "colab": {
          "base_uri": "https://localhost:8080/"
        },
        "id": "oMon09AX4Ta9",
        "outputId": "27cd1918-b10e-4675-cf9d-5b2a534eeff9"
      },
      "execution_count": 27,
      "outputs": [
        {
          "output_type": "execute_result",
          "data": {
            "text/plain": [
              "torch.float32"
            ]
          },
          "metadata": {},
          "execution_count": 27
        }
      ]
    },
    {
      "cell_type": "markdown",
      "source": [
        "### Create a range of tensors and tensors like"
      ],
      "metadata": {
        "id": "YwQeqXUW4kuT"
      }
    },
    {
      "cell_type": "code",
      "source": [
        "# Use torch.range()\n",
        "one_to_ten = torch.arange(start=0, end=11, step=1, dtype= None)\n",
        "one_to_ten"
      ],
      "metadata": {
        "colab": {
          "base_uri": "https://localhost:8080/"
        },
        "id": "gMJdxauB4W8F",
        "outputId": "135ca772-c431-4f54-87e2-eeda1328ba0a"
      },
      "execution_count": 28,
      "outputs": [
        {
          "output_type": "execute_result",
          "data": {
            "text/plain": [
              "tensor([ 0,  1,  2,  3,  4,  5,  6,  7,  8,  9, 10])"
            ]
          },
          "metadata": {},
          "execution_count": 28
        }
      ]
    },
    {
      "cell_type": "code",
      "source": [
        "# Creating tensors like\n",
        "ten_zeros = torch.zeros_like(input=rand_tensor[1][0])\n",
        "ten_zeros"
      ],
      "metadata": {
        "colab": {
          "base_uri": "https://localhost:8080/"
        },
        "id": "l1H8nB6J4vjP",
        "outputId": "56bd061b-8aac-4425-a0c6-a13aca7c4572"
      },
      "execution_count": 29,
      "outputs": [
        {
          "output_type": "execute_result",
          "data": {
            "text/plain": [
              "tensor(0.)"
            ]
          },
          "metadata": {},
          "execution_count": 29
        }
      ]
    },
    {
      "cell_type": "code",
      "source": [
        "rand_tensor*ten_zeros"
      ],
      "metadata": {
        "colab": {
          "base_uri": "https://localhost:8080/"
        },
        "id": "_wbQrK2n6Ls1",
        "outputId": "e2e529fd-73e1-456b-8fe3-04fd079d8334"
      },
      "execution_count": 30,
      "outputs": [
        {
          "output_type": "execute_result",
          "data": {
            "text/plain": [
              "tensor([[0., 0., 0.],\n",
              "        [0., 0., 0.],\n",
              "        [0., 0., 0.],\n",
              "        [0., 0., 0.]])"
            ]
          },
          "metadata": {},
          "execution_count": 30
        }
      ]
    },
    {
      "cell_type": "markdown",
      "source": [
        "### Tensor Data Types\n",
        "\n",
        "**Note:** Tensor datatypes is one of the 3 big errors you'll face with Pytorch or datatypes.\n",
        "\n",
        "  1. Tensors not right datatype.\n",
        "  2. Tensors not right shape\n",
        "  3. Tensors not on the right device\n",
        "\n",
        "Tensor Datatypes: https://pytorch.org/docs/stable/tensors.html\n",
        "\n",
        "Precision Computer science : https://dbpedia.org/page/Precision_(computer_science)"
      ],
      "metadata": {
        "id": "tTv7ZiYA7N18"
      }
    },
    {
      "cell_type": "code",
      "source": [
        "# float 32 tensor\n",
        "float32_tensor = torch.tensor(data=[3.0, 6.0, 9.0],\n",
        "                              dtype=None,    #what datatypes is the tensor (e.g float)\n",
        "                              device=None,  # what device is the tensor on cpu or cuda\n",
        "                              requires_grad=False)   #whether or not to track gradients\n",
        "float32_tensor"
      ],
      "metadata": {
        "colab": {
          "base_uri": "https://localhost:8080/"
        },
        "id": "BL5L3Br66nsU",
        "outputId": "427650c8-b502-4574-e084-50b844da41d6"
      },
      "execution_count": 31,
      "outputs": [
        {
          "output_type": "execute_result",
          "data": {
            "text/plain": [
              "tensor([3., 6., 9.])"
            ]
          },
          "metadata": {},
          "execution_count": 31
        }
      ]
    },
    {
      "cell_type": "code",
      "source": [
        "float32_tensor.dtype"
      ],
      "metadata": {
        "colab": {
          "base_uri": "https://localhost:8080/"
        },
        "id": "TEDNgsronrt9",
        "outputId": "49bb2df2-65c5-4200-8f13-1069ef3363ed"
      },
      "execution_count": 32,
      "outputs": [
        {
          "output_type": "execute_result",
          "data": {
            "text/plain": [
              "torch.float32"
            ]
          },
          "metadata": {},
          "execution_count": 32
        }
      ]
    },
    {
      "cell_type": "code",
      "source": [
        "float16_tensor = float32_tensor.type(torch.float16)\n",
        "float16_tensor"
      ],
      "metadata": {
        "colab": {
          "base_uri": "https://localhost:8080/"
        },
        "id": "pdqGo8kKnzUq",
        "outputId": "b83f6466-8367-46f1-df10-72d00cef48b4"
      },
      "execution_count": 33,
      "outputs": [
        {
          "output_type": "execute_result",
          "data": {
            "text/plain": [
              "tensor([3., 6., 9.], dtype=torch.float16)"
            ]
          },
          "metadata": {},
          "execution_count": 33
        }
      ]
    },
    {
      "cell_type": "code",
      "source": [
        "((float32_tensor * float16_tensor * float32_tensor) + float32_tensor / float16_tensor).shape"
      ],
      "metadata": {
        "colab": {
          "base_uri": "https://localhost:8080/"
        },
        "id": "al9GQT97rxpB",
        "outputId": "c8ff145c-4c5f-4ab6-ec1a-4d343c87465e"
      },
      "execution_count": 34,
      "outputs": [
        {
          "output_type": "execute_result",
          "data": {
            "text/plain": [
              "torch.Size([3])"
            ]
          },
          "metadata": {},
          "execution_count": 34
        }
      ]
    },
    {
      "cell_type": "markdown",
      "source": [
        "### Getting Information from Tensor.\n",
        "\n",
        "  1. Tensors not right datatype - use `tensor.dtype`\n",
        "  2. Tensors not right shape - use `tensor.shape`\n",
        "  3. Tensors not on the right device - use `tensor.device`\n",
        "\n"
      ],
      "metadata": {
        "id": "t5U_IT2Puryn"
      }
    },
    {
      "cell_type": "code",
      "source": [
        "## Create random tensors.\n",
        "some_tensors = torch.rand(size=(2,3,3), dtype=torch.float16, device='cpu')"
      ],
      "metadata": {
        "id": "PKNVUg-Ru6Df"
      },
      "execution_count": 35,
      "outputs": []
    },
    {
      "cell_type": "code",
      "source": [
        "# Details of some_random tensors.\n",
        "\n",
        "print(some_tensors)\n",
        "print(f\"Datatype :{some_tensors.dtype}\")\n",
        "print(f\"Shape :{some_tensors.shape}\")\n",
        "print(f\"Device :{some_tensors.device}\")\n"
      ],
      "metadata": {
        "colab": {
          "base_uri": "https://localhost:8080/"
        },
        "id": "JnaUcJmhwyLl",
        "outputId": "145b3781-a693-4ab5-b716-943a4b925225"
      },
      "execution_count": 36,
      "outputs": [
        {
          "output_type": "stream",
          "name": "stdout",
          "text": [
            "tensor([[[0.1270, 0.3501, 0.7656],\n",
            "         [0.8369, 0.2026, 0.7026],\n",
            "         [0.9019, 0.4858, 0.0640]],\n",
            "\n",
            "        [[0.0400, 0.0542, 0.5610],\n",
            "         [0.3774, 0.8262, 0.2383],\n",
            "         [0.3174, 0.2275, 0.1069]]], dtype=torch.float16)\n",
            "Datatype :torch.float16\n",
            "Shape :torch.Size([2, 3, 3])\n",
            "Device :cpu\n"
          ]
        }
      ]
    },
    {
      "cell_type": "markdown",
      "source": [
        "### Manipulating Tensors (tensor operations)\n",
        "\n",
        "Tensors operation includes:\n",
        " 1. Addition\n",
        " 2. Substraction\n",
        " 3. Multiplication (element-wise)\n",
        " 4.  Division\n",
        " 5. Matrix Multiplication"
      ],
      "metadata": {
        "id": "7sndWrRBxAGF"
      }
    },
    {
      "cell_type": "code",
      "source": [
        "# Create a tensor\n",
        "\n",
        "tensor = torch.tensor(data=[2,4,6])\n",
        "tensor + 3 #addition"
      ],
      "metadata": {
        "colab": {
          "base_uri": "https://localhost:8080/"
        },
        "id": "RRWI95yn0N6r",
        "outputId": "dbd91bf8-6983-4a9d-b9aa-51cb0466e0f8"
      },
      "execution_count": 37,
      "outputs": [
        {
          "output_type": "execute_result",
          "data": {
            "text/plain": [
              "tensor([5, 7, 9])"
            ]
          },
          "metadata": {},
          "execution_count": 37
        }
      ]
    },
    {
      "cell_type": "code",
      "source": [
        "tensor * 10 # Mulitplication"
      ],
      "metadata": {
        "colab": {
          "base_uri": "https://localhost:8080/"
        },
        "id": "xKQgf7w90qL8",
        "outputId": "170e77a7-df44-4a1e-c386-31dd80a032ca"
      },
      "execution_count": 38,
      "outputs": [
        {
          "output_type": "execute_result",
          "data": {
            "text/plain": [
              "tensor([20, 40, 60])"
            ]
          },
          "metadata": {},
          "execution_count": 38
        }
      ]
    },
    {
      "cell_type": "code",
      "source": [
        "tensor - 10 # Subtractions"
      ],
      "metadata": {
        "colab": {
          "base_uri": "https://localhost:8080/"
        },
        "id": "3bZ3_W5B04uM",
        "outputId": "6bdfee6d-edf6-44a0-d186-3ace323b07d8"
      },
      "execution_count": 39,
      "outputs": [
        {
          "output_type": "execute_result",
          "data": {
            "text/plain": [
              "tensor([-8, -6, -4])"
            ]
          },
          "metadata": {},
          "execution_count": 39
        }
      ]
    },
    {
      "cell_type": "markdown",
      "source": [
        "\n",
        "### Matrix Multiplication\n",
        "\n",
        "Two main ways of performing multiplication in neural networks & deep learning.\n",
        "\n",
        "1. Element-wise\n",
        "2. Matrix Multiplication (dot product)\n",
        "\n",
        "More information: https://www.mathsisfun.com/algebra/matrix-multiplying.html\n",
        "\n",
        "**Note :** There are two main rules that performing matrix multiplication needs to satisfy:\n",
        "\n",
        "1.   The **inner dimensions** must match:\n",
        "\n",
        "  *   `(3, 2) * (3, 2)` won't work\n",
        "  *   `(2, 3) * (3, 2)` will work\n",
        "  *   `(3, 2) * (2, 3)` will work\n",
        "\n",
        "2.   The resulting matrix has the shape of the **outer dimensions:**\n",
        "\n",
        "  *   `(2, 3) * (3, 2)` -> shape `(2, 2)`\n",
        "  *   `(3, 2) * (2, 3)` -> shape  `(3, 3)`\n",
        "\n",
        "\n",
        "**Important :** For Matrix Multiplication, we have different alias for torch.matmul() such as\n",
        "  1. torch.mm\n",
        "  2. `@`\n",
        "\n",
        "\n",
        "\n",
        "\n",
        "\n"
      ],
      "metadata": {
        "id": "F3qM3dAw1ITe"
      }
    },
    {
      "cell_type": "code",
      "source": [
        "# Element wise multiplication\n",
        "\n",
        "print(tensor*tensor)"
      ],
      "metadata": {
        "colab": {
          "base_uri": "https://localhost:8080/"
        },
        "id": "LmCS-oFN2oQK",
        "outputId": "9fa14f2d-b87b-4a43-96e5-49c8c419fb7e"
      },
      "execution_count": 40,
      "outputs": [
        {
          "output_type": "stream",
          "name": "stdout",
          "text": [
            "tensor([ 4, 16, 36])\n"
          ]
        }
      ]
    },
    {
      "cell_type": "code",
      "source": [
        "# Matrix Maultiplication\n",
        "\n",
        "print(tensor, \"*\", tensor)"
      ],
      "metadata": {
        "colab": {
          "base_uri": "https://localhost:8080/"
        },
        "id": "aAy1WLup6qa5",
        "outputId": "7b73a432-838c-4d2a-f035-aa2b26f42139"
      },
      "execution_count": 41,
      "outputs": [
        {
          "output_type": "stream",
          "name": "stdout",
          "text": [
            "tensor([2, 4, 6]) * tensor([2, 4, 6])\n"
          ]
        }
      ]
    },
    {
      "cell_type": "code",
      "source": [
        "torch.matmul(input=tensor, other=tensor)"
      ],
      "metadata": {
        "colab": {
          "base_uri": "https://localhost:8080/"
        },
        "id": "sdmm5xWY7Cvh",
        "outputId": "8ca5c3a9-06ba-458a-f801-616c77db0798"
      },
      "execution_count": 42,
      "outputs": [
        {
          "output_type": "execute_result",
          "data": {
            "text/plain": [
              "tensor(56)"
            ]
          },
          "metadata": {},
          "execution_count": 42
        }
      ]
    },
    {
      "cell_type": "code",
      "source": [
        "2*2 + 4*4+6*6"
      ],
      "metadata": {
        "colab": {
          "base_uri": "https://localhost:8080/"
        },
        "id": "EutcWFmt7P2Z",
        "outputId": "f6b2c497-99ca-422f-80c2-50f44bb931dd"
      },
      "execution_count": 43,
      "outputs": [
        {
          "output_type": "execute_result",
          "data": {
            "text/plain": [
              "56"
            ]
          },
          "metadata": {},
          "execution_count": 43
        }
      ]
    },
    {
      "cell_type": "code",
      "source": [
        "%%time\n",
        "value = 0\n",
        "for i in range(len(tensor)):\n",
        "  value += tensor[i]*tensor[i]\n",
        "print(value)"
      ],
      "metadata": {
        "colab": {
          "base_uri": "https://localhost:8080/"
        },
        "id": "6mDyZ1bP7s9K",
        "outputId": "abb08d6c-a5c4-4937-ebb3-751ca5bb8f3a"
      },
      "execution_count": 44,
      "outputs": [
        {
          "output_type": "stream",
          "name": "stdout",
          "text": [
            "tensor(56)\n",
            "CPU times: user 3.14 ms, sys: 836 µs, total: 3.97 ms\n",
            "Wall time: 6.78 ms\n"
          ]
        }
      ]
    },
    {
      "cell_type": "code",
      "source": [
        "%%time\n",
        "torch.matmul(tensor, tensor)"
      ],
      "metadata": {
        "colab": {
          "base_uri": "https://localhost:8080/"
        },
        "id": "DokdWiWx8nyw",
        "outputId": "a741ee10-d083-4cf5-b10c-c098e1db15ed"
      },
      "execution_count": 45,
      "outputs": [
        {
          "output_type": "stream",
          "name": "stdout",
          "text": [
            "CPU times: user 34 µs, sys: 0 ns, total: 34 µs\n",
            "Wall time: 37.9 µs\n"
          ]
        },
        {
          "output_type": "execute_result",
          "data": {
            "text/plain": [
              "tensor(56)"
            ]
          },
          "metadata": {},
          "execution_count": 45
        }
      ]
    },
    {
      "cell_type": "markdown",
      "source": [
        "### One of the most common errors in deep learning:  shape errors"
      ],
      "metadata": {
        "id": "yTQw5rkw83mg"
      }
    },
    {
      "cell_type": "code",
      "source": [
        "# shapes for matrix multiplication\n",
        "\n",
        "tensor_A  = torch.randint(low=1, high=10, size=(4, 3))\n",
        "tensor_A"
      ],
      "metadata": {
        "colab": {
          "base_uri": "https://localhost:8080/"
        },
        "id": "t6GiSOo2AkR_",
        "outputId": "67ddb69e-d0ef-4c47-c01f-036bde0e3d82"
      },
      "execution_count": 46,
      "outputs": [
        {
          "output_type": "execute_result",
          "data": {
            "text/plain": [
              "tensor([[3, 4, 9],\n",
              "        [1, 7, 4],\n",
              "        [1, 7, 3],\n",
              "        [2, 7, 1]])"
            ]
          },
          "metadata": {},
          "execution_count": 46
        }
      ]
    },
    {
      "cell_type": "code",
      "source": [
        "tensor_B = torch.randint(low=1, high=10, size=(5, 3))\n",
        "tensor_B"
      ],
      "metadata": {
        "colab": {
          "base_uri": "https://localhost:8080/"
        },
        "id": "Czc6mEMkBM01",
        "outputId": "35cc5068-697a-43b5-db66-521801da0fc8"
      },
      "execution_count": 47,
      "outputs": [
        {
          "output_type": "execute_result",
          "data": {
            "text/plain": [
              "tensor([[1, 2, 9],\n",
              "        [1, 8, 3],\n",
              "        [2, 1, 7],\n",
              "        [5, 2, 8],\n",
              "        [8, 6, 2]])"
            ]
          },
          "metadata": {},
          "execution_count": 47
        }
      ]
    },
    {
      "cell_type": "markdown",
      "source": [
        "To fix our tensor shape issues, we can manupulate the shape of one of our tensors using a **transpose**.\n",
        "\n",
        "A **TRANSPOSE** switches the axes or dimension of a given tensor."
      ],
      "metadata": {
        "id": "7ai9dQuxC7TK"
      }
    },
    {
      "cell_type": "code",
      "source": [
        "tensor_A @ tensor_B.T"
      ],
      "metadata": {
        "colab": {
          "base_uri": "https://localhost:8080/"
        },
        "id": "_h7pSL92BrOu",
        "outputId": "c8bc9b29-434e-4190-f6d9-0a0156ee1d33"
      },
      "execution_count": 48,
      "outputs": [
        {
          "output_type": "execute_result",
          "data": {
            "text/plain": [
              "tensor([[92, 62, 73, 95, 66],\n",
              "        [51, 69, 37, 51, 58],\n",
              "        [42, 66, 30, 43, 56],\n",
              "        [25, 61, 18, 32, 60]])"
            ]
          },
          "metadata": {},
          "execution_count": 48
        }
      ]
    },
    {
      "cell_type": "code",
      "source": [
        "# How the matrix multiplication operation works when tensor_B is transpose.\n",
        "\n",
        "print(f'Original Shapes : tensor_A = {tensor_A.shape} and tensor_B = {tensor_B.shape}')\n",
        "print(f'New Shapes : tensor_A = {tensor_A.shape} and tensor_B.T = {tensor_B.T.shape}')\n",
        "print('Output : \\n')\n",
        "Output = tensor_A@tensor_B.T\n",
        "print(Output)\n",
        "print(f'\\nOutput Shape = {Output.shape}')"
      ],
      "metadata": {
        "colab": {
          "base_uri": "https://localhost:8080/"
        },
        "id": "hIEjzHDbB0uN",
        "outputId": "a9593972-5144-40be-f1f8-94222ba442f9"
      },
      "execution_count": 49,
      "outputs": [
        {
          "output_type": "stream",
          "name": "stdout",
          "text": [
            "Original Shapes : tensor_A = torch.Size([4, 3]) and tensor_B = torch.Size([5, 3])\n",
            "New Shapes : tensor_A = torch.Size([4, 3]) and tensor_B.T = torch.Size([3, 5])\n",
            "Output : \n",
            "\n",
            "tensor([[92, 62, 73, 95, 66],\n",
            "        [51, 69, 37, 51, 58],\n",
            "        [42, 66, 30, 43, 56],\n",
            "        [25, 61, 18, 32, 60]])\n",
            "\n",
            "Output Shape = torch.Size([4, 5])\n"
          ]
        }
      ]
    },
    {
      "cell_type": "markdown",
      "source": [
        "### Tensor Aggregation (Min, Max, Sum etc)"
      ],
      "metadata": {
        "id": "zHouUjTHdgoa"
      }
    },
    {
      "cell_type": "code",
      "source": [
        "# Create a tensor\n",
        "x = torch.arange(start=1, end=24, step=2)\n",
        "x"
      ],
      "metadata": {
        "colab": {
          "base_uri": "https://localhost:8080/"
        },
        "id": "NlhjYU1Ehv6e",
        "outputId": "713dc702-0720-4d81-8a7f-f73a0deece51"
      },
      "execution_count": 50,
      "outputs": [
        {
          "output_type": "execute_result",
          "data": {
            "text/plain": [
              "tensor([ 1,  3,  5,  7,  9, 11, 13, 15, 17, 19, 21, 23])"
            ]
          },
          "metadata": {},
          "execution_count": 50
        }
      ]
    },
    {
      "cell_type": "code",
      "source": [
        "# Min, Max, mean, sum\n",
        "print(f'Minimum : {torch.min(x)}')\n",
        "print(f'Maximum : {x.max()}')\n",
        "print(f'Mean : {torch.mean(x, dtype=torch.float16)}')\n",
        "print(f'sum : {x.sum()}')"
      ],
      "metadata": {
        "colab": {
          "base_uri": "https://localhost:8080/"
        },
        "id": "M0JQ8Dr2jkqX",
        "outputId": "3c0c0a39-2623-460a-faa5-d65662f88d54"
      },
      "execution_count": 51,
      "outputs": [
        {
          "output_type": "stream",
          "name": "stdout",
          "text": [
            "Minimum : 1\n",
            "Maximum : 23\n",
            "Mean : 12.0\n",
            "sum : 144\n"
          ]
        }
      ]
    },
    {
      "cell_type": "markdown",
      "source": [
        "### Finding the positional min and max values"
      ],
      "metadata": {
        "id": "hnRPymezjxyI"
      }
    },
    {
      "cell_type": "code",
      "source": [
        "x"
      ],
      "metadata": {
        "colab": {
          "base_uri": "https://localhost:8080/"
        },
        "id": "0IXG1l2Hk05P",
        "outputId": "29aa3096-8ff8-43d5-c36f-cfe89c64dfcd"
      },
      "execution_count": 52,
      "outputs": [
        {
          "output_type": "execute_result",
          "data": {
            "text/plain": [
              "tensor([ 1,  3,  5,  7,  9, 11, 13, 15, 17, 19, 21, 23])"
            ]
          },
          "metadata": {},
          "execution_count": 52
        }
      ]
    },
    {
      "cell_type": "code",
      "source": [
        "## Finding the position in tensor that has the minimum value with argmin() -> returns index position of target tensor where minimum value occurs\n",
        "x.argmin(), torch.argmin(x)"
      ],
      "metadata": {
        "colab": {
          "base_uri": "https://localhost:8080/"
        },
        "id": "bMBBsFohonF8",
        "outputId": "e02398a1-cd55-4de6-a068-e7449399ffb9"
      },
      "execution_count": 53,
      "outputs": [
        {
          "output_type": "execute_result",
          "data": {
            "text/plain": [
              "(tensor(0), tensor(0))"
            ]
          },
          "metadata": {},
          "execution_count": 53
        }
      ]
    },
    {
      "cell_type": "code",
      "source": [
        "xX = torch.randint(low=0, high=10, size=(1, 10))\n",
        "xX"
      ],
      "metadata": {
        "colab": {
          "base_uri": "https://localhost:8080/"
        },
        "id": "3aNjUgUKopt0",
        "outputId": "f77c6f18-8a01-4cf9-d425-61dd360911a6"
      },
      "execution_count": 54,
      "outputs": [
        {
          "output_type": "execute_result",
          "data": {
            "text/plain": [
              "tensor([[0, 2, 7, 9, 3, 4, 1, 7, 6, 2]])"
            ]
          },
          "metadata": {},
          "execution_count": 54
        }
      ]
    },
    {
      "cell_type": "code",
      "source": [
        "torch.argmax(x), x.argmax()"
      ],
      "metadata": {
        "colab": {
          "base_uri": "https://localhost:8080/"
        },
        "id": "5JlspEc1pLNI",
        "outputId": "33a2aa70-888a-403c-f599-fa3c7488dcdf"
      },
      "execution_count": 55,
      "outputs": [
        {
          "output_type": "execute_result",
          "data": {
            "text/plain": [
              "(tensor(11), tensor(11))"
            ]
          },
          "metadata": {},
          "execution_count": 55
        }
      ]
    },
    {
      "cell_type": "markdown",
      "source": [
        "### Reshaping, Stacking, Squeezinf, and Unsqueezing tensors\n",
        "\n",
        "* Reshaping - reshapes an input tensor to a defined shape\n",
        "* View - Return a view of an input tensor of certain shape but keep the same memory as the original tensor.\n",
        "* Statcking - Combine multiple tensors on top of each other (vstack) or side by side (hstack).\n",
        "* Squeeze - Remove all `1` dimensions from a tensor.\n",
        "* Unsqueeze - add a `1` dimension to a target tensor.\n",
        "* Permute - Return a view of the input with dimension permuted (swapped) in a certain way.\n",
        "\n",
        "\n",
        "#### **Important Note :**"
      ],
      "metadata": {
        "id": "L0ZTOSr9peuU"
      }
    },
    {
      "cell_type": "code",
      "source": [
        "# Add an extra dimension (Reshaping)\n",
        "import torch\n",
        "x = torch.arange(start=0, end=16, step=2)\n",
        "x_reshaped = torch.reshape(input=x, shape=(1, 8))\n",
        "x_reshaped, x, x_reshaped.shape, x.shape"
      ],
      "metadata": {
        "colab": {
          "base_uri": "https://localhost:8080/"
        },
        "id": "3uHIZg7vrCbr",
        "outputId": "ac0eb223-0c31-40ce-b9c3-d3cc37a5788b"
      },
      "execution_count": 56,
      "outputs": [
        {
          "output_type": "execute_result",
          "data": {
            "text/plain": [
              "(tensor([[ 0,  2,  4,  6,  8, 10, 12, 14]]),\n",
              " tensor([ 0,  2,  4,  6,  8, 10, 12, 14]),\n",
              " torch.Size([1, 8]),\n",
              " torch.Size([8]))"
            ]
          },
          "metadata": {},
          "execution_count": 56
        }
      ]
    },
    {
      "cell_type": "code",
      "source": [
        "x.shape, x.ndim"
      ],
      "metadata": {
        "colab": {
          "base_uri": "https://localhost:8080/"
        },
        "id": "8NgvVViQs_M1",
        "outputId": "c8d74c96-4d40-4dd3-c1ee-9da03ae187fe"
      },
      "execution_count": 57,
      "outputs": [
        {
          "output_type": "execute_result",
          "data": {
            "text/plain": [
              "(torch.Size([8]), 1)"
            ]
          },
          "metadata": {},
          "execution_count": 57
        }
      ]
    },
    {
      "cell_type": "code",
      "source": [
        "# Change the view\n",
        "z = x.view(4, 2)\n",
        "z, z.shape"
      ],
      "metadata": {
        "colab": {
          "base_uri": "https://localhost:8080/"
        },
        "id": "boWvwPWquWyZ",
        "outputId": "d99455e9-0c9c-44de-b91f-206196b9d35f"
      },
      "execution_count": 58,
      "outputs": [
        {
          "output_type": "execute_result",
          "data": {
            "text/plain": [
              "(tensor([[ 0,  2],\n",
              "         [ 4,  6],\n",
              "         [ 8, 10],\n",
              "         [12, 14]]),\n",
              " torch.Size([4, 2]))"
            ]
          },
          "metadata": {},
          "execution_count": 58
        }
      ]
    },
    {
      "cell_type": "code",
      "source": [
        "# Changing z changes x because a view of a tensor shares the same memory as the original tensor\n",
        "z[1:2,1] = 3\n",
        "print(f'View of x\\n {z}\\n\\n Tensor x : {x}')"
      ],
      "metadata": {
        "colab": {
          "base_uri": "https://localhost:8080/"
        },
        "id": "A1SpnMB40fwd",
        "outputId": "1a3c6c3e-47f0-4847-de91-cdbd879197a2"
      },
      "execution_count": 59,
      "outputs": [
        {
          "output_type": "stream",
          "name": "stdout",
          "text": [
            "View of x\n",
            " tensor([[ 0,  2],\n",
            "        [ 4,  3],\n",
            "        [ 8, 10],\n",
            "        [12, 14]])\n",
            "\n",
            " Tensor x : tensor([ 0,  2,  4,  3,  8, 10, 12, 14])\n"
          ]
        }
      ]
    },
    {
      "cell_type": "code",
      "source": [
        "# Stack tensors on top of each other\n",
        "\n",
        "x_stack = torch.stack([x, x, x, x], dim=0)\n",
        "x_stack"
      ],
      "metadata": {
        "colab": {
          "base_uri": "https://localhost:8080/"
        },
        "id": "35TiqH5T_rfm",
        "outputId": "6569c31d-ce01-43a1-f81c-b2d1e35654bf"
      },
      "execution_count": 60,
      "outputs": [
        {
          "output_type": "execute_result",
          "data": {
            "text/plain": [
              "tensor([[ 0,  2,  4,  3,  8, 10, 12, 14],\n",
              "        [ 0,  2,  4,  3,  8, 10, 12, 14],\n",
              "        [ 0,  2,  4,  3,  8, 10, 12, 14],\n",
              "        [ 0,  2,  4,  3,  8, 10, 12, 14]])"
            ]
          },
          "metadata": {},
          "execution_count": 60
        }
      ]
    },
    {
      "cell_type": "code",
      "source": [
        "# Squeeze and Unsqueeze - removes all the single dimension from the target tensor\n",
        "print(f'Previous tensor :{x_reshaped}')\n",
        "print(f'Previous tensor shape :{x_reshaped.shape}')\n",
        "\n",
        "#Revoves extra dimension from a tensor\n",
        "x_squeeze = torch.squeeze(input=x_reshaped, dim=0)\n",
        "print(f'\\nNew Tensor :{x_squeeze}')\n",
        "print(f'Shape of New Tensor : {x_squeeze.shape}')"
      ],
      "metadata": {
        "colab": {
          "base_uri": "https://localhost:8080/"
        },
        "id": "yeSW1PmJDCv8",
        "outputId": "a6ba6211-920f-4bfa-d869-c84c294257c2"
      },
      "execution_count": 61,
      "outputs": [
        {
          "output_type": "stream",
          "name": "stdout",
          "text": [
            "Previous tensor :tensor([[ 0,  2,  4,  3,  8, 10, 12, 14]])\n",
            "Previous tensor shape :torch.Size([1, 8])\n",
            "\n",
            "New Tensor :tensor([ 0,  2,  4,  3,  8, 10, 12, 14])\n",
            "Shape of New Tensor : torch.Size([8])\n"
          ]
        }
      ]
    },
    {
      "cell_type": "code",
      "source": [
        "print(f'Squeeze tensor : {x_squeeze}')\n",
        "print(f'Shape of Squeeze tensor :{x_squeeze.shape}')\n",
        "\n",
        "#Add an extra dimension to the tensor\n",
        "x_unsqueeze = torch.unsqueeze(input=x_squeeze, dim=0)\n",
        "print(f'\\nUnsqueeze Tensor :{x_unsqueeze}')\n",
        "print(f'Shape of unsqueeze tensor : {x_unsqueeze.shape}')"
      ],
      "metadata": {
        "colab": {
          "base_uri": "https://localhost:8080/"
        },
        "id": "5Z_KUTa6DzXs",
        "outputId": "a9a2eda9-2bb9-4db9-e83b-691568c689f8"
      },
      "execution_count": 62,
      "outputs": [
        {
          "output_type": "stream",
          "name": "stdout",
          "text": [
            "Squeeze tensor : tensor([ 0,  2,  4,  3,  8, 10, 12, 14])\n",
            "Shape of Squeeze tensor :torch.Size([8])\n",
            "\n",
            "Unsqueeze Tensor :tensor([[ 0,  2,  4,  3,  8, 10, 12, 14]])\n",
            "Shape of unsqueeze tensor : torch.Size([1, 8])\n"
          ]
        }
      ]
    },
    {
      "cell_type": "code",
      "source": [
        "# Permute ~ also called rearranging the order of axes values.\n",
        "\n",
        "# Create a tesnor as an image shape (height, width, colour)\n",
        "\n",
        "x_original = torch.rand(size=(224, 224, 3))\n",
        "print(f'Original Shape : {x_original.shape}')  # Height * Weight * Colour\n",
        "\n",
        "#permute the original tensor to rearrage the axis order.\n",
        "x_permute = torch.permute(x_original, dims=(2, 0, 1)) # rearrange to 0>1, 1>2, 2>0\n",
        "print(f'Permuted Shape : {x_permute.shape}')"
      ],
      "metadata": {
        "colab": {
          "base_uri": "https://localhost:8080/"
        },
        "id": "WxHTs5HlEKcK",
        "outputId": "ec047a5b-e905-49b1-9e69-7fd1f49ed7b8"
      },
      "execution_count": 63,
      "outputs": [
        {
          "output_type": "stream",
          "name": "stdout",
          "text": [
            "Original Shape : torch.Size([224, 224, 3])\n",
            "Permuted Shape : torch.Size([3, 224, 224])\n"
          ]
        }
      ]
    },
    {
      "cell_type": "code",
      "source": [
        "x_permute[0,0,0] = 666666\n",
        "print(x_permute[0,0,0])\n",
        "print(x_original[0,0,0])"
      ],
      "metadata": {
        "colab": {
          "base_uri": "https://localhost:8080/"
        },
        "id": "psTxrwrOE_oe",
        "outputId": "e3fd4052-4882-461c-f763-e4c88d8d7d75"
      },
      "execution_count": 64,
      "outputs": [
        {
          "output_type": "stream",
          "name": "stdout",
          "text": [
            "tensor(666666.)\n",
            "tensor(666666.)\n"
          ]
        }
      ]
    },
    {
      "cell_type": "markdown",
      "source": [
        "**important Note**\n",
        "Since permuting returns a iew(share the same data as the original), he values in the permuted tensor will be the same as the origincal and if you change the values in the view, it will change the value of the original."
      ],
      "metadata": {
        "id": "9OwoS4BeGGjv"
      }
    },
    {
      "cell_type": "code",
      "source": [
        "x_copy = x_permute\n",
        "x_copy[0,0,0]"
      ],
      "metadata": {
        "colab": {
          "base_uri": "https://localhost:8080/"
        },
        "id": "RVuepR2nGiml",
        "outputId": "ab4af9b3-9bd6-4cf1-c895-769812138090"
      },
      "execution_count": 65,
      "outputs": [
        {
          "output_type": "execute_result",
          "data": {
            "text/plain": [
              "tensor(666666.)"
            ]
          },
          "metadata": {},
          "execution_count": 65
        }
      ]
    },
    {
      "cell_type": "markdown",
      "source": [
        "### Indexing (Selecting data from tensor)\n",
        "\n",
        "Indexing in PyTorch is very similar to indexing in Python NumPy arrays"
      ],
      "metadata": {
        "id": "t-41IWiRHA5e"
      }
    },
    {
      "cell_type": "code",
      "source": [
        "# Create a tensor\n",
        "x_index = torch.arange(start=1, end=13).reshape(1, 4, 3)\n",
        "x_index"
      ],
      "metadata": {
        "colab": {
          "base_uri": "https://localhost:8080/"
        },
        "id": "0FP17iWTa-y6",
        "outputId": "5815232f-b451-45c0-d0ec-b5a7a451e386"
      },
      "execution_count": 66,
      "outputs": [
        {
          "output_type": "execute_result",
          "data": {
            "text/plain": [
              "tensor([[[ 1,  2,  3],\n",
              "         [ 4,  5,  6],\n",
              "         [ 7,  8,  9],\n",
              "         [10, 11, 12]]])"
            ]
          },
          "metadata": {},
          "execution_count": 66
        }
      ]
    },
    {
      "cell_type": "code",
      "source": [
        "x_index.shape, x_index.ndim"
      ],
      "metadata": {
        "colab": {
          "base_uri": "https://localhost:8080/"
        },
        "id": "iF-IPahabnuy",
        "outputId": "9c684b08-8b17-4557-9df1-d0b3e5d3812e"
      },
      "execution_count": 67,
      "outputs": [
        {
          "output_type": "execute_result",
          "data": {
            "text/plain": [
              "(torch.Size([1, 4, 3]), 3)"
            ]
          },
          "metadata": {},
          "execution_count": 67
        }
      ]
    },
    {
      "cell_type": "code",
      "source": [
        "x_index[0, 2:, 1:]"
      ],
      "metadata": {
        "colab": {
          "base_uri": "https://localhost:8080/"
        },
        "id": "CensxlAtmE80",
        "outputId": "147aca59-b3c6-42f3-a145-0382ddcc3773"
      },
      "execution_count": 68,
      "outputs": [
        {
          "output_type": "execute_result",
          "data": {
            "text/plain": [
              "tensor([[ 8,  9],\n",
              "        [11, 12]])"
            ]
          },
          "metadata": {},
          "execution_count": 68
        }
      ]
    },
    {
      "cell_type": "code",
      "source": [
        "x_index[0, 1, 1]"
      ],
      "metadata": {
        "colab": {
          "base_uri": "https://localhost:8080/"
        },
        "id": "--72QiSnmQ7b",
        "outputId": "cac23ce6-17e9-4f11-ecf3-5ded472dbd41"
      },
      "execution_count": 69,
      "outputs": [
        {
          "output_type": "execute_result",
          "data": {
            "text/plain": [
              "tensor(5)"
            ]
          },
          "metadata": {},
          "execution_count": 69
        }
      ]
    },
    {
      "cell_type": "markdown",
      "source": [
        "### PyTorch tensors and NumPy\n",
        "\n",
        "Since NumPy is a popular python numerical computing library. PyTorch has a functionality to intract with it nicely.\n",
        "\n",
        "The two main method you'll use for NumPy to PyTorch and visa versa are:\n",
        "\n",
        "* `torch.from_numpy(ndarray)` - NumPy array -> PyTorch tensor.\n",
        "* `torch.Tensor.numpy()` - PyTorch tensor to NumPy array"
      ],
      "metadata": {
        "id": "DiOUjmh_muzL"
      }
    },
    {
      "cell_type": "code",
      "source": [
        "# NumPy to PyTorch tensor\n",
        "import torch\n",
        "import numpy as np\n",
        "\n",
        "ndarray = np.arange(start=1., stop=13.).reshape(4, 3)\n",
        "ndarray, ndarray.shape, ndarray.ndim, ndarray.dtype"
      ],
      "metadata": {
        "colab": {
          "base_uri": "https://localhost:8080/"
        },
        "id": "tsMJ8s3anyma",
        "outputId": "f40f5f9a-7b04-45b0-ca82-03bfe81ef679"
      },
      "execution_count": 70,
      "outputs": [
        {
          "output_type": "execute_result",
          "data": {
            "text/plain": [
              "(array([[ 1.,  2.,  3.],\n",
              "        [ 4.,  5.,  6.],\n",
              "        [ 7.,  8.,  9.],\n",
              "        [10., 11., 12.]]),\n",
              " (4, 3),\n",
              " 2,\n",
              " dtype('float64'))"
            ]
          },
          "metadata": {},
          "execution_count": 70
        }
      ]
    },
    {
      "cell_type": "code",
      "source": [
        "tensors = torch.from_numpy(ndarray)\n",
        "tensors, tensors.shape, tensors.ndim, tensors.dtype"
      ],
      "metadata": {
        "colab": {
          "base_uri": "https://localhost:8080/"
        },
        "id": "36PuYMa_ovAT",
        "outputId": "d186e787-97ef-449e-ad57-fbfcacfb356d"
      },
      "execution_count": 71,
      "outputs": [
        {
          "output_type": "execute_result",
          "data": {
            "text/plain": [
              "(tensor([[ 1.,  2.,  3.],\n",
              "         [ 4.,  5.,  6.],\n",
              "         [ 7.,  8.,  9.],\n",
              "         [10., 11., 12.]], dtype=torch.float64),\n",
              " torch.Size([4, 3]),\n",
              " 2,\n",
              " torch.float64)"
            ]
          },
          "metadata": {},
          "execution_count": 71
        }
      ]
    },
    {
      "cell_type": "markdown",
      "source": [
        "**Important Note**\n",
        "\n",
        "By default, NumPy arrays are created with the datatype `float64` and if you convert it to a PyTorch tensor, it'll keep the same datatype (as above).\n",
        "\n",
        "However, many PyTorch calculations default to using `float32`.\n",
        "\n",
        "So if you want to convert your NumPy array (float64) -> PyTorch tensor (float64) -> PyTorch tensor (float32), you can use tensor = `torch.from_numpy(array).type(torch.float32)`.\n",
        "\n",
        "Because we reassigned tensor above, if you change the tensor, the array stays the same."
      ],
      "metadata": {
        "id": "1Fa6E9Bco-7S"
      }
    },
    {
      "cell_type": "code",
      "source": [
        "# change the array, keep the tensor -> checking if converting causes view i.e., sharing the same original memory.\n",
        "\n",
        "ndarray = ndarray + 1\n",
        "ndarray, tensors"
      ],
      "metadata": {
        "colab": {
          "base_uri": "https://localhost:8080/"
        },
        "id": "ATpYLzV0puGi",
        "outputId": "22b9a969-0d20-415c-d8ed-3ad23431f71c"
      },
      "execution_count": 72,
      "outputs": [
        {
          "output_type": "execute_result",
          "data": {
            "text/plain": [
              "(array([[ 2.,  3.,  4.],\n",
              "        [ 5.,  6.,  7.],\n",
              "        [ 8.,  9., 10.],\n",
              "        [11., 12., 13.]]),\n",
              " tensor([[ 1.,  2.,  3.],\n",
              "         [ 4.,  5.,  6.],\n",
              "         [ 7.,  8.,  9.],\n",
              "         [10., 11., 12.]], dtype=torch.float64))"
            ]
          },
          "metadata": {},
          "execution_count": 72
        }
      ]
    },
    {
      "cell_type": "code",
      "source": [
        "tensors = tensor.type(torch.float16)"
      ],
      "metadata": {
        "id": "JMOp8_i2rDzx"
      },
      "execution_count": 73,
      "outputs": []
    },
    {
      "cell_type": "code",
      "source": [
        "# Converting tensors to array\n",
        "c_ndarray = torch.Tensor.numpy(tensors)\n",
        "c_ndarray, c_ndarray.shape, c_ndarray.ndim, c_ndarray.dtype"
      ],
      "metadata": {
        "colab": {
          "base_uri": "https://localhost:8080/"
        },
        "id": "T1y4-8e3qfph",
        "outputId": "f96a3ac7-1d0a-4d72-e37a-0662ed66dfa8"
      },
      "execution_count": 74,
      "outputs": [
        {
          "output_type": "execute_result",
          "data": {
            "text/plain": [
              "(array([2., 4., 6.], dtype=float16), (3,), 1, dtype('float16'))"
            ]
          },
          "metadata": {},
          "execution_count": 74
        }
      ]
    },
    {
      "cell_type": "markdown",
      "source": [
        "### Reproducibility (trying to take the random out of random)\n",
        "\n",
        "As you learn more about neural networks and machine learning, you'll start to discover how much randomness plays a part.\n",
        "\n",
        "Well, pseudorandomness that is. Because after all, as they're designed, a computer is fundamentally deterministic (each step is predictable) so the randomness they create are simulated randomness (though there is debate on this too, but since I'm not a computer scientist, I'll let you find out more yourself).\n",
        "\n",
        "How does this relate to neural networks and deep learning then?\n",
        "\n",
        "We've discussed neural networks start with random numbers to describe patterns in data (these numbers are poor descriptions) and try to improve those random numbers using tensor operations (and a few other things we haven't discussed yet) to better describe patterns in data.\n",
        "\n",
        "In short:\n",
        "\n",
        "`start with random numbers -> tensor operations -> try to make better (again and again and again)`\n",
        "\n",
        "Although randomness is nice and powerful, sometimes you'd like there to be a little less randomness.\n",
        "\n",
        "Why?\n",
        "\n",
        "So you can perform repeatable experiments.\n",
        "\n",
        "For example, you create an algorithm capable of achieving X performance.\n",
        "\n",
        "And then your friend tries it out to verify you're not crazy.\n",
        "\n",
        "How could they do such a thing?\n",
        "\n",
        "That's where **reproducibility** comes in.\n",
        "\n",
        "In other words, can you get the same (or very similar) results on your computer running the same code as I get on mine?\n",
        "\n",
        "Let's see a brief example of reproducibility in PyTorch.\n",
        "\n",
        "We'll start by creating two random tensors, since they're random, you'd expect them to be different right?\n",
        "\n",
        "PyTorch Reproducibility : https://pytorch.org/docs/stable/notes/randomness.html\n",
        "Random Seed : https://en.wikipedia.org/wiki/Random_seed"
      ],
      "metadata": {
        "id": "k0Vrlix_xoPN"
      }
    },
    {
      "cell_type": "code",
      "source": [
        "import torch\n",
        "import random\n",
        "\n",
        "# Set random seed\n",
        "random_seed = 42\n",
        "torch.manual_seed(seed=random_seed)\n",
        "random_tensor_A = torch.rand(4, 3)\n",
        "\n",
        "#reset random seed everytime a new rand() is called\n",
        "torch.manual_seed(seed=random_seed)\n",
        "random_tensor_B = torch.rand(4, 3)\n",
        "\n",
        "print(f'\\nTensor A :{random_tensor_A}\\n')\n",
        "print(f'\\nTensor B :{random_tensor_B}\\n')\n",
        "print(f'Does Tensor A equal to Tensor B? (anywhere)')\n",
        "random_tensor_A == random_tensor_B"
      ],
      "metadata": {
        "colab": {
          "base_uri": "https://localhost:8080/"
        },
        "id": "yqiH7VNH7x47",
        "outputId": "d325192d-1229-47e9-b1ee-844651d24d84"
      },
      "execution_count": 75,
      "outputs": [
        {
          "output_type": "stream",
          "name": "stdout",
          "text": [
            "\n",
            "Tensor A :tensor([[0.8823, 0.9150, 0.3829],\n",
            "        [0.9593, 0.3904, 0.6009],\n",
            "        [0.2566, 0.7936, 0.9408],\n",
            "        [0.1332, 0.9346, 0.5936]])\n",
            "\n",
            "\n",
            "Tensor B :tensor([[0.8823, 0.9150, 0.3829],\n",
            "        [0.9593, 0.3904, 0.6009],\n",
            "        [0.2566, 0.7936, 0.9408],\n",
            "        [0.1332, 0.9346, 0.5936]])\n",
            "\n",
            "Does Tensor A equal to Tensor B? (anywhere)\n"
          ]
        },
        {
          "output_type": "execute_result",
          "data": {
            "text/plain": [
              "tensor([[True, True, True],\n",
              "        [True, True, True],\n",
              "        [True, True, True],\n",
              "        [True, True, True]])"
            ]
          },
          "metadata": {},
          "execution_count": 75
        }
      ]
    },
    {
      "cell_type": "markdown",
      "source": [
        "## Running Tensors and PyTorch objects on the GPUs (and making faster computations)\n",
        "\n",
        "GPUs = faster computation on numbers, thanks to CUDA + NVIDIA hardware + PyTorch"
      ],
      "metadata": {
        "id": "Eezq-aU09c89"
      }
    },
    {
      "cell_type": "markdown",
      "source": [
        "### 1. Getting a GPU\n",
        "\n",
        "1. Easiest - Use Google colab for a free GPU (Optins to upgrade as well)\n",
        "2. Use your own GPU - takes a little bit of setup and requires the investment of purchasing a GP, check this post for more infomation about the options you have for a New GPUs - https://timdettmers.com/2023/01/30/which-gpu-for-deep-learning/\n",
        "3. Use cloud computing - GCP, AWS, Azure, these services that allow you to rent computers on the cloud and access them\n",
        "\n",
        "For option 2, 3 PyTorch + GPU drivers (CUDA) takes a little bit of setting up, to do this, refer to PyTorch setup documentation : https://pytorch.org/get-started/locally/"
      ],
      "metadata": {
        "id": "Qz89o0mDrZLY"
      }
    },
    {
      "cell_type": "code",
      "source": [
        "!nvidia-smi"
      ],
      "metadata": {
        "colab": {
          "base_uri": "https://localhost:8080/"
        },
        "id": "UBBPkp3iun87",
        "outputId": "71fff9e3-0a45-420b-ef4a-25ec25a00220"
      },
      "execution_count": 76,
      "outputs": [
        {
          "output_type": "stream",
          "name": "stdout",
          "text": [
            "Mon Sep 30 13:43:44 2024       \n",
            "+---------------------------------------------------------------------------------------+\n",
            "| NVIDIA-SMI 535.104.05             Driver Version: 535.104.05   CUDA Version: 12.2     |\n",
            "|-----------------------------------------+----------------------+----------------------+\n",
            "| GPU  Name                 Persistence-M | Bus-Id        Disp.A | Volatile Uncorr. ECC |\n",
            "| Fan  Temp   Perf          Pwr:Usage/Cap |         Memory-Usage | GPU-Util  Compute M. |\n",
            "|                                         |                      |               MIG M. |\n",
            "|=========================================+======================+======================|\n",
            "|   0  Tesla T4                       Off | 00000000:00:04.0 Off |                    0 |\n",
            "| N/A   49C    P8              12W /  70W |      3MiB / 15360MiB |      0%      Default |\n",
            "|                                         |                      |                  N/A |\n",
            "+-----------------------------------------+----------------------+----------------------+\n",
            "                                                                                         \n",
            "+---------------------------------------------------------------------------------------+\n",
            "| Processes:                                                                            |\n",
            "|  GPU   GI   CI        PID   Type   Process name                            GPU Memory |\n",
            "|        ID   ID                                                             Usage      |\n",
            "|=======================================================================================|\n",
            "|  No running processes found                                                           |\n",
            "+---------------------------------------------------------------------------------------+\n"
          ]
        }
      ]
    },
    {
      "cell_type": "markdown",
      "source": [
        "### 2. Checking is the GPU acess in PyTorch"
      ],
      "metadata": {
        "id": "cACqYPTaNLf-"
      }
    },
    {
      "cell_type": "code",
      "source": [
        "# Check for GPU access\n",
        "\n",
        "torch.cuda.is_available()"
      ],
      "metadata": {
        "colab": {
          "base_uri": "https://localhost:8080/"
        },
        "id": "JNU54fjpwXr_",
        "outputId": "e656f6dd-6998-49cd-e3f8-b4d65ed983cc"
      },
      "execution_count": 77,
      "outputs": [
        {
          "output_type": "execute_result",
          "data": {
            "text/plain": [
              "True"
            ]
          },
          "metadata": {},
          "execution_count": 77
        }
      ]
    },
    {
      "cell_type": "code",
      "source": [
        "# Setup device agnostic code\n",
        "device = \"\"\n",
        "if torch.cuda.is_available():\n",
        "  device = \"cuda\"\n",
        "else:\n",
        "  device = \"cpu\"\n",
        "\n",
        "print(f\"Process type : {device}\")\n",
        "print(f'Number of device(s) : {torch.cuda.device_count()}')"
      ],
      "metadata": {
        "colab": {
          "base_uri": "https://localhost:8080/"
        },
        "id": "e6rpOLOhLgDf",
        "outputId": "6924fb1e-9c07-45f8-ec0e-afdd78320b2f"
      },
      "execution_count": 83,
      "outputs": [
        {
          "output_type": "stream",
          "name": "stdout",
          "text": [
            "Process type : cuda\n",
            "Number of device(s) : 1\n"
          ]
        }
      ]
    },
    {
      "cell_type": "markdown",
      "source": [
        "### 3. Putting tensors (and models) on the GPU\n",
        "\n",
        "The reason we want our tensors/model on the GPU is beacause using a GPU results in faster computations."
      ],
      "metadata": {
        "id": "t45LKYz6MBMO"
      }
    },
    {
      "cell_type": "code",
      "source": [
        "# Create a tensor\n",
        "\n",
        "x = torch.arange(1, 10)\n",
        "print(x, x.device)"
      ],
      "metadata": {
        "colab": {
          "base_uri": "https://localhost:8080/"
        },
        "id": "otlypwD-Nl9d",
        "outputId": "38f30264-3cb4-4d8b-aea7-fb4d8dd09382"
      },
      "execution_count": 84,
      "outputs": [
        {
          "output_type": "stream",
          "name": "stdout",
          "text": [
            "tensor([1, 2, 3, 4, 5, 6, 7, 8, 9]) cpu\n"
          ]
        }
      ]
    },
    {
      "cell_type": "code",
      "source": [
        "# Move tensor to GPU (if available)\n",
        "x_on_gpu = x.to(torch.device(device))\n",
        "x_on_gpu, x_on_gpu.device"
      ],
      "metadata": {
        "colab": {
          "base_uri": "https://localhost:8080/"
        },
        "id": "ADf8Tds1PRY2",
        "outputId": "df4718e2-4ad6-4d06-95b2-aedc5a048ea0"
      },
      "execution_count": 94,
      "outputs": [
        {
          "output_type": "execute_result",
          "data": {
            "text/plain": [
              "(tensor([1, 2, 3, 4, 5, 6, 7, 8, 9], device='cuda:0'),\n",
              " device(type='cuda', index=0))"
            ]
          },
          "metadata": {},
          "execution_count": 94
        }
      ]
    },
    {
      "cell_type": "markdown",
      "source": [
        "### 4. Moving tensors back to the CPU\n",
        "\n",
        "If tensor is in GPU, we can't move to NumPy. To fix this issue, set it to device 'cpu'"
      ],
      "metadata": {
        "id": "nwTt901tPq4U"
      }
    },
    {
      "cell_type": "code",
      "source": [
        "x_on_cpu = x_on_gpu.cpu().numpy()\n",
        "x_on_cpu, x_on_cpu.dtype"
      ],
      "metadata": {
        "colab": {
          "base_uri": "https://localhost:8080/"
        },
        "id": "BsJqKRq7QHRH",
        "outputId": "a057bb2f-a7be-4296-a235-88f78b8782ad"
      },
      "execution_count": 93,
      "outputs": [
        {
          "output_type": "execute_result",
          "data": {
            "text/plain": [
              "(array([1, 2, 3, 4, 5, 6, 7, 8, 9]), dtype('int64'))"
            ]
          },
          "metadata": {},
          "execution_count": 93
        }
      ]
    },
    {
      "cell_type": "code",
      "source": [],
      "metadata": {
        "id": "VAkj2vSwT4sJ"
      },
      "execution_count": null,
      "outputs": []
    }
  ]
}